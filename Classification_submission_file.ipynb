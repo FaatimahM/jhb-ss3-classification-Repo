{
  "nbformat": 4,
  "nbformat_minor": 0,
  "metadata": {
    "colab": {
      "name": "Classification_submission_file.ipynb",
      "provenance": [],
      "toc_visible": true,
      "include_colab_link": true
    },
    "kernelspec": {
      "display_name": "Python 3",
      "language": "python",
      "name": "python3"
    },
    "language_info": {
      "codemirror_mode": {
        "name": "ipython",
        "version": 3
      },
      "file_extension": ".py",
      "mimetype": "text/x-python",
      "name": "python",
      "nbconvert_exporter": "python",
      "pygments_lexer": "ipython3",
      "version": "3.7.3"
    },
    "toc": {
      "base_numbering": 1,
      "nav_menu": {},
      "number_sections": true,
      "sideBar": true,
      "skip_h1_title": false,
      "title_cell": "Table of Contents",
      "title_sidebar": "Contents",
      "toc_cell": true,
      "toc_position": {
        "height": "calc(100% - 180px)",
        "left": "10px",
        "top": "150px",
        "width": "275px"
      },
      "toc_section_display": true,
      "toc_window_display": false
    }
  },
  "cells": [
    {
      "cell_type": "markdown",
      "metadata": {
        "id": "view-in-github",
        "colab_type": "text"
      },
      "source": [
        "<a href=\"https://colab.research.google.com/github/Maredipinkydimakatso/jhb-ss3-classification-Repo/blob/master/Classification_submission_file.ipynb\" target=\"_parent\"><img src=\"https://colab.research.google.com/assets/colab-badge.svg\" alt=\"Open In Colab\"/></a>"
      ]
    },
    {
      "cell_type": "markdown",
      "metadata": {
        "toc": true,
        "id": "hOeTLNk8H977",
        "colab_type": "text"
      },
      "source": [
        "<h1>Table of Contents<span class=\"tocSkip\"></span></h1>\n",
        "<div class=\"toc\"><ul class=\"toc-item\"><li><span><a href=\"#Background\" data-toc-modified-id=\"Background-1\"><span class=\"toc-item-num\">1&nbsp;&nbsp;</span>Background</a></span></li><li><span><a href=\"#Introduction\" data-toc-modified-id=\"Introduction-2\"><span class=\"toc-item-num\">2&nbsp;&nbsp;</span>Introduction</a></span></li><li><span><a href=\"#Libraries\" data-toc-modified-id=\"Libraries-3\"><span class=\"toc-item-num\">3&nbsp;&nbsp;</span>Libraries</a></span></li><li><span><a href=\"#Data\" data-toc-modified-id=\"Data-4\"><span class=\"toc-item-num\">4&nbsp;&nbsp;</span>Data</a></span><ul class=\"toc-item\"><li><span><a href=\"#Overview\" data-toc-modified-id=\"Overview-4.1\"><span class=\"toc-item-num\">4.1&nbsp;&nbsp;</span>Overview</a></span></li><li><span><a href=\"#Missing-values\" data-toc-modified-id=\"Missing-values-4.2\"><span class=\"toc-item-num\">4.2&nbsp;&nbsp;</span>Missing values</a></span></li><li><span><a href=\"#Duplicates\" data-toc-modified-id=\"Duplicates-4.3\"><span class=\"toc-item-num\">4.3&nbsp;&nbsp;</span>Duplicates</a></span></li></ul></li><li><span><a href=\"#Exploratory-Data-Analysis\" data-toc-modified-id=\"Exploratory-Data-Analysis-5\"><span class=\"toc-item-num\">5&nbsp;&nbsp;</span>Exploratory Data Analysis</a></span><ul class=\"toc-item\"><li><span><a href=\"#Overview\" data-toc-modified-id=\"Overview-5.1\"><span class=\"toc-item-num\">5.1&nbsp;&nbsp;</span>Overview</a></span></li><li><span><a href=\"#Feature-Engineering\" data-toc-modified-id=\"Feature-Engineering-5.2\"><span class=\"toc-item-num\">5.2&nbsp;&nbsp;</span>Feature Engineering</a></span></li></ul></li><li><span><a href=\"#Modeling\" data-toc-modified-id=\"Modeling-6\"><span class=\"toc-item-num\">6&nbsp;&nbsp;</span>Modeling</a></span><ul class=\"toc-item\"><li><span><a href=\"#Data-Prepocessing\" data-toc-modified-id=\"Data-Prepocessing-6.1\"><span class=\"toc-item-num\">6.1&nbsp;&nbsp;</span>Data Prepocessing</a></span></li><li><span><a href=\"#Machine-Learning\" data-toc-modified-id=\"Machine-Learning-6.2\"><span class=\"toc-item-num\">6.2&nbsp;&nbsp;</span>Machine Learning</a></span><ul class=\"toc-item\"><li><span><a href=\"#Logistic-Regression\" data-toc-modified-id=\"Logistic-Regression-6.2.1\"><span class=\"toc-item-num\">6.2.1&nbsp;&nbsp;</span>Logistic Regression</a></span></li><li><span><a href=\"#Support-Vector-Machines\" data-toc-modified-id=\"Support-Vector-Machines-6.2.2\"><span class=\"toc-item-num\">6.2.2&nbsp;&nbsp;</span>Support Vector Machines</a></span></li><li><span><a href=\"#KNearest-Neighbors\" data-toc-modified-id=\"KNearest-Neighbors-6.2.3\"><span class=\"toc-item-num\">6.2.3&nbsp;&nbsp;</span>KNearest Neighbors</a></span></li><li><span><a href=\"#Naive-Bayes\" data-toc-modified-id=\"Naive-Bayes-6.2.4\"><span class=\"toc-item-num\">6.2.4&nbsp;&nbsp;</span>Naive Bayes</a></span></li><li><span><a href=\"#Decision-Tree\" data-toc-modified-id=\"Decision-Tree-6.2.5\"><span class=\"toc-item-num\">6.2.5&nbsp;&nbsp;</span>Decision Tree</a></span></li><li><span><a href=\"#Neural-Networks\" data-toc-modified-id=\"Neural-Networks-6.2.6\"><span class=\"toc-item-num\">6.2.6&nbsp;&nbsp;</span>Neural Networks</a></span></li></ul></li><li><span><a href=\"#Ensemble-models\" data-toc-modified-id=\"Ensemble-models-6.3\"><span class=\"toc-item-num\">6.3&nbsp;&nbsp;</span>Ensemble models</a></span><ul class=\"toc-item\"><li><span><a href=\"#RandomForestClassifier\" data-toc-modified-id=\"RandomForestClassifier-6.3.1\"><span class=\"toc-item-num\">6.3.1&nbsp;&nbsp;</span>RandomForestClassifier</a></span></li><li><span><a href=\"#VotingClassifier\" data-toc-modified-id=\"VotingClassifier-6.3.2\"><span class=\"toc-item-num\">6.3.2&nbsp;&nbsp;</span>VotingClassifier</a></span></li><li><span><a href=\"#BaggingClassifier\" data-toc-modified-id=\"BaggingClassifier-6.3.3\"><span class=\"toc-item-num\">6.3.3&nbsp;&nbsp;</span>BaggingClassifier</a></span></li></ul></li></ul></li><li><span><a href=\"#Balancing-the-data\" data-toc-modified-id=\"Balancing-the-data-7\"><span class=\"toc-item-num\">7&nbsp;&nbsp;</span>Balancing the data</a></span><ul class=\"toc-item\"><li><span><a href=\"#Downsampling\" data-toc-modified-id=\"Downsampling-7.1\"><span class=\"toc-item-num\">7.1&nbsp;&nbsp;</span>Downsampling</a></span></li><li><span><a href=\"#Upsampling\" data-toc-modified-id=\"Upsampling-7.2\"><span class=\"toc-item-num\">7.2&nbsp;&nbsp;</span>Upsampling</a></span></li><li><span><a href=\"#SMOTE\" data-toc-modified-id=\"SMOTE-7.3\"><span class=\"toc-item-num\">7.3&nbsp;&nbsp;</span>SMOTE</a></span></li></ul></li><li><span><a href=\"#Results\" data-toc-modified-id=\"Results-8\"><span class=\"toc-item-num\">8&nbsp;&nbsp;</span>Results</a></span></li><li><span><a href=\"#Conclusion\" data-toc-modified-id=\"Conclusion-9\"><span class=\"toc-item-num\">9&nbsp;&nbsp;</span>Conclusion</a></span></li></ul></div>"
      ]
    },
    {
      "cell_type": "markdown",
      "metadata": {
        "colab_type": "text",
        "id": "view-in-github"
      },
      "source": [
        "<a href=\"https://colab.research.google.com/github/Maredipinkydimakatso/jhb-ss3-classification-Repo/blob/master/Classification_submission_file.ipynb\" target=\"_parent\"><img src=\"https://colab.research.google.com/assets/colab-badge.svg\" alt=\"Open In Colab\"/></a>"
      ]
    },
    {
      "cell_type": "code",
      "metadata": {
        "colab_type": "code",
        "id": "VzwndLJZed7t",
        "colab": {}
      },
      "source": [
        "# Background"
      ],
      "execution_count": 4,
      "outputs": []
    },
    {
      "cell_type": "markdown",
      "metadata": {
        "id": "fsH1Q0tiH98L",
        "colab_type": "text"
      },
      "source": [
        "The earth climates is changing very fast and differently nowadays climate changes in our earth are affecting our lives psychologically, physically and emotionally. some see it as a natural occurrence and others see it as a man made catastrophe, the fact is simple that the world climate is changing What is climate change? Climate change is the seasonal changes for a long period of time in the world. The climate patterns effect our economies and ecosystems For example, the changes in climate can affect how people, plants and animal live, such as food production and health risks.\n",
        "\n",
        "the earth’s climate is very broad and always changing causing a good deal concern for us as humans.However, what are the causes and effects of climate changes that affecting our lives and environment?\n",
        "\n",
        "There are two main causes of climate changes – natural causes and human activities. Natural causes have influenced the earth’s climates such as volcanic eruptions, ocean current, the earth’s orbital changes and solar variations.\n",
        "\n",
        "All the causes are giving a great impact for climate changes in our earth.the consequences We can see that there are three main effects on climate changes in our environment. Firstly, climate change in the world affects human health. There are so many past researches showed that climate change will leads to human health and producing diseases. Secondly, climate changes will also affect the biodiversity. Biodiversity is very important for the plants and animals to maintain their habitat and ecosystem. The climate changes have impacted the loss of biodiversity.\n",
        "\n",
        "When we have a look at our Neutral occurrence sentiment graph each of these topics are becoming more and more relevant each day and rightfully so.This has made the “#climate” thee most talked about topic on the news and social media\n",
        "\n",
        "Trump once said “Nobody really knows if it climate change is real as we can see in our anti class graph he is number one in trends.This has proved to be untrue according to a survey, over 97% of scientists say that climate change was mostly if not all man made.The president of the U.S went as far as branding it’s former president Mr Obama’s climate change legacy as “stupid”.The Obama rule was devised to shut down hundreds of heavily polluting coal-fired power plants and freeze construction of new coal plants, while replacing them with vast wind and solar farms. Which sounded like a great idea to me.These series of tweets lands him on our highest trend on our anti graph"
      ]
    },
    {
      "cell_type": "markdown",
      "metadata": {
        "id": "KdVr3roeH98N",
        "colab_type": "text"
      },
      "source": [
        "# Introduction"
      ]
    },
    {
      "cell_type": "markdown",
      "metadata": {
        "id": "wpt_dvitH98Q",
        "colab_type": "text"
      },
      "source": [
        "* Information about this classification sprint, what was the task at hand "
      ]
    },
    {
      "cell_type": "code",
      "metadata": {
        "id": "FmxCh5jXH98R",
        "colab_type": "code",
        "colab": {}
      },
      "source": [
        ""
      ],
      "execution_count": 4,
      "outputs": []
    },
    {
      "cell_type": "code",
      "metadata": {
        "id": "YtwhCJOlH98Z",
        "colab_type": "code",
        "colab": {}
      },
      "source": [
        ""
      ],
      "execution_count": 4,
      "outputs": []
    },
    {
      "cell_type": "markdown",
      "metadata": {
        "id": "6IxSkQkcH98h",
        "colab_type": "text"
      },
      "source": [
        "# Libraries"
      ]
    },
    {
      "cell_type": "code",
      "metadata": {
        "id": "6A2UHaV7H98i",
        "colab_type": "code",
        "colab": {}
      },
      "source": [
        "# standard libraries\n",
        "import pandas as pd\n",
        "import numpy as np\n",
        "\n",
        "# plotting libraries\n",
        "import matplotlib.pyplot as plt\n",
        "from matplotlib.pyplot import rcParams\n",
        "import seaborn as sns\n",
        "%matplotlib inline\n",
        "rcParams['figure.figsize'] = 10,8\n",
        "sns.set(style='whitegrid', palette='muted')\n",
        "\n",
        "# text analysis libraries\n",
        "import re\n",
        "import spacy\n",
        "import string\n",
        "\n",
        "# model building and valuation libraries\n",
        "from sklearn.model_selection import train_test_split, GridSearchCV\n",
        "from sklearn.metrics import confusion_matrix, classification_report\n",
        "from sklearn.metrics import f1_score, recall_score, precision_score, make_scorer\n",
        "from sklearn.pipeline import Pipeline\n",
        "from sklearn.feature_extraction.text import TfidfVectorizer\n",
        "\n",
        "# other libraries\n",
        "import warnings\n",
        "warnings.filterwarnings('ignore')"
      ],
      "execution_count": 5,
      "outputs": []
    },
    {
      "cell_type": "markdown",
      "metadata": {
        "id": "gC5_3gnPH98p",
        "colab_type": "text"
      },
      "source": [
        "# Data"
      ]
    },
    {
      "cell_type": "markdown",
      "metadata": {
        "id": "zAZdhsxUH98q",
        "colab_type": "text"
      },
      "source": [
        "## Overview"
      ]
    },
    {
      "cell_type": "code",
      "metadata": {
        "id": "jzbUvBtJH98r",
        "colab_type": "code",
        "colab": {}
      },
      "source": [
        "df = pd.read_csv('train.csv')"
      ],
      "execution_count": 6,
      "outputs": []
    },
    {
      "cell_type": "code",
      "metadata": {
        "id": "gvW1Oxn1H98x",
        "colab_type": "code",
        "colab": {
          "base_uri": "https://localhost:8080/",
          "height": 204
        },
        "outputId": "763dfc4e-91cf-463f-da84-f4771c150460"
      },
      "source": [
        "# Check the first five rows of the dataframe\n",
        "df.head()"
      ],
      "execution_count": 7,
      "outputs": [
        {
          "output_type": "execute_result",
          "data": {
            "text/html": [
              "<div>\n",
              "<style scoped>\n",
              "    .dataframe tbody tr th:only-of-type {\n",
              "        vertical-align: middle;\n",
              "    }\n",
              "\n",
              "    .dataframe tbody tr th {\n",
              "        vertical-align: top;\n",
              "    }\n",
              "\n",
              "    .dataframe thead th {\n",
              "        text-align: right;\n",
              "    }\n",
              "</style>\n",
              "<table border=\"1\" class=\"dataframe\">\n",
              "  <thead>\n",
              "    <tr style=\"text-align: right;\">\n",
              "      <th></th>\n",
              "      <th>sentiment</th>\n",
              "      <th>message</th>\n",
              "      <th>tweetid</th>\n",
              "    </tr>\n",
              "  </thead>\n",
              "  <tbody>\n",
              "    <tr>\n",
              "      <th>0</th>\n",
              "      <td>1</td>\n",
              "      <td>PolySciMajor EPA chief doesn't think carbon di...</td>\n",
              "      <td>625221</td>\n",
              "    </tr>\n",
              "    <tr>\n",
              "      <th>1</th>\n",
              "      <td>1</td>\n",
              "      <td>It's not like we lack evidence of anthropogeni...</td>\n",
              "      <td>126103</td>\n",
              "    </tr>\n",
              "    <tr>\n",
              "      <th>2</th>\n",
              "      <td>2</td>\n",
              "      <td>RT @RawStory: Researchers say we have three ye...</td>\n",
              "      <td>698562</td>\n",
              "    </tr>\n",
              "    <tr>\n",
              "      <th>3</th>\n",
              "      <td>1</td>\n",
              "      <td>#TodayinMaker# WIRED : 2016 was a pivotal year...</td>\n",
              "      <td>573736</td>\n",
              "    </tr>\n",
              "    <tr>\n",
              "      <th>4</th>\n",
              "      <td>1</td>\n",
              "      <td>RT @SoyNovioDeTodas: It's 2016, and a racist, ...</td>\n",
              "      <td>466954</td>\n",
              "    </tr>\n",
              "  </tbody>\n",
              "</table>\n",
              "</div>"
            ],
            "text/plain": [
              "   sentiment                                            message  tweetid\n",
              "0          1  PolySciMajor EPA chief doesn't think carbon di...   625221\n",
              "1          1  It's not like we lack evidence of anthropogeni...   126103\n",
              "2          2  RT @RawStory: Researchers say we have three ye...   698562\n",
              "3          1  #TodayinMaker# WIRED : 2016 was a pivotal year...   573736\n",
              "4          1  RT @SoyNovioDeTodas: It's 2016, and a racist, ...   466954"
            ]
          },
          "metadata": {
            "tags": []
          },
          "execution_count": 7
        }
      ]
    },
    {
      "cell_type": "code",
      "metadata": {
        "id": "yNpOFr9PH987",
        "colab_type": "code",
        "colab": {
          "base_uri": "https://localhost:8080/",
          "height": 187
        },
        "outputId": "85fa1042-a390-4c0b-e5ab-89decf85b295"
      },
      "source": [
        "df.info()"
      ],
      "execution_count": 8,
      "outputs": [
        {
          "output_type": "stream",
          "text": [
            "<class 'pandas.core.frame.DataFrame'>\n",
            "RangeIndex: 15819 entries, 0 to 15818\n",
            "Data columns (total 3 columns):\n",
            " #   Column     Non-Null Count  Dtype \n",
            "---  ------     --------------  ----- \n",
            " 0   sentiment  15819 non-null  int64 \n",
            " 1   message    15819 non-null  object\n",
            " 2   tweetid    15819 non-null  int64 \n",
            "dtypes: int64(2), object(1)\n",
            "memory usage: 370.9+ KB\n"
          ],
          "name": "stdout"
        }
      ]
    },
    {
      "cell_type": "markdown",
      "metadata": {
        "id": "QarclmzuH99C",
        "colab_type": "text"
      },
      "source": [
        "The data frame consists of three columns, sentiment which is an interger value refering to the tweet class.\n",
        "\n",
        "| **Class** | **Description** |\n",
        "| :----------: | :------------- |\n",
        "| 2 | **News:** the tweet links to factual news about climate change |\n",
        "| 1 | **Pro:** the tweet supports the belief of man-made climate change |\n",
        "| 0 | **Neutral:** the tweet neither supports nor refutes the belief of man-made climate change |\n",
        "| -1 | **Anti:** the tweet does not believe in man-made climate change |\n",
        "\n",
        "source: https://www.kaggle.com/c/climate-change-belief-analysis/data\n",
        "\n",
        "The message column is in text format for tweets collected from April 2015 to February 2018 on people expressing the belief \n",
        "about man-made climate change. The tweetid is a unique integer value corresponding to the tweet message."
      ]
    },
    {
      "cell_type": "code",
      "metadata": {
        "id": "Yr16b163H99D",
        "colab_type": "code",
        "colab": {
          "base_uri": "https://localhost:8080/",
          "height": 34
        },
        "outputId": "56aca0e2-6776-4e06-8166-caa257d7b55f"
      },
      "source": [
        "print(f'The dataframe consists of {len(df)} twitter messages.')"
      ],
      "execution_count": 9,
      "outputs": [
        {
          "output_type": "stream",
          "text": [
            "The dataframe consists of 15819 twitter messages.\n"
          ],
          "name": "stdout"
        }
      ]
    },
    {
      "cell_type": "markdown",
      "metadata": {
        "id": "t5eAIREXH99I",
        "colab_type": "text"
      },
      "source": [
        "## Missing values"
      ]
    },
    {
      "cell_type": "code",
      "metadata": {
        "id": "NPgTdl0ZH99J",
        "colab_type": "code",
        "colab": {
          "base_uri": "https://localhost:8080/",
          "height": 0
        },
        "outputId": "a833f878-2411-4864-d88f-b8299753189f"
      },
      "source": [
        "# Check for NaN entries\n",
        "df.isnull().sum()"
      ],
      "execution_count": 10,
      "outputs": [
        {
          "output_type": "execute_result",
          "data": {
            "text/plain": [
              "sentiment    0\n",
              "message      0\n",
              "tweetid      0\n",
              "dtype: int64"
            ]
          },
          "metadata": {
            "tags": []
          },
          "execution_count": 10
        }
      ]
    },
    {
      "cell_type": "markdown",
      "metadata": {
        "id": "h6YBkafFH99O",
        "colab_type": "text"
      },
      "source": [
        "There are currently no missing values in the dataset."
      ]
    },
    {
      "cell_type": "code",
      "metadata": {
        "id": "HihdfVIaH99P",
        "colab_type": "code",
        "colab": {}
      },
      "source": [
        "# Sometimes empty strings can be regarded as not being null, therefore there has to be a check for empty strings message column.\n",
        "blanks = []\n",
        "for index, sentiment, message, tweetid in df.itertuples():\n",
        "    if message.isspace():\n",
        "        blanks.append(index)"
      ],
      "execution_count": 11,
      "outputs": []
    },
    {
      "cell_type": "code",
      "metadata": {
        "id": "iaKqrEJBH99b",
        "colab_type": "code",
        "colab": {
          "base_uri": "https://localhost:8080/",
          "height": 0
        },
        "outputId": "f767b076-1fb4-4a54-a1b3-a55806c190ac"
      },
      "source": [
        "blanks"
      ],
      "execution_count": 12,
      "outputs": [
        {
          "output_type": "execute_result",
          "data": {
            "text/plain": [
              "[]"
            ]
          },
          "metadata": {
            "tags": []
          },
          "execution_count": 12
        }
      ]
    },
    {
      "cell_type": "markdown",
      "metadata": {
        "id": "YQXixbY8H99h",
        "colab_type": "text"
      },
      "source": [
        "Similarly, there appears to be no empty strings in the dataset."
      ]
    },
    {
      "cell_type": "markdown",
      "metadata": {
        "id": "tZ31irXTH99i",
        "colab_type": "text"
      },
      "source": [
        "## Duplicates"
      ]
    },
    {
      "cell_type": "code",
      "metadata": {
        "id": "fsASWEWDH99j",
        "colab_type": "code",
        "colab": {}
      },
      "source": [
        "# Original length of dataset \n",
        "original_len = len(df)"
      ],
      "execution_count": 13,
      "outputs": []
    },
    {
      "cell_type": "code",
      "metadata": {
        "id": "g6IaRJK7H99o",
        "colab_type": "code",
        "colab": {
          "base_uri": "https://localhost:8080/",
          "height": 0
        },
        "outputId": "14bf7f1c-18a3-447f-d06f-6375c400d88c"
      },
      "source": [
        "original_len"
      ],
      "execution_count": 14,
      "outputs": [
        {
          "output_type": "execute_result",
          "data": {
            "text/plain": [
              "15819"
            ]
          },
          "metadata": {
            "tags": []
          },
          "execution_count": 14
        }
      ]
    },
    {
      "cell_type": "code",
      "metadata": {
        "id": "SNPJ7ADSH99x",
        "colab_type": "code",
        "colab": {}
      },
      "source": [
        "all_duplicates = df[df.duplicated(['message'])]"
      ],
      "execution_count": 15,
      "outputs": []
    },
    {
      "cell_type": "code",
      "metadata": {
        "id": "pJ8mq2qJH992",
        "colab_type": "code",
        "colab": {
          "base_uri": "https://localhost:8080/",
          "height": 0
        },
        "outputId": "bb851520-0965-4773-f452-acae022fde55"
      },
      "source": [
        "all_duplicates.head(10)"
      ],
      "execution_count": 16,
      "outputs": [
        {
          "output_type": "execute_result",
          "data": {
            "text/html": [
              "<div>\n",
              "<style scoped>\n",
              "    .dataframe tbody tr th:only-of-type {\n",
              "        vertical-align: middle;\n",
              "    }\n",
              "\n",
              "    .dataframe tbody tr th {\n",
              "        vertical-align: top;\n",
              "    }\n",
              "\n",
              "    .dataframe thead th {\n",
              "        text-align: right;\n",
              "    }\n",
              "</style>\n",
              "<table border=\"1\" class=\"dataframe\">\n",
              "  <thead>\n",
              "    <tr style=\"text-align: right;\">\n",
              "      <th></th>\n",
              "      <th>sentiment</th>\n",
              "      <th>message</th>\n",
              "      <th>tweetid</th>\n",
              "    </tr>\n",
              "  </thead>\n",
              "  <tbody>\n",
              "    <tr>\n",
              "      <th>51</th>\n",
              "      <td>1</td>\n",
              "      <td>RT @StephenSchlegel: she's thinking about how ...</td>\n",
              "      <td>785499</td>\n",
              "    </tr>\n",
              "    <tr>\n",
              "      <th>70</th>\n",
              "      <td>1</td>\n",
              "      <td>RT @kelkulus: Irony: Florida, a state in dange...</td>\n",
              "      <td>857540</td>\n",
              "    </tr>\n",
              "    <tr>\n",
              "      <th>98</th>\n",
              "      <td>1</td>\n",
              "      <td>RT @StephenSchlegel: she's thinking about how ...</td>\n",
              "      <td>603318</td>\n",
              "    </tr>\n",
              "    <tr>\n",
              "      <th>112</th>\n",
              "      <td>1</td>\n",
              "      <td>RT @SenSanders: We have a president-elect who ...</td>\n",
              "      <td>664093</td>\n",
              "    </tr>\n",
              "    <tr>\n",
              "      <th>122</th>\n",
              "      <td>1</td>\n",
              "      <td>RT @StephenSchlegel: she's thinking about how ...</td>\n",
              "      <td>97375</td>\n",
              "    </tr>\n",
              "    <tr>\n",
              "      <th>123</th>\n",
              "      <td>1</td>\n",
              "      <td>RT @SethMacFarlane: HRC proposes installing ha...</td>\n",
              "      <td>383885</td>\n",
              "    </tr>\n",
              "    <tr>\n",
              "      <th>142</th>\n",
              "      <td>1</td>\n",
              "      <td>RT @StephenSchlegel: she's thinking about how ...</td>\n",
              "      <td>188844</td>\n",
              "    </tr>\n",
              "    <tr>\n",
              "      <th>184</th>\n",
              "      <td>1</td>\n",
              "      <td>RT @StephenSchlegel: she's thinking about how ...</td>\n",
              "      <td>990837</td>\n",
              "    </tr>\n",
              "    <tr>\n",
              "      <th>224</th>\n",
              "      <td>1</td>\n",
              "      <td>RT @StephenSchlegel: she's thinking about how ...</td>\n",
              "      <td>80936</td>\n",
              "    </tr>\n",
              "    <tr>\n",
              "      <th>240</th>\n",
              "      <td>1</td>\n",
              "      <td>RT @StephenSchlegel: she's thinking about how ...</td>\n",
              "      <td>385351</td>\n",
              "    </tr>\n",
              "  </tbody>\n",
              "</table>\n",
              "</div>"
            ],
            "text/plain": [
              "     sentiment                                            message  tweetid\n",
              "51           1  RT @StephenSchlegel: she's thinking about how ...   785499\n",
              "70           1  RT @kelkulus: Irony: Florida, a state in dange...   857540\n",
              "98           1  RT @StephenSchlegel: she's thinking about how ...   603318\n",
              "112          1  RT @SenSanders: We have a president-elect who ...   664093\n",
              "122          1  RT @StephenSchlegel: she's thinking about how ...    97375\n",
              "123          1  RT @SethMacFarlane: HRC proposes installing ha...   383885\n",
              "142          1  RT @StephenSchlegel: she's thinking about how ...   188844\n",
              "184          1  RT @StephenSchlegel: she's thinking about how ...   990837\n",
              "224          1  RT @StephenSchlegel: she's thinking about how ...    80936\n",
              "240          1  RT @StephenSchlegel: she's thinking about how ...   385351"
            ]
          },
          "metadata": {
            "tags": []
          },
          "execution_count": 16
        }
      ]
    },
    {
      "cell_type": "code",
      "metadata": {
        "id": "Jt4zXmmGH99_",
        "colab_type": "code",
        "colab": {
          "base_uri": "https://localhost:8080/",
          "height": 0
        },
        "outputId": "0be65539-63cc-4865-fd20-f10d42f7a72d"
      },
      "source": [
        "len(all_duplicates)"
      ],
      "execution_count": 17,
      "outputs": [
        {
          "output_type": "execute_result",
          "data": {
            "text/plain": [
              "1590"
            ]
          },
          "metadata": {
            "tags": []
          },
          "execution_count": 17
        }
      ]
    },
    {
      "cell_type": "markdown",
      "metadata": {
        "id": "EVs_StizH9-E",
        "colab_type": "text"
      },
      "source": [
        "There are 1590 messages which are duplicated amongst each other in terms of the message column only."
      ]
    },
    {
      "cell_type": "code",
      "metadata": {
        "id": "dgn3ULRjH9-F",
        "colab_type": "code",
        "colab": {}
      },
      "source": [
        "duplicates = df[df.duplicated(['sentiment','message'])]"
      ],
      "execution_count": 18,
      "outputs": []
    },
    {
      "cell_type": "code",
      "metadata": {
        "id": "Q2O7o0P-H9-J",
        "colab_type": "code",
        "colab": {
          "base_uri": "https://localhost:8080/",
          "height": 0
        },
        "outputId": "593f6b0b-5a9c-4e26-b171-557c278d3c3b"
      },
      "source": [
        "len(duplicates)"
      ],
      "execution_count": 19,
      "outputs": [
        {
          "output_type": "execute_result",
          "data": {
            "text/plain": [
              "1586"
            ]
          },
          "metadata": {
            "tags": []
          },
          "execution_count": 19
        }
      ]
    },
    {
      "cell_type": "markdown",
      "metadata": {
        "id": "00uMy9V5H9-N",
        "colab_type": "text"
      },
      "source": [
        "There are 1586 messages which are duplicated both in sentiment and message."
      ]
    },
    {
      "cell_type": "code",
      "metadata": {
        "id": "SL-I8PgXH9-O",
        "colab_type": "code",
        "colab": {
          "base_uri": "https://localhost:8080/",
          "height": 0
        },
        "outputId": "04dbc06d-c93e-48f4-f7bc-de1aa4d1c67d"
      },
      "source": [
        "print(f\"Therefore {len(all_duplicates) - len(duplicates)} of the rows are duplicate messages but not sharing the\\\n",
        " same sentiment, therefore they will all be dropped.\")"
      ],
      "execution_count": 20,
      "outputs": [
        {
          "output_type": "stream",
          "text": [
            "Therefore 4 of the rows are duplicate messages but not sharing the same sentiment, therefore they will all be dropped.\n"
          ],
          "name": "stdout"
        }
      ]
    },
    {
      "cell_type": "code",
      "metadata": {
        "id": "RANr6oGMH9-T",
        "colab_type": "code",
        "colab": {
          "base_uri": "https://localhost:8080/",
          "height": 0
        },
        "outputId": "5a014ee4-aa57-4007-98e1-4fa488c5252a"
      },
      "source": [
        "# Creating a list of the indexes of duplicated messages not sharing the same sentiment.\n",
        "not_matching = [index for index in all_duplicates.index if index not in duplicates.index]\n",
        "not_matching"
      ],
      "execution_count": 21,
      "outputs": [
        {
          "output_type": "execute_result",
          "data": {
            "text/plain": [
              "[5393, 10351, 12001, 14103]"
            ]
          },
          "metadata": {
            "tags": []
          },
          "execution_count": 21
        }
      ]
    },
    {
      "cell_type": "code",
      "metadata": {
        "id": "LOvT6QJXH9-X",
        "colab_type": "code",
        "colab": {}
      },
      "source": [
        "# Creating a list of the not_matching indexes and their counterpart \n",
        "removal_list = []\n",
        "for index in not_matching:\n",
        "    remove = df[df.loc[:,'message'] == df.loc[index, 'message']].index.to_list()\n",
        "    removal_list += remove"
      ],
      "execution_count": 22,
      "outputs": []
    },
    {
      "cell_type": "code",
      "metadata": {
        "id": "Akc-kf57H9-b",
        "colab_type": "code",
        "colab": {
          "base_uri": "https://localhost:8080/",
          "height": 0
        },
        "outputId": "28a7d700-a7d1-4dc6-c7b0-3bf38311a4a8"
      },
      "source": [
        "print(\"These is a list of indexes that have a tweet message duplicated but not sharing the same sentiment.\")\n",
        "removal_list"
      ],
      "execution_count": 23,
      "outputs": [
        {
          "output_type": "stream",
          "text": [
            "These is a list of indexes that have a tweet message duplicated but not sharing the same sentiment.\n"
          ],
          "name": "stdout"
        },
        {
          "output_type": "execute_result",
          "data": {
            "text/plain": [
              "[258, 5393, 2390, 10351, 8446, 12001, 9141, 14103]"
            ]
          },
          "metadata": {
            "tags": []
          },
          "execution_count": 23
        }
      ]
    },
    {
      "cell_type": "code",
      "metadata": {
        "id": "5VgWhIiOH9-h",
        "colab_type": "code",
        "colab": {
          "base_uri": "https://localhost:8080/",
          "height": 0
        },
        "outputId": "80ef82d3-7fdf-46f9-f3d0-881c6024d97f"
      },
      "source": [
        "# View of these messages\n",
        "df.loc[removal_list, :]"
      ],
      "execution_count": 24,
      "outputs": [
        {
          "output_type": "execute_result",
          "data": {
            "text/html": [
              "<div>\n",
              "<style scoped>\n",
              "    .dataframe tbody tr th:only-of-type {\n",
              "        vertical-align: middle;\n",
              "    }\n",
              "\n",
              "    .dataframe tbody tr th {\n",
              "        vertical-align: top;\n",
              "    }\n",
              "\n",
              "    .dataframe thead th {\n",
              "        text-align: right;\n",
              "    }\n",
              "</style>\n",
              "<table border=\"1\" class=\"dataframe\">\n",
              "  <thead>\n",
              "    <tr style=\"text-align: right;\">\n",
              "      <th></th>\n",
              "      <th>sentiment</th>\n",
              "      <th>message</th>\n",
              "      <th>tweetid</th>\n",
              "    </tr>\n",
              "  </thead>\n",
              "  <tbody>\n",
              "    <tr>\n",
              "      <th>258</th>\n",
              "      <td>-1</td>\n",
              "      <td>RT @Uniocracy: They'll tell you theyre doing i...</td>\n",
              "      <td>529327</td>\n",
              "    </tr>\n",
              "    <tr>\n",
              "      <th>5393</th>\n",
              "      <td>0</td>\n",
              "      <td>RT @Uniocracy: They'll tell you theyre doing i...</td>\n",
              "      <td>723133</td>\n",
              "    </tr>\n",
              "    <tr>\n",
              "      <th>2390</th>\n",
              "      <td>2</td>\n",
              "      <td>RT @Channel4News: .@LeoDiCaprio calls on citiz...</td>\n",
              "      <td>460524</td>\n",
              "    </tr>\n",
              "    <tr>\n",
              "      <th>10351</th>\n",
              "      <td>1</td>\n",
              "      <td>RT @Channel4News: .@LeoDiCaprio calls on citiz...</td>\n",
              "      <td>93815</td>\n",
              "    </tr>\n",
              "    <tr>\n",
              "      <th>8446</th>\n",
              "      <td>0</td>\n",
              "      <td>RT @realDonaldTrump: Where the hell is global ...</td>\n",
              "      <td>228082</td>\n",
              "    </tr>\n",
              "    <tr>\n",
              "      <th>12001</th>\n",
              "      <td>-1</td>\n",
              "      <td>RT @realDonaldTrump: Where the hell is global ...</td>\n",
              "      <td>663534</td>\n",
              "    </tr>\n",
              "    <tr>\n",
              "      <th>9141</th>\n",
              "      <td>0</td>\n",
              "      <td>RT @COP22: In 4 days the most ambitious climat...</td>\n",
              "      <td>407156</td>\n",
              "    </tr>\n",
              "    <tr>\n",
              "      <th>14103</th>\n",
              "      <td>1</td>\n",
              "      <td>RT @COP22: In 4 days the most ambitious climat...</td>\n",
              "      <td>357058</td>\n",
              "    </tr>\n",
              "  </tbody>\n",
              "</table>\n",
              "</div>"
            ],
            "text/plain": [
              "       sentiment                                            message  tweetid\n",
              "258           -1  RT @Uniocracy: They'll tell you theyre doing i...   529327\n",
              "5393           0  RT @Uniocracy: They'll tell you theyre doing i...   723133\n",
              "2390           2  RT @Channel4News: .@LeoDiCaprio calls on citiz...   460524\n",
              "10351          1  RT @Channel4News: .@LeoDiCaprio calls on citiz...    93815\n",
              "8446           0  RT @realDonaldTrump: Where the hell is global ...   228082\n",
              "12001         -1  RT @realDonaldTrump: Where the hell is global ...   663534\n",
              "9141           0  RT @COP22: In 4 days the most ambitious climat...   407156\n",
              "14103          1  RT @COP22: In 4 days the most ambitious climat...   357058"
            ]
          },
          "metadata": {
            "tags": []
          },
          "execution_count": 24
        }
      ]
    },
    {
      "cell_type": "code",
      "metadata": {
        "id": "5iGEaKwOH9-3",
        "colab_type": "code",
        "colab": {}
      },
      "source": [
        "# Dropping the duplicated messages not sharing the same sentiment. \n",
        "df.drop(removal_list, inplace=True)"
      ],
      "execution_count": 25,
      "outputs": []
    },
    {
      "cell_type": "markdown",
      "metadata": {
        "id": "eXmB7uPWH9_I",
        "colab_type": "text"
      },
      "source": [
        "The remaining duplicated messages, that is those that share the same sentiment, they are also dropped but in this case only the first of the duplicates is retained. "
      ]
    },
    {
      "cell_type": "code",
      "metadata": {
        "id": "Gg0a6YUuH9_K",
        "colab_type": "code",
        "colab": {}
      },
      "source": [
        "df.drop_duplicates('message', inplace=True)"
      ],
      "execution_count": 26,
      "outputs": []
    },
    {
      "cell_type": "code",
      "metadata": {
        "id": "ZyYtALRZH9_R",
        "colab_type": "code",
        "colab": {
          "base_uri": "https://localhost:8080/",
          "height": 0
        },
        "outputId": "4e70afa1-f932-4bab-9080-3e9056c07db5"
      },
      "source": [
        "# Check if duplicates were removed\n",
        "df[df.duplicated(['message'])]"
      ],
      "execution_count": 27,
      "outputs": [
        {
          "output_type": "execute_result",
          "data": {
            "text/html": [
              "<div>\n",
              "<style scoped>\n",
              "    .dataframe tbody tr th:only-of-type {\n",
              "        vertical-align: middle;\n",
              "    }\n",
              "\n",
              "    .dataframe tbody tr th {\n",
              "        vertical-align: top;\n",
              "    }\n",
              "\n",
              "    .dataframe thead th {\n",
              "        text-align: right;\n",
              "    }\n",
              "</style>\n",
              "<table border=\"1\" class=\"dataframe\">\n",
              "  <thead>\n",
              "    <tr style=\"text-align: right;\">\n",
              "      <th></th>\n",
              "      <th>sentiment</th>\n",
              "      <th>message</th>\n",
              "      <th>tweetid</th>\n",
              "    </tr>\n",
              "  </thead>\n",
              "  <tbody>\n",
              "  </tbody>\n",
              "</table>\n",
              "</div>"
            ],
            "text/plain": [
              "Empty DataFrame\n",
              "Columns: [sentiment, message, tweetid]\n",
              "Index: []"
            ]
          },
          "metadata": {
            "tags": []
          },
          "execution_count": 27
        }
      ]
    },
    {
      "cell_type": "markdown",
      "metadata": {
        "id": "xOdHW9XkH9_Y",
        "colab_type": "text"
      },
      "source": [
        "There appears to be no more duplicated messages in the in the dataset. "
      ]
    },
    {
      "cell_type": "code",
      "metadata": {
        "id": "KJ0Z34d5H9_Z",
        "colab_type": "code",
        "colab": {}
      },
      "source": [
        "# Length of dataset without duplicates\n",
        "new_len = len(df)"
      ],
      "execution_count": 28,
      "outputs": []
    },
    {
      "cell_type": "code",
      "metadata": {
        "id": "Na0UBnY2H9_h",
        "colab_type": "code",
        "colab": {
          "base_uri": "https://localhost:8080/",
          "height": 0
        },
        "outputId": "a5b1cbe0-74d3-46bb-c6d7-e6ec89101305"
      },
      "source": [
        "print(f'{100 * new_len / original_len:.1f}% of the original dataset is retained after removing the duplicates.')"
      ],
      "execution_count": 29,
      "outputs": [
        {
          "output_type": "stream",
          "text": [
            "89.9% of the original dataset is retained after removing the duplicates.\n"
          ],
          "name": "stdout"
        }
      ]
    },
    {
      "cell_type": "markdown",
      "metadata": {
        "id": "DyJb0yNLH9_m",
        "colab_type": "text"
      },
      "source": [
        "# Exploratory Data Analysis"
      ]
    },
    {
      "cell_type": "markdown",
      "metadata": {
        "id": "nseLspgwIRcO",
        "colab_type": "text"
      },
      "source": [
        "In this section we will take a closer look at our data to check for obvious and hidden underlying clues and relationships that exist within our differrent classes. Our problem is a multiclass classification problem with only 4 classes so in order for us to distinuish between the classes we need to figure out what makes each classs unique."
      ]
    },
    {
      "cell_type": "markdown",
      "metadata": {
        "id": "j_4rE9jNH9_n",
        "colab_type": "text"
      },
      "source": [
        "## Overview"
      ]
    },
    {
      "cell_type": "markdown",
      "metadata": {
        "id": "i9lUCthzK6ri",
        "colab_type": "text"
      },
      "source": [
        "Looking at the distibution of the data below we can see that we have an unbalanced data set. Having an unbalanced data set introduces bias within our dataset, depending on the application of the model the and how critical the classification we can either keep the data like this or use data balancing methods like upsampling, down sampling and Smote.\n",
        "\n",
        "In our case we have the class \"Pro\" with the most data points this might potentially mean that our model would be biased towards the class \"Pro\", meaning that our model will be very good at predicting that text belongs to the class \"Pro\" and very bad at predicting other classes."
      ]
    },
    {
      "cell_type": "code",
      "metadata": {
        "id": "Di5g2uu-H9_o",
        "colab_type": "code",
        "colab": {
          "base_uri": "https://localhost:8080/",
          "height": 357
        },
        "outputId": "ce6b6a0c-94a1-4596-8da3-a4fdd46cf008"
      },
      "source": [
        "# Percentage split of the data\n",
        "plt.figure(figsize=(6,6))\n",
        "sns.set(font_scale=1.1)\n",
        "df['sentiment'].value_counts().plot(kind='pie', autopct='%.1f', labels=['Pro','News','Neutral','Anti']);"
      ],
      "execution_count": 30,
      "outputs": [
        {
          "output_type": "display_data",
          "data": {
            "image/png": "[encoded data removed]",
            "text/plain": [
              "<Figure size 432x432 with 1 Axes>"
            ]
          },
          "metadata": {
            "tags": []
          }
        }
      ]
    },
    {
      "cell_type": "markdown",
      "metadata": {
        "id": "HZWe6nqCH9_r",
        "colab_type": "text"
      },
      "source": [
        "Based on the pie chart, 50.8% of the tweets supports the belief of man-made climate change **(Pro)**, 24.9% are based on factual news about climate change **(News)**, 15.8% of the tweets are rather neutral on the subject **(Neutral)**, and 8.6% do not believe in man-made climate change **(Anti)**. "
      ]
    },
    {
      "cell_type": "markdown",
      "metadata": {
        "id": "zb4QpdTITLB_",
        "colab_type": "text"
      },
      "source": [
        "### Extracting hashtags and Twitter handes\n",
        "\n",
        "In the quest to find out what makes each class unique we can try to explore what topics each class talks about the most, we can do this by extracting the hashtags from the tweets and creating plots of the most mentioned hashtags for each sentiment group. We can also find out who or what entity is being tagged the most in each sentiment group we do this by extraching the mentioned twitter handles from the tweets.\n",
        "\n",
        "By using the regular expression library we can then extract the 2 features and plot the top 5 most frequent topics and twitter accounts."
      ]
    },
    {
      "cell_type": "code",
      "metadata": {
        "id": "eDWWnhd-H9_s",
        "colab_type": "code",
        "colab": {}
      },
      "source": [
        "def get_hashtag(data):\n",
        "    \"\"\"\n",
        "    \n",
        "    Docstring\n",
        "    \n",
        "    \n",
        "    \"\"\"\n",
        "    hashtags=[]\n",
        "    for message in data:\n",
        "        #converting tweet to lowercase\n",
        "        message=message.lower()\n",
        "        #Finding all hashtages\n",
        "        message=re.findall('#([^\\s]+)',message)\n",
        "        hashtags.append(message)\n",
        "    hash_list=[tag for tag in hashtags if tag != []]\n",
        "    list_df=pd.DataFrame(hash_list)\n",
        "    hashtags=list_df.stack(level=0)\n",
        "    \n",
        "    return hashtags"
      ],
      "execution_count": 31,
      "outputs": []
    },
    {
      "cell_type": "code",
      "metadata": {
        "id": "Jw5F24siH9_w",
        "colab_type": "code",
        "colab": {}
      },
      "source": [
        "def get_handle(data):\n",
        "    \"\"\"\n",
        "    \n",
        "    Docstring\n",
        "    \n",
        "    \n",
        "    \"\"\"\n",
        "    handles=[]\n",
        "    for message in data:\n",
        "        #Finding all user\n",
        "        message=re.findall('@([^\\s]+)',message)\n",
        "        handles.append(message)\n",
        "        \n",
        "    user_list=[user for user in handles if user != []]\n",
        "    list_df=pd.DataFrame(user_list)\n",
        "    handles=list_df.stack(level=0)\n",
        "    return handles"
      ],
      "execution_count": 32,
      "outputs": []
    },
    {
      "cell_type": "code",
      "metadata": {
        "scrolled": false,
        "id": "jQqn4KMiH9_3",
        "colab_type": "code",
        "colab": {
          "base_uri": "https://localhost:8080/",
          "height": 450
        },
        "outputId": "03a1fbde-4f77-4400-aad1-3ddf266f459c"
      },
      "source": [
        "fig,ax = plt.subplots(ncols=2, figsize=(14, 8))\n",
        "fig.tight_layout(pad=7.0)\n",
        "sns.countplot(y=get_handle(df['message']), order=get_handle(df['message']).value_counts()[0:10].index,ax=ax[0], color='darkcyan')\n",
        "sns.countplot(y=get_hashtag(df['message']), order=get_hashtag(df['message']).value_counts()[0:10].index,ax=ax[1], color='darkcyan')\n",
        "ax[0].set_title('Top 10 Twitter handles',fontsize=12)\n",
        "ax[1].set_title('Top 10 Hashtags',fontsize=12)\n",
        "plt.show()"
      ],
      "execution_count": 33,
      "outputs": [
        {
          "output_type": "display_data",
          "data": {
            "image/png": "[encoded data removed]",
            "text/plain": [
              "<Figure size 1008x576 with 2 Axes>"
            ]
          },
          "metadata": {
            "tags": []
          }
        }
      ]
    },
    {
      "cell_type": "markdown",
      "metadata": {
        "id": "WwjhKZesH9_7",
        "colab_type": "text"
      },
      "source": [
        "\n",
        "\n",
        "\n",
        "\n",
        "\n",
        "\n",
        "\n",
        "\n",
        "\n",
        "\n"
      ]
    },
    {
      "cell_type": "code",
      "metadata": {
        "id": "1RtpQpc4H9_8",
        "colab_type": "code",
        "colab": {}
      },
      "source": [
        "# Create a visualization of the number of twitter handles per sentiment groups\n",
        "def tweet_occurence_graph(dataframe, sentiment, pattern='twitter_handle', top_n=5, color='darkblue'):\n",
        "    \"\"\"\n",
        "    Returns a horizontal bar graph of the top most active topic of interest \n",
        "    in a specified sentiment group.\n",
        "    \n",
        "    Parameters\n",
        "    -----------\n",
        "    dataframe: DataFrame\n",
        "        Dataframe consisting of tweet messages and their respective sentiment\n",
        "    sentiment: int, str\n",
        "        A sentiment value based on category\n",
        "    pattern: {'twitter_handle', 'hashtags'} default 'twitter_handle'\n",
        "        A regex pattern to identify a twitter handle, hashtags or any topic of interest\n",
        "        ```twitter_handle``` is to identify twitter handles.\n",
        "        ```hashtags``` is for identifying hashtags in a tweet message.\n",
        "    top_n: int, default=5\n",
        "        The top n occurence in accordance with the specified regex pattern.\n",
        "        \n",
        "    Returns\n",
        "    --------\n",
        "    Bar graph\n",
        "       A horizontal bar graph   \n",
        "    \"\"\"\n",
        "    \n",
        "    # I.D twitter handle and hashtags patterns\n",
        "    twitter_handle_pattern = r'@\\w*\\d*'\n",
        "    hashtag_pattern = r'#\\w*\\d*'\n",
        "    \n",
        "    df_filtered = dataframe[dataframe['sentiment'] == sentiment]\n",
        "    \n",
        "    # Create a dictionary of twitter handles and number of occurances per sentiment group\n",
        "    frequency = {}\n",
        "    \n",
        "    for tweet in df_filtered['message']:\n",
        "\n",
        "        if pattern == 'twitter_handle':\n",
        "            identified_patterns = re.findall(twitter_handle_pattern, tweet)\n",
        "        elif pattern == 'hashtags':\n",
        "            identified_patterns = re.findall(hashtag_pattern, tweet)\n",
        "        else:\n",
        "            identified_patterns = re.findall(pattern, tweet)\n",
        "        \n",
        "        for item in identified_patterns:\n",
        "            if item in frequency.keys():\n",
        "                frequency[item] += 1\n",
        "            else:\n",
        "                frequency[item] = 1\n",
        "    \n",
        "    temp_df = pd.DataFrame(data=frequency.values(), index=frequency.keys(), columns=['Occurences'])\n",
        "    temp_df.sort_values(by='Occurences', ascending=False, inplace=True)\n",
        "    temp_df = temp_df[:top_n]\n",
        "    \n",
        "    target = {2:'News', 1:'Pro', 0:'Neutral', -1:'Anti'}\n",
        "    \n",
        "    plt.figure(figsize=(8, 6))\n",
        "    sns.barplot(x='Occurences', y=temp_df.index, color=color, data=temp_df)\n",
        "    plt.title(f'Number of Occurences for {target[sentiment]} category')"
      ],
      "execution_count": 34,
      "outputs": []
    },
    {
      "cell_type": "code",
      "metadata": {
        "id": "62xKVBTwH-AB",
        "colab_type": "code",
        "colab": {
          "base_uri": "https://localhost:8080/",
          "height": 413
        },
        "outputId": "94a0d9bc-74db-4c33-feed-452673b100dc"
      },
      "source": [
        "tweet_occurence_graph(df, sentiment=-1, top_n=10, color='cadetblue')"
      ],
      "execution_count": 35,
      "outputs": [
        {
          "output_type": "display_data",
          "data": {
            "image/png": "[encoded data removed]",
            "text/plain": [
              "<Figure size 576x432 with 1 Axes>"
            ]
          },
          "metadata": {
            "tags": []
          }
        }
      ]
    },
    {
      "cell_type": "code",
      "metadata": {
        "id": "CnmOfJ-iH-AE",
        "colab_type": "code",
        "colab": {
          "base_uri": "https://localhost:8080/",
          "height": 413
        },
        "outputId": "ddffbd82-9b55-4688-d92f-ae469aa26478"
      },
      "source": [
        "tweet_occurence_graph(df, sentiment=0, top_n=10, color='cadetblue')"
      ],
      "execution_count": 36,
      "outputs": [
        {
          "output_type": "display_data",
          "data": {
            "image/png": "[encoded data removed]",
            "text/plain": [
              "<Figure size 576x432 with 1 Axes>"
            ]
          },
          "metadata": {
            "tags": []
          }
        }
      ]
    },
    {
      "cell_type": "code",
      "metadata": {
        "id": "o1AVHxcwH-AH",
        "colab_type": "code",
        "colab": {}
      },
      "source": [
        ""
      ],
      "execution_count": 36,
      "outputs": []
    },
    {
      "cell_type": "code",
      "metadata": {
        "id": "pwqEBxsEH-AK",
        "colab_type": "code",
        "colab": {}
      },
      "source": [
        ""
      ],
      "execution_count": 36,
      "outputs": []
    },
    {
      "cell_type": "markdown",
      "metadata": {
        "id": "KEnH33kAH-AQ",
        "colab_type": "text"
      },
      "source": [
        "## Feature Engineering"
      ]
    },
    {
      "cell_type": "code",
      "metadata": {
        "id": "MDnKUIKKH-AU",
        "colab_type": "code",
        "colab": {
          "base_uri": "https://localhost:8080/",
          "height": 343
        },
        "outputId": "eeea74df-fe02-4efc-9d32-8dbccfbb4033"
      },
      "source": [
        "# Loading a spacy English dictionary for NLP\n",
        "nlp = spacy.load('en_core_web_md')"
      ],
      "execution_count": 37,
      "outputs": [
        {
          "output_type": "error",
          "ename": "OSError",
          "evalue": "ignored",
          "traceback": [
            "\u001b[0;31m---------------------------------------------------------------------------\u001b[0m",
            "\u001b[0;31mOSError\u001b[0m                                   Traceback (most recent call last)",
            "\u001b[0;32m<ipython-input-37-6ae6ea090f9d>\u001b[0m in \u001b[0;36m<module>\u001b[0;34m()\u001b[0m\n\u001b[1;32m      1\u001b[0m \u001b[0;31m# Loading a spacy English dictionary for NLP\u001b[0m\u001b[0;34m\u001b[0m\u001b[0;34m\u001b[0m\u001b[0;34m\u001b[0m\u001b[0m\n\u001b[0;32m----> 2\u001b[0;31m \u001b[0mnlp\u001b[0m \u001b[0;34m=\u001b[0m \u001b[0mspacy\u001b[0m\u001b[0;34m.\u001b[0m\u001b[0mload\u001b[0m\u001b[0;34m(\u001b[0m\u001b[0;34m'en_core_web_md'\u001b[0m\u001b[0;34m)\u001b[0m\u001b[0;34m\u001b[0m\u001b[0;34m\u001b[0m\u001b[0m\n\u001b[0m",
            "\u001b[0;32m/usr/local/lib/python3.6/dist-packages/spacy/__init__.py\u001b[0m in \u001b[0;36mload\u001b[0;34m(name, **overrides)\u001b[0m\n\u001b[1;32m     28\u001b[0m     \u001b[0;32mif\u001b[0m \u001b[0mdepr_path\u001b[0m \u001b[0;32mnot\u001b[0m \u001b[0;32min\u001b[0m \u001b[0;34m(\u001b[0m\u001b[0;32mTrue\u001b[0m\u001b[0;34m,\u001b[0m \u001b[0;32mFalse\u001b[0m\u001b[0;34m,\u001b[0m \u001b[0;32mNone\u001b[0m\u001b[0;34m)\u001b[0m\u001b[0;34m:\u001b[0m\u001b[0;34m\u001b[0m\u001b[0;34m\u001b[0m\u001b[0m\n\u001b[1;32m     29\u001b[0m         \u001b[0mdeprecation_warning\u001b[0m\u001b[0;34m(\u001b[0m\u001b[0mWarnings\u001b[0m\u001b[0;34m.\u001b[0m\u001b[0mW001\u001b[0m\u001b[0;34m.\u001b[0m\u001b[0mformat\u001b[0m\u001b[0;34m(\u001b[0m\u001b[0mpath\u001b[0m\u001b[0;34m=\u001b[0m\u001b[0mdepr_path\u001b[0m\u001b[0;34m)\u001b[0m\u001b[0;34m)\u001b[0m\u001b[0;34m\u001b[0m\u001b[0;34m\u001b[0m\u001b[0m\n\u001b[0;32m---> 30\u001b[0;31m     \u001b[0;32mreturn\u001b[0m \u001b[0mutil\u001b[0m\u001b[0;34m.\u001b[0m\u001b[0mload_model\u001b[0m\u001b[0;34m(\u001b[0m\u001b[0mname\u001b[0m\u001b[0;34m,\u001b[0m \u001b[0;34m**\u001b[0m\u001b[0moverrides\u001b[0m\u001b[0;34m)\u001b[0m\u001b[0;34m\u001b[0m\u001b[0;34m\u001b[0m\u001b[0m\n\u001b[0m\u001b[1;32m     31\u001b[0m \u001b[0;34m\u001b[0m\u001b[0m\n\u001b[1;32m     32\u001b[0m \u001b[0;34m\u001b[0m\u001b[0m\n",
            "\u001b[0;32m/usr/local/lib/python3.6/dist-packages/spacy/util.py\u001b[0m in \u001b[0;36mload_model\u001b[0;34m(name, **overrides)\u001b[0m\n\u001b[1;32m    167\u001b[0m     \u001b[0;32melif\u001b[0m \u001b[0mhasattr\u001b[0m\u001b[0;34m(\u001b[0m\u001b[0mname\u001b[0m\u001b[0;34m,\u001b[0m \u001b[0;34m\"exists\"\u001b[0m\u001b[0;34m)\u001b[0m\u001b[0;34m:\u001b[0m  \u001b[0;31m# Path or Path-like to model data\u001b[0m\u001b[0;34m\u001b[0m\u001b[0;34m\u001b[0m\u001b[0m\n\u001b[1;32m    168\u001b[0m         \u001b[0;32mreturn\u001b[0m \u001b[0mload_model_from_path\u001b[0m\u001b[0;34m(\u001b[0m\u001b[0mname\u001b[0m\u001b[0;34m,\u001b[0m \u001b[0;34m**\u001b[0m\u001b[0moverrides\u001b[0m\u001b[0;34m)\u001b[0m\u001b[0;34m\u001b[0m\u001b[0;34m\u001b[0m\u001b[0m\n\u001b[0;32m--> 169\u001b[0;31m     \u001b[0;32mraise\u001b[0m \u001b[0mIOError\u001b[0m\u001b[0;34m(\u001b[0m\u001b[0mErrors\u001b[0m\u001b[0;34m.\u001b[0m\u001b[0mE050\u001b[0m\u001b[0;34m.\u001b[0m\u001b[0mformat\u001b[0m\u001b[0;34m(\u001b[0m\u001b[0mname\u001b[0m\u001b[0;34m=\u001b[0m\u001b[0mname\u001b[0m\u001b[0;34m)\u001b[0m\u001b[0;34m)\u001b[0m\u001b[0;34m\u001b[0m\u001b[0;34m\u001b[0m\u001b[0m\n\u001b[0m\u001b[1;32m    170\u001b[0m \u001b[0;34m\u001b[0m\u001b[0m\n\u001b[1;32m    171\u001b[0m \u001b[0;34m\u001b[0m\u001b[0m\n",
            "\u001b[0;31mOSError\u001b[0m: [E050] Can't find model 'en_core_web_md'. It doesn't seem to be a shortcut link, a Python package or a valid path to a data directory."
          ]
        }
      ]
    },
    {
      "cell_type": "code",
      "metadata": {
        "id": "OF-PdiZ_H-AY",
        "colab_type": "code",
        "colab": {}
      },
      "source": [
        "# Apply train_test_split to prevent any data leakage when constructing the ML model\n",
        "X = df[['message']]\n",
        "y = df['sentiment']\n",
        "X_train, X_test, y_train, y_test = train_test_split(X, y, test_size=0.3, random_state=20)"
      ],
      "execution_count": null,
      "outputs": []
    },
    {
      "cell_type": "code",
      "metadata": {
        "id": "XzXs7AUDH-Ag",
        "colab_type": "code",
        "colab": {}
      },
      "source": [
        "def remove_characters(text):\n",
        "    \"\"\"\n",
        "    Returns a message without any foreign characters, that is those\n",
        "    that are not in our alphabets, numbering system, and not part of \n",
        "    punctuation marks\n",
        "    \n",
        "    Parameters\n",
        "    -----------\n",
        "    text: str\n",
        "        A text message\n",
        "    \n",
        "    Returns\n",
        "    --------\n",
        "    str\n",
        "        A text message without foreign characters\n",
        "    \"\"\"\n",
        "    \n",
        "    # Remove unidentifieable letters (i.e. foreign characters)\n",
        "    local_characters = string.ascii_letters + string.digits + string.punctuation + ' ' \n",
        "    # Included spacing at the end so that it can be recorgnized in a string\n",
        "    \n",
        "    for char in text:\n",
        "        if char not in local_characters:\n",
        "            text = text.replace(char, '')\n",
        "    \n",
        "    return text.strip()"
      ],
      "execution_count": null,
      "outputs": []
    },
    {
      "cell_type": "code",
      "metadata": {
        "id": "ezRn8Ze3H-Aq",
        "colab_type": "code",
        "colab": {}
      },
      "source": [
        "X_train.head()"
      ],
      "execution_count": null,
      "outputs": []
    },
    {
      "cell_type": "code",
      "metadata": {
        "id": "eo76j1XIH-A1",
        "colab_type": "code",
        "colab": {}
      },
      "source": [
        "# Example message with foreign characters\n",
        "X_train.iloc[7, 0]"
      ],
      "execution_count": null,
      "outputs": []
    },
    {
      "cell_type": "markdown",
      "metadata": {
        "id": "n4V3C7gmH-A4",
        "colab_type": "text"
      },
      "source": [
        "The message has unidentifiable letters which are not part of the English language. This might affect the size of \n",
        "the sparse matrix and also affect how the spaCy library reads the message."
      ]
    },
    {
      "cell_type": "code",
      "metadata": {
        "id": "ZhoY2EMDH-A5",
        "colab_type": "code",
        "colab": {}
      },
      "source": [
        "# After applying the function\n",
        "remove_characters(X_train.iloc[7, 0])"
      ],
      "execution_count": null,
      "outputs": []
    },
    {
      "cell_type": "markdown",
      "metadata": {
        "id": "uUzOj4aZH-A-",
        "colab_type": "text"
      },
      "source": [
        "The foreign characters are now removed from the message making the message more readable."
      ]
    },
    {
      "cell_type": "markdown",
      "metadata": {
        "id": "jW78l2hZH-A_",
        "colab_type": "text"
      },
      "source": [
        "# Modeling"
      ]
    },
    {
      "cell_type": "markdown",
      "metadata": {
        "id": "AOp-Iv89H-A_",
        "colab_type": "text"
      },
      "source": [
        "## Data Prepocessing"
      ]
    },
    {
      "cell_type": "code",
      "metadata": {
        "id": "4dgW7xAnH-BA",
        "colab_type": "code",
        "colab": {}
      },
      "source": [
        ""
      ],
      "execution_count": null,
      "outputs": []
    },
    {
      "cell_type": "code",
      "metadata": {
        "id": "3HBfBngUH-BG",
        "colab_type": "code",
        "colab": {}
      },
      "source": [
        ""
      ],
      "execution_count": null,
      "outputs": []
    },
    {
      "cell_type": "markdown",
      "metadata": {
        "id": "lxARXSdoH-BM",
        "colab_type": "text"
      },
      "source": [
        "## Machine Learning "
      ]
    },
    {
      "cell_type": "markdown",
      "metadata": {
        "id": "vvQJ8ZKJH-BN",
        "colab_type": "text"
      },
      "source": [
        "### Logistic Regression"
      ]
    },
    {
      "cell_type": "code",
      "metadata": {
        "id": "qPW1yo2vH-BO",
        "colab_type": "code",
        "colab": {}
      },
      "source": [
        ""
      ],
      "execution_count": null,
      "outputs": []
    },
    {
      "cell_type": "code",
      "metadata": {
        "id": "0sbcG06RH-BW",
        "colab_type": "code",
        "colab": {}
      },
      "source": [
        ""
      ],
      "execution_count": null,
      "outputs": []
    },
    {
      "cell_type": "markdown",
      "metadata": {
        "id": "znWnwdUhH-Bj",
        "colab_type": "text"
      },
      "source": [
        "### Support Vector Machines"
      ]
    },
    {
      "cell_type": "code",
      "metadata": {
        "id": "2zNtS2f4H-Bk",
        "colab_type": "code",
        "colab": {}
      },
      "source": [
        ""
      ],
      "execution_count": null,
      "outputs": []
    },
    {
      "cell_type": "code",
      "metadata": {
        "id": "sS3bnV8_H-Bs",
        "colab_type": "code",
        "colab": {}
      },
      "source": [
        ""
      ],
      "execution_count": null,
      "outputs": []
    },
    {
      "cell_type": "markdown",
      "metadata": {
        "id": "1PAUpEARH-B4",
        "colab_type": "text"
      },
      "source": [
        "### KNearest Neighbors"
      ]
    },
    {
      "cell_type": "code",
      "metadata": {
        "id": "oAusVQGgH-B6",
        "colab_type": "code",
        "colab": {}
      },
      "source": [
        ""
      ],
      "execution_count": null,
      "outputs": []
    },
    {
      "cell_type": "code",
      "metadata": {
        "id": "jmOnbiYGH-CE",
        "colab_type": "code",
        "colab": {}
      },
      "source": [
        ""
      ],
      "execution_count": null,
      "outputs": []
    },
    {
      "cell_type": "markdown",
      "metadata": {
        "id": "HDPUg7nOH-Ci",
        "colab_type": "text"
      },
      "source": [
        "### Naive Bayes"
      ]
    },
    {
      "cell_type": "code",
      "metadata": {
        "id": "AtP-xflpH-Ck",
        "colab_type": "code",
        "colab": {}
      },
      "source": [
        ""
      ],
      "execution_count": null,
      "outputs": []
    },
    {
      "cell_type": "code",
      "metadata": {
        "id": "UhG8TVjrH-Cr",
        "colab_type": "code",
        "colab": {}
      },
      "source": [
        ""
      ],
      "execution_count": null,
      "outputs": []
    },
    {
      "cell_type": "markdown",
      "metadata": {
        "id": "vDu7C9NmH-Cv",
        "colab_type": "text"
      },
      "source": [
        "### Decision Tree"
      ]
    },
    {
      "cell_type": "code",
      "metadata": {
        "id": "1TL7P0UpH-Cv",
        "colab_type": "code",
        "colab": {}
      },
      "source": [
        ""
      ],
      "execution_count": null,
      "outputs": []
    },
    {
      "cell_type": "code",
      "metadata": {
        "id": "XfQWQcyOH-C0",
        "colab_type": "code",
        "colab": {}
      },
      "source": [
        ""
      ],
      "execution_count": null,
      "outputs": []
    },
    {
      "cell_type": "markdown",
      "metadata": {
        "id": "M9c4FXjQH-C5",
        "colab_type": "text"
      },
      "source": [
        "### Neural Networks"
      ]
    },
    {
      "cell_type": "code",
      "metadata": {
        "id": "HaQBS32UH-C5",
        "colab_type": "code",
        "colab": {}
      },
      "source": [
        ""
      ],
      "execution_count": null,
      "outputs": []
    },
    {
      "cell_type": "code",
      "metadata": {
        "id": "U4gODAU7H-DJ",
        "colab_type": "code",
        "colab": {}
      },
      "source": [
        ""
      ],
      "execution_count": null,
      "outputs": []
    },
    {
      "cell_type": "markdown",
      "metadata": {
        "id": "wovWkQBLH-DO",
        "colab_type": "text"
      },
      "source": [
        "## Ensemble models"
      ]
    },
    {
      "cell_type": "markdown",
      "metadata": {
        "id": "QyWYeYHLH-DO",
        "colab_type": "text"
      },
      "source": [
        "### RandomForestClassifier"
      ]
    },
    {
      "cell_type": "code",
      "metadata": {
        "id": "MuExyPrnH-DP",
        "colab_type": "code",
        "colab": {}
      },
      "source": [
        ""
      ],
      "execution_count": null,
      "outputs": []
    },
    {
      "cell_type": "code",
      "metadata": {
        "id": "PHzwcXGiH-DU",
        "colab_type": "code",
        "colab": {}
      },
      "source": [
        ""
      ],
      "execution_count": null,
      "outputs": []
    },
    {
      "cell_type": "markdown",
      "metadata": {
        "id": "A6bFSYIlH-DW",
        "colab_type": "text"
      },
      "source": [
        "### VotingClassifier"
      ]
    },
    {
      "cell_type": "code",
      "metadata": {
        "id": "SQCVRzoXH-DX",
        "colab_type": "code",
        "colab": {}
      },
      "source": [
        ""
      ],
      "execution_count": null,
      "outputs": []
    },
    {
      "cell_type": "code",
      "metadata": {
        "id": "xgIl_HpRH-DZ",
        "colab_type": "code",
        "colab": {}
      },
      "source": [
        ""
      ],
      "execution_count": null,
      "outputs": []
    },
    {
      "cell_type": "markdown",
      "metadata": {
        "id": "ZmECGYzQH-Db",
        "colab_type": "text"
      },
      "source": [
        "### BaggingClassifier"
      ]
    },
    {
      "cell_type": "code",
      "metadata": {
        "id": "IzXpNU0QH-Dc",
        "colab_type": "code",
        "colab": {}
      },
      "source": [
        ""
      ],
      "execution_count": null,
      "outputs": []
    },
    {
      "cell_type": "code",
      "metadata": {
        "id": "KHcsaHaPH-Dm",
        "colab_type": "code",
        "colab": {}
      },
      "source": [
        ""
      ],
      "execution_count": null,
      "outputs": []
    },
    {
      "cell_type": "markdown",
      "metadata": {
        "id": "LqgDixDzH-Dp",
        "colab_type": "text"
      },
      "source": [
        "# Balancing the data"
      ]
    },
    {
      "cell_type": "markdown",
      "metadata": {
        "id": "ASGUybFHH-Dq",
        "colab_type": "text"
      },
      "source": [
        "## Downsampling"
      ]
    },
    {
      "cell_type": "code",
      "metadata": {
        "id": "dWLS2zIiH-Dq",
        "colab_type": "code",
        "colab": {}
      },
      "source": [
        ""
      ],
      "execution_count": null,
      "outputs": []
    },
    {
      "cell_type": "code",
      "metadata": {
        "id": "Xkf4ls91H-D4",
        "colab_type": "code",
        "colab": {}
      },
      "source": [
        ""
      ],
      "execution_count": null,
      "outputs": []
    },
    {
      "cell_type": "markdown",
      "metadata": {
        "id": "prQote70H-D-",
        "colab_type": "text"
      },
      "source": [
        "## Upsampling"
      ]
    },
    {
      "cell_type": "code",
      "metadata": {
        "id": "Or7AjLY3H-D_",
        "colab_type": "code",
        "colab": {}
      },
      "source": [
        ""
      ],
      "execution_count": null,
      "outputs": []
    },
    {
      "cell_type": "code",
      "metadata": {
        "id": "l30jL1MOH-EC",
        "colab_type": "code",
        "colab": {}
      },
      "source": [
        ""
      ],
      "execution_count": null,
      "outputs": []
    },
    {
      "cell_type": "markdown",
      "metadata": {
        "id": "anCXlakzH-EF",
        "colab_type": "text"
      },
      "source": [
        "## SMOTE"
      ]
    },
    {
      "cell_type": "code",
      "metadata": {
        "id": "m1KNWDETH-EG",
        "colab_type": "code",
        "colab": {}
      },
      "source": [
        ""
      ],
      "execution_count": null,
      "outputs": []
    },
    {
      "cell_type": "code",
      "metadata": {
        "id": "6PsFa9-gH-EN",
        "colab_type": "code",
        "colab": {}
      },
      "source": [
        ""
      ],
      "execution_count": null,
      "outputs": []
    },
    {
      "cell_type": "code",
      "metadata": {
        "id": "PWGmglcuH-EQ",
        "colab_type": "code",
        "colab": {}
      },
      "source": [
        ""
      ],
      "execution_count": null,
      "outputs": []
    },
    {
      "cell_type": "markdown",
      "metadata": {
        "id": "XFxh0aaYH-ET",
        "colab_type": "text"
      },
      "source": [
        "# Results"
      ]
    },
    {
      "cell_type": "code",
      "metadata": {
        "id": "l6Vi9-f0H-EU",
        "colab_type": "code",
        "colab": {}
      },
      "source": [
        ""
      ],
      "execution_count": null,
      "outputs": []
    },
    {
      "cell_type": "code",
      "metadata": {
        "id": "ZX2sC6FBH-EZ",
        "colab_type": "code",
        "colab": {}
      },
      "source": [
        ""
      ],
      "execution_count": null,
      "outputs": []
    },
    {
      "cell_type": "code",
      "metadata": {
        "id": "ciXlLrY6H-Ee",
        "colab_type": "code",
        "colab": {}
      },
      "source": [
        ""
      ],
      "execution_count": null,
      "outputs": []
    },
    {
      "cell_type": "markdown",
      "metadata": {
        "id": "EObYSWaFH-Ek",
        "colab_type": "text"
      },
      "source": [
        "# Conclusion"
      ]
    },
    {
      "cell_type": "code",
      "metadata": {
        "id": "cnGFMCdQH-Ek",
        "colab_type": "code",
        "colab": {}
      },
      "source": [
        ""
      ],
      "execution_count": null,
      "outputs": []
    },
    {
      "cell_type": "code",
      "metadata": {
        "id": "14Fh145pH-Es",
        "colab_type": "code",
        "colab": {}
      },
      "source": [
        ""
      ],
      "execution_count": null,
      "outputs": []
    },
    {
      "cell_type": "markdown",
      "metadata": {
        "id": "dREF3_ClH-Ev",
        "colab_type": "text"
      },
      "source": [
        "The causes and effects of climate change are very clear at this point but what can we do? Firstly, the government can help the communities and businesses to reduce deforestation, plant new trees in the forest and empty land, earn sustainable livelihoods and adapt to changing climatic conditions. Next, teachers in lecturers in schools and tertiaries must give the knowledge of how to protect our earth from the very young age of the children and students. One of the reasons that caused the climate changes is the emission of carbon dioxide from the vehicles. Also, our famous political leaders and news channels also have to remove themselves from the anti class and lead by example. We ourselves can reduce the uses of vehicles and car-pooling in our daily lives.You can start practicing at home by switching off any electrical appliances when not in use this will help conserve energy\n",
        "\n",
        "Conclusion there are many effects of climate changes that seriously affecting our environment, health and biodiversities. If we still have not take any actions to prevent the climate changes, our mother earth will be become sick more seriously.If not there will be serious environmental concerns . We need to protect our environment and give our next generation to have a better place to stay, we must always know how to prevent the climate changes such as stop cutting off the trees, save energy, car-pooling, etc. Therefore, let us keep our Mother Earth healthy"
      ]
    }
  ]
}