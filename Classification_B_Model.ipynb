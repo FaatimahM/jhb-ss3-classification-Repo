{
  "nbformat": 4,
  "nbformat_minor": 0,
  "metadata": {
    "kernelspec": {
      "display_name": "Python 3",
      "language": "python",
      "name": "python3"
    },
    "language_info": {
      "codemirror_mode": {
        "name": "ipython",
        "version": 3
      },
      "file_extension": ".py",
      "mimetype": "text/x-python",
      "name": "python",
      "nbconvert_exporter": "python",
      "pygments_lexer": "ipython3",
      "version": "3.7.6"
    },
    "colab": {
      "name": "Classification_B_Model.ipynb",
      "provenance": [],
      "include_colab_link": true
    }
  },
  "cells": [
    {
      "cell_type": "markdown",
      "metadata": {
        "id": "view-in-github",
        "colab_type": "text"
      },
      "source": [
        "<a href=\"https://colab.research.google.com/github/Maredipinkydimakatso/jhb-ss3-classification-Repo/blob/master/Classification_B_Model.ipynb\" target=\"_parent\"><img src=\"https://colab.research.google.com/assets/colab-badge.svg\" alt=\"Open In Colab\"/></a>"
      ]
    },
    {
      "cell_type": "code",
      "metadata": {
        "id": "s1M1NNhmW82F",
        "colab_type": "code",
        "colab": {},
        "outputId": "2754b1eb-eb36-4086-fbb4-bb934d4d5f45"
      },
      "source": [
        "pip install comet_ml"
      ],
      "execution_count": null,
      "outputs": [
        {
          "output_type": "stream",
          "text": [
            "Requirement already satisfied: comet_ml in c:\\users\\mared\\anaconda3\\lib\\site-packages (3.1.11)\n",
            "Requirement already satisfied: websocket-client>=0.55.0 in c:\\users\\mared\\anaconda3\\lib\\site-packages (from comet_ml) (0.57.0)\n",
            "Requirement already satisfied: comet-git-pure>=0.19.11 in c:\\users\\mared\\anaconda3\\lib\\site-packages (from comet_ml) (0.19.16)\n",
            "Requirement already satisfied: jsonschema!=3.1.0,>=2.6.0 in c:\\users\\mared\\anaconda3\\lib\\site-packages (from comet_ml) (3.2.0)\n",
            "Requirement already satisfied: six in c:\\users\\mared\\anaconda3\\lib\\site-packages (from comet_ml) (1.14.0)\n",
            "Requirement already satisfied: nvidia-ml-py3>=7.352.0 in c:\\users\\mared\\anaconda3\\lib\\site-packages (from comet_ml) (7.352.0)\n",
            "Requirement already satisfied: requests>=2.18.4 in c:\\users\\mared\\anaconda3\\lib\\site-packages (from comet_ml) (2.22.0)\n",
            "Requirement already satisfied: everett[ini]>=1.0.1; python_version >= \"3.0\" in c:\\users\\mared\\anaconda3\\lib\\site-packages (from comet_ml) (1.0.2)\n",
            "Requirement already satisfied: wurlitzer>=1.0.2 in c:\\users\\mared\\anaconda3\\lib\\site-packages (from comet_ml) (2.0.0)\n",
            "Requirement already satisfied: netifaces>=0.10.7 in c:\\users\\mared\\anaconda3\\lib\\site-packages (from comet_ml) (0.10.9)\n",
            "Requirement already satisfied: urllib3>=1.24.1 in c:\\users\\mared\\anaconda3\\lib\\site-packages (from comet-git-pure>=0.19.11->comet_ml) (1.25.8)\n",
            "Requirement already satisfied: certifi in c:\\users\\mared\\anaconda3\\lib\\site-packages (from comet-git-pure>=0.19.11->comet_ml) (2019.11.28)\n",
            "Requirement already satisfied: pyrsistent>=0.14.0 in c:\\users\\mared\\anaconda3\\lib\\site-packages (from jsonschema!=3.1.0,>=2.6.0->comet_ml) (0.15.7)\n",
            "Requirement already satisfied: attrs>=17.4.0 in c:\\users\\mared\\anaconda3\\lib\\site-packages (from jsonschema!=3.1.0,>=2.6.0->comet_ml) (19.3.0)\n",
            "Requirement already satisfied: importlib-metadata; python_version < \"3.8\" in c:\\users\\mared\\anaconda3\\lib\\site-packages (from jsonschema!=3.1.0,>=2.6.0->comet_ml) (1.5.0)\n",
            "Requirement already satisfied: setuptools in c:\\users\\mared\\anaconda3\\lib\\site-packages (from jsonschema!=3.1.0,>=2.6.0->comet_ml) (45.2.0.post20200210)\n",
            "Requirement already satisfied: idna<2.9,>=2.5 in c:\\users\\mared\\anaconda3\\lib\\site-packages (from requests>=2.18.4->comet_ml) (2.8)\n",
            "Requirement already satisfied: chardet<3.1.0,>=3.0.2 in c:\\users\\mared\\anaconda3\\lib\\site-packages (from requests>=2.18.4->comet_ml) (3.0.4)\n",
            "Requirement already satisfied: configobj; extra == \"ini\" in c:\\users\\mared\\anaconda3\\lib\\site-packages (from everett[ini]>=1.0.1; python_version >= \"3.0\"->comet_ml) (5.0.6)\n",
            "Requirement already satisfied: zipp>=0.5 in c:\\users\\mared\\anaconda3\\lib\\site-packages (from importlib-metadata; python_version < \"3.8\"->jsonschema!=3.1.0,>=2.6.0->comet_ml) (2.2.0)\n",
            "Note: you may need to restart the kernel to use updated packages.\n"
          ],
          "name": "stdout"
        }
      ]
    },
    {
      "cell_type": "code",
      "metadata": {
        "id": "u333VGQkW82c",
        "colab_type": "code",
        "colab": {},
        "outputId": "fdc8f5c4-a070-477e-f44b-501f684840f7"
      },
      "source": [
        "pip install --no-cache-dir --upgrade comet_ml"
      ],
      "execution_count": null,
      "outputs": [
        {
          "output_type": "stream",
          "text": [
            "Requirement already up-to-date: comet_ml in c:\\users\\mared\\anaconda3\\lib\\site-packages (3.1.11)\n",
            "Requirement already satisfied, skipping upgrade: comet-git-pure>=0.19.11 in c:\\users\\mared\\anaconda3\\lib\\site-packages (from comet_ml) (0.19.16)\n",
            "Requirement already satisfied, skipping upgrade: nvidia-ml-py3>=7.352.0 in c:\\users\\mared\\anaconda3\\lib\\site-packages (from comet_ml) (7.352.0)\n",
            "Requirement already satisfied, skipping upgrade: wurlitzer>=1.0.2 in c:\\users\\mared\\anaconda3\\lib\\site-packages (from comet_ml) (2.0.0)\n",
            "Requirement already satisfied, skipping upgrade: netifaces>=0.10.7 in c:\\users\\mared\\anaconda3\\lib\\site-packages (from comet_ml) (0.10.9)\n",
            "Requirement already satisfied, skipping upgrade: six in c:\\users\\mared\\anaconda3\\lib\\site-packages (from comet_ml) (1.14.0)\n",
            "Requirement already satisfied, skipping upgrade: everett[ini]>=1.0.1; python_version >= \"3.0\" in c:\\users\\mared\\anaconda3\\lib\\site-packages (from comet_ml) (1.0.2)\n",
            "Requirement already satisfied, skipping upgrade: requests>=2.18.4 in c:\\users\\mared\\anaconda3\\lib\\site-packages (from comet_ml) (2.22.0)\n",
            "Requirement already satisfied, skipping upgrade: websocket-client>=0.55.0 in c:\\users\\mared\\anaconda3\\lib\\site-packages (from comet_ml) (0.57.0)\n",
            "Requirement already satisfied, skipping upgrade: jsonschema!=3.1.0,>=2.6.0 in c:\\users\\mared\\anaconda3\\lib\\site-packages (from comet_ml) (3.2.0)\n",
            "Requirement already satisfied, skipping upgrade: urllib3>=1.24.1 in c:\\users\\mared\\anaconda3\\lib\\site-packages (from comet-git-pure>=0.19.11->comet_ml) (1.25.8)\n",
            "Requirement already satisfied, skipping upgrade: certifi in c:\\users\\mared\\anaconda3\\lib\\site-packages (from comet-git-pure>=0.19.11->comet_ml) (2019.11.28)\n",
            "Requirement already satisfied, skipping upgrade: configobj; extra == \"ini\" in c:\\users\\mared\\anaconda3\\lib\\site-packages (from everett[ini]>=1.0.1; python_version >= \"3.0\"->comet_ml) (5.0.6)\n",
            "Requirement already satisfied, skipping upgrade: idna<2.9,>=2.5 in c:\\users\\mared\\anaconda3\\lib\\site-packages (from requests>=2.18.4->comet_ml) (2.8)\n",
            "Requirement already satisfied, skipping upgrade: chardet<3.1.0,>=3.0.2 in c:\\users\\mared\\anaconda3\\lib\\site-packages (from requests>=2.18.4->comet_ml) (3.0.4)\n",
            "Requirement already satisfied, skipping upgrade: importlib-metadata; python_version < \"3.8\" in c:\\users\\mared\\anaconda3\\lib\\site-packages (from jsonschema!=3.1.0,>=2.6.0->comet_ml) (1.5.0)\n",
            "Requirement already satisfied, skipping upgrade: setuptools in c:\\users\\mared\\anaconda3\\lib\\site-packages (from jsonschema!=3.1.0,>=2.6.0->comet_ml) (45.2.0.post20200210)\n",
            "Requirement already satisfied, skipping upgrade: pyrsistent>=0.14.0 in c:\\users\\mared\\anaconda3\\lib\\site-packages (from jsonschema!=3.1.0,>=2.6.0->comet_ml) (0.15.7)\n",
            "Requirement already satisfied, skipping upgrade: attrs>=17.4.0 in c:\\users\\mared\\anaconda3\\lib\\site-packages (from jsonschema!=3.1.0,>=2.6.0->comet_ml) (19.3.0)\n",
            "Requirement already satisfied, skipping upgrade: zipp>=0.5 in c:\\users\\mared\\anaconda3\\lib\\site-packages (from importlib-metadata; python_version < \"3.8\"->jsonschema!=3.1.0,>=2.6.0->comet_ml) (2.2.0)\n",
            "Note: you may need to restart the kernel to use updated packages.\n"
          ],
          "name": "stdout"
        }
      ]
    },
    {
      "cell_type": "markdown",
      "metadata": {
        "id": "Bn-UvRyIW83A",
        "colab_type": "text"
      },
      "source": [
        "import comet_ml in the top of your file"
      ]
    },
    {
      "cell_type": "code",
      "metadata": {
        "id": "siiExUlOW83C",
        "colab_type": "code",
        "colab": {}
      },
      "source": [
        "from comet_ml import Experiment"
      ],
      "execution_count": null,
      "outputs": []
    },
    {
      "cell_type": "markdown",
      "metadata": {
        "id": "tGrJKECwW83J",
        "colab_type": "text"
      },
      "source": [
        "Setting the API key (saved as environment variable)"
      ]
    },
    {
      "cell_type": "code",
      "metadata": {
        "id": "ihK0yBG8W83S",
        "colab_type": "code",
        "colab": {},
        "outputId": "4f4af478-9d80-4256-c58a-51586614855e"
      },
      "source": [
        "experiment = Experiment(\n",
        "    api_key='pFR0ZDxiYAyt5B7JfZiEjBqfB',\n",
        "    project_name='classification-predict',\n",
        "    workspace='team-jhb-ss3'\n",
        ")"
      ],
      "execution_count": null,
      "outputs": [
        {
          "output_type": "stream",
          "text": [
            "COMET INFO: Experiment is live on comet.ml https://www.comet.ml/team-jhb-ss3/classification-predict/2518c1cc5aec47cca0d822817dbb8539\n",
            "\n"
          ],
          "name": "stderr"
        }
      ]
    },
    {
      "cell_type": "markdown",
      "metadata": {
        "id": "s469D7TGW83a",
        "colab_type": "text"
      },
      "source": [
        "# Importing libraries"
      ]
    },
    {
      "cell_type": "code",
      "metadata": {
        "id": "U4_Gmq9_W83c",
        "colab_type": "code",
        "colab": {}
      },
      "source": [
        "import numpy as np\n",
        "import matplotlib.pyplot as plt\n",
        "import pandas as pd\n",
        "import matplotlib.pyplot as plt\n",
        "%matplotlib inline\n",
        "from sklearn.model_selection import train_test_split, GridSearchCV\n",
        "from sklearn.linear_model import LogisticRegression\n",
        "from sklearn.tree import DecisionTreeClassifier\n",
        "from sklearn.preprocessing import StandardScaler\n",
        "from sklearn import preprocessing\n",
        "from sklearn.metrics import accuracy_score\n",
        "from sklearn.preprocessing import LabelEncoder\n",
        "from sklearn.preprocessing import MinMaxScaler\n",
        "from sklearn.metrics import roc_auc_score\n",
        "from sklearn.metrics import recall_score\n",
        "from sklearn.metrics import precision_score\n",
        "from sklearn.metrics import f1_score\n",
        "from sklearn.metrics import confusion_matrix"
      ],
      "execution_count": null,
      "outputs": []
    },
    {
      "cell_type": "markdown",
      "metadata": {
        "id": "DV7-JXCJW84X",
        "colab_type": "text"
      },
      "source": [
        "# Importing data"
      ]
    },
    {
      "cell_type": "code",
      "metadata": {
        "id": "661wjlXoW84Z",
        "colab_type": "code",
        "colab": {}
      },
      "source": [
        "train= pd.read_csv('train.csv')\n",
        "test= pd.read_csv('test.csv')\n",
        "sample= pd.read_csv('sample_submission.csv')"
      ],
      "execution_count": null,
      "outputs": []
    },
    {
      "cell_type": "code",
      "metadata": {
        "id": "EiU67GkiW84n",
        "colab_type": "code",
        "colab": {},
        "outputId": "4990d8e1-51a2-41ba-ccb5-fe02bfedd4db"
      },
      "source": [
        "sample.head()"
      ],
      "execution_count": null,
      "outputs": [
        {
          "output_type": "execute_result",
          "data": {
            "text/html": [
              "<div>\n",
              "<style scoped>\n",
              "    .dataframe tbody tr th:only-of-type {\n",
              "        vertical-align: middle;\n",
              "    }\n",
              "\n",
              "    .dataframe tbody tr th {\n",
              "        vertical-align: top;\n",
              "    }\n",
              "\n",
              "    .dataframe thead th {\n",
              "        text-align: right;\n",
              "    }\n",
              "</style>\n",
              "<table border=\"1\" class=\"dataframe\">\n",
              "  <thead>\n",
              "    <tr style=\"text-align: right;\">\n",
              "      <th></th>\n",
              "      <th>tweetid</th>\n",
              "      <th>sentiment</th>\n",
              "    </tr>\n",
              "  </thead>\n",
              "  <tbody>\n",
              "    <tr>\n",
              "      <th>0</th>\n",
              "      <td>169760</td>\n",
              "      <td>1</td>\n",
              "    </tr>\n",
              "    <tr>\n",
              "      <th>1</th>\n",
              "      <td>35326</td>\n",
              "      <td>1</td>\n",
              "    </tr>\n",
              "    <tr>\n",
              "      <th>2</th>\n",
              "      <td>224985</td>\n",
              "      <td>1</td>\n",
              "    </tr>\n",
              "    <tr>\n",
              "      <th>3</th>\n",
              "      <td>476263</td>\n",
              "      <td>1</td>\n",
              "    </tr>\n",
              "    <tr>\n",
              "      <th>4</th>\n",
              "      <td>872928</td>\n",
              "      <td>1</td>\n",
              "    </tr>\n",
              "  </tbody>\n",
              "</table>\n",
              "</div>"
            ],
            "text/plain": [
              "   tweetid  sentiment\n",
              "0   169760          1\n",
              "1    35326          1\n",
              "2   224985          1\n",
              "3   476263          1\n",
              "4   872928          1"
            ]
          },
          "metadata": {
            "tags": []
          },
          "execution_count": 8
        }
      ]
    },
    {
      "cell_type": "code",
      "metadata": {
        "id": "ZEKT-_RXW84x",
        "colab_type": "code",
        "colab": {},
        "outputId": "b698dcf5-c212-4a9d-f627-e63eba50892b"
      },
      "source": [
        "test.head()"
      ],
      "execution_count": null,
      "outputs": [
        {
          "output_type": "execute_result",
          "data": {
            "text/html": [
              "<div>\n",
              "<style scoped>\n",
              "    .dataframe tbody tr th:only-of-type {\n",
              "        vertical-align: middle;\n",
              "    }\n",
              "\n",
              "    .dataframe tbody tr th {\n",
              "        vertical-align: top;\n",
              "    }\n",
              "\n",
              "    .dataframe thead th {\n",
              "        text-align: right;\n",
              "    }\n",
              "</style>\n",
              "<table border=\"1\" class=\"dataframe\">\n",
              "  <thead>\n",
              "    <tr style=\"text-align: right;\">\n",
              "      <th></th>\n",
              "      <th>message</th>\n",
              "      <th>tweetid</th>\n",
              "    </tr>\n",
              "  </thead>\n",
              "  <tbody>\n",
              "    <tr>\n",
              "      <th>0</th>\n",
              "      <td>Europe will now be looking to China to make su...</td>\n",
              "      <td>169760</td>\n",
              "    </tr>\n",
              "    <tr>\n",
              "      <th>1</th>\n",
              "      <td>Combine this with the polling of staffers re c...</td>\n",
              "      <td>35326</td>\n",
              "    </tr>\n",
              "    <tr>\n",
              "      <th>2</th>\n",
              "      <td>The scary, unimpeachable evidence that climate...</td>\n",
              "      <td>224985</td>\n",
              "    </tr>\n",
              "    <tr>\n",
              "      <th>3</th>\n",
              "      <td>@Karoli @morgfair @OsborneInk @dailykos \\nPuti...</td>\n",
              "      <td>476263</td>\n",
              "    </tr>\n",
              "    <tr>\n",
              "      <th>4</th>\n",
              "      <td>RT @FakeWillMoore: 'Female orgasms cause globa...</td>\n",
              "      <td>872928</td>\n",
              "    </tr>\n",
              "  </tbody>\n",
              "</table>\n",
              "</div>"
            ],
            "text/plain": [
              "                                             message  tweetid\n",
              "0  Europe will now be looking to China to make su...   169760\n",
              "1  Combine this with the polling of staffers re c...    35326\n",
              "2  The scary, unimpeachable evidence that climate...   224985\n",
              "3  @Karoli @morgfair @OsborneInk @dailykos \\nPuti...   476263\n",
              "4  RT @FakeWillMoore: 'Female orgasms cause globa...   872928"
            ]
          },
          "metadata": {
            "tags": []
          },
          "execution_count": 9
        }
      ]
    },
    {
      "cell_type": "code",
      "metadata": {
        "id": "5WemuCeKW844",
        "colab_type": "code",
        "colab": {},
        "outputId": "47e5f139-7f91-48ea-e40e-3dd0176a48be"
      },
      "source": [
        "train.head()"
      ],
      "execution_count": null,
      "outputs": [
        {
          "output_type": "execute_result",
          "data": {
            "text/html": [
              "<div>\n",
              "<style scoped>\n",
              "    .dataframe tbody tr th:only-of-type {\n",
              "        vertical-align: middle;\n",
              "    }\n",
              "\n",
              "    .dataframe tbody tr th {\n",
              "        vertical-align: top;\n",
              "    }\n",
              "\n",
              "    .dataframe thead th {\n",
              "        text-align: right;\n",
              "    }\n",
              "</style>\n",
              "<table border=\"1\" class=\"dataframe\">\n",
              "  <thead>\n",
              "    <tr style=\"text-align: right;\">\n",
              "      <th></th>\n",
              "      <th>sentiment</th>\n",
              "      <th>message</th>\n",
              "      <th>tweetid</th>\n",
              "    </tr>\n",
              "  </thead>\n",
              "  <tbody>\n",
              "    <tr>\n",
              "      <th>0</th>\n",
              "      <td>1</td>\n",
              "      <td>PolySciMajor EPA chief doesn't think carbon di...</td>\n",
              "      <td>625221</td>\n",
              "    </tr>\n",
              "    <tr>\n",
              "      <th>1</th>\n",
              "      <td>1</td>\n",
              "      <td>It's not like we lack evidence of anthropogeni...</td>\n",
              "      <td>126103</td>\n",
              "    </tr>\n",
              "    <tr>\n",
              "      <th>2</th>\n",
              "      <td>2</td>\n",
              "      <td>RT @RawStory: Researchers say we have three ye...</td>\n",
              "      <td>698562</td>\n",
              "    </tr>\n",
              "    <tr>\n",
              "      <th>3</th>\n",
              "      <td>1</td>\n",
              "      <td>#TodayinMaker# WIRED : 2016 was a pivotal year...</td>\n",
              "      <td>573736</td>\n",
              "    </tr>\n",
              "    <tr>\n",
              "      <th>4</th>\n",
              "      <td>1</td>\n",
              "      <td>RT @SoyNovioDeTodas: It's 2016, and a racist, ...</td>\n",
              "      <td>466954</td>\n",
              "    </tr>\n",
              "  </tbody>\n",
              "</table>\n",
              "</div>"
            ],
            "text/plain": [
              "   sentiment                                            message  tweetid\n",
              "0          1  PolySciMajor EPA chief doesn't think carbon di...   625221\n",
              "1          1  It's not like we lack evidence of anthropogeni...   126103\n",
              "2          2  RT @RawStory: Researchers say we have three ye...   698562\n",
              "3          1  #TodayinMaker# WIRED : 2016 was a pivotal year...   573736\n",
              "4          1  RT @SoyNovioDeTodas: It's 2016, and a racist, ...   466954"
            ]
          },
          "metadata": {
            "tags": []
          },
          "execution_count": 10
        }
      ]
    },
    {
      "cell_type": "code",
      "metadata": {
        "id": "bCECqS9XW85B",
        "colab_type": "code",
        "colab": {},
        "outputId": "e43acfbc-44e1-4d19-d5ac-6c0e75479a3d"
      },
      "source": [
        "len(train)"
      ],
      "execution_count": null,
      "outputs": [
        {
          "output_type": "execute_result",
          "data": {
            "text/plain": [
              "15819"
            ]
          },
          "metadata": {
            "tags": []
          },
          "execution_count": 11
        }
      ]
    },
    {
      "cell_type": "code",
      "metadata": {
        "id": "K0FRY91lW85J",
        "colab_type": "code",
        "colab": {}
      },
      "source": [
        ""
      ],
      "execution_count": null,
      "outputs": []
    },
    {
      "cell_type": "markdown",
      "metadata": {
        "id": "aGMmf7ZFW85T",
        "colab_type": "text"
      },
      "source": [
        "# Checking the dataset"
      ]
    },
    {
      "cell_type": "code",
      "metadata": {
        "id": "DM0QdSw7W85V",
        "colab_type": "code",
        "colab": {},
        "outputId": "e6ed5ef2-7083-4cd7-b8ca-3f187c122d05"
      },
      "source": [
        "train.info()"
      ],
      "execution_count": null,
      "outputs": [
        {
          "output_type": "stream",
          "text": [
            "<class 'pandas.core.frame.DataFrame'>\n",
            "RangeIndex: 15819 entries, 0 to 15818\n",
            "Data columns (total 3 columns):\n",
            " #   Column     Non-Null Count  Dtype \n",
            "---  ------     --------------  ----- \n",
            " 0   sentiment  15819 non-null  int64 \n",
            " 1   message    15819 non-null  object\n",
            " 2   tweetid    15819 non-null  int64 \n",
            "dtypes: int64(2), object(1)\n",
            "memory usage: 370.9+ KB\n"
          ],
          "name": "stdout"
        }
      ]
    },
    {
      "cell_type": "markdown",
      "metadata": {
        "id": "iNJ9KpTkW85a",
        "colab_type": "text"
      },
      "source": [
        "Missing data"
      ]
    },
    {
      "cell_type": "code",
      "metadata": {
        "id": "qZQc8D0YW85c",
        "colab_type": "code",
        "colab": {},
        "outputId": "745e8242-94df-4565-9a56-e0017f57172f"
      },
      "source": [
        "#check for Nan values\n",
        "Total = train.isnull().sum().sort_values(ascending=False)\n",
        "percentage = round((train.isnull().sum()/train.isnull().count()*100).sort_values(ascending=False),2)\n",
        "Toal_missing_data = pd.concat([Total, percentage], axis=1, keys=['Total', 'Percentage'])\n",
        "Toal_missing_data.head(10)"
      ],
      "execution_count": null,
      "outputs": [
        {
          "output_type": "execute_result",
          "data": {
            "text/html": [
              "<div>\n",
              "<style scoped>\n",
              "    .dataframe tbody tr th:only-of-type {\n",
              "        vertical-align: middle;\n",
              "    }\n",
              "\n",
              "    .dataframe tbody tr th {\n",
              "        vertical-align: top;\n",
              "    }\n",
              "\n",
              "    .dataframe thead th {\n",
              "        text-align: right;\n",
              "    }\n",
              "</style>\n",
              "<table border=\"1\" class=\"dataframe\">\n",
              "  <thead>\n",
              "    <tr style=\"text-align: right;\">\n",
              "      <th></th>\n",
              "      <th>Total</th>\n",
              "      <th>Percentage</th>\n",
              "    </tr>\n",
              "  </thead>\n",
              "  <tbody>\n",
              "    <tr>\n",
              "      <th>tweetid</th>\n",
              "      <td>0</td>\n",
              "      <td>0.0</td>\n",
              "    </tr>\n",
              "    <tr>\n",
              "      <th>message</th>\n",
              "      <td>0</td>\n",
              "      <td>0.0</td>\n",
              "    </tr>\n",
              "    <tr>\n",
              "      <th>sentiment</th>\n",
              "      <td>0</td>\n",
              "      <td>0.0</td>\n",
              "    </tr>\n",
              "  </tbody>\n",
              "</table>\n",
              "</div>"
            ],
            "text/plain": [
              "           Total  Percentage\n",
              "tweetid        0         0.0\n",
              "message        0         0.0\n",
              "sentiment      0         0.0"
            ]
          },
          "metadata": {
            "tags": []
          },
          "execution_count": 13
        }
      ]
    },
    {
      "cell_type": "markdown",
      "metadata": {
        "id": "vdP0UO-5W85j",
        "colab_type": "text"
      },
      "source": [
        "Labels and features"
      ]
    },
    {
      "cell_type": "code",
      "metadata": {
        "id": "teiIUSfAW85l",
        "colab_type": "code",
        "colab": {}
      },
      "source": [
        "y = train['sentiment']\n",
        "\n",
        "X = train.drop('sentiment', axis=1)"
      ],
      "execution_count": null,
      "outputs": []
    },
    {
      "cell_type": "markdown",
      "metadata": {
        "id": "YHdIBnXlW85y",
        "colab_type": "text"
      },
      "source": [
        "Transforming the Features"
      ]
    },
    {
      "cell_type": "code",
      "metadata": {
        "id": "gW98OMFXW85y",
        "colab_type": "code",
        "colab": {}
      },
      "source": [
        "X_transformed = pd.get_dummies(X, drop_first=True)"
      ],
      "execution_count": null,
      "outputs": []
    },
    {
      "cell_type": "code",
      "metadata": {
        "id": "Gm0y9XhnW854",
        "colab_type": "code",
        "colab": {}
      },
      "source": [
        "X_train, X_test, y_train, y_test = train_test_split(X_transformed, y, test_size=0.33, random_state=17)"
      ],
      "execution_count": null,
      "outputs": []
    },
    {
      "cell_type": "markdown",
      "metadata": {
        "id": "Q6wbFqO2W859",
        "colab_type": "text"
      },
      "source": [
        "# Training data"
      ]
    },
    {
      "cell_type": "code",
      "metadata": {
        "id": "VRvdBs8UW85-",
        "colab_type": "code",
        "colab": {}
      },
      "source": [
        "lr = LogisticRegression()"
      ],
      "execution_count": null,
      "outputs": []
    },
    {
      "cell_type": "code",
      "metadata": {
        "id": "6izhRhG2W86E",
        "colab_type": "code",
        "colab": {},
        "outputId": "c1b66133-62d1-4356-a34e-39ec5fe04562"
      },
      "source": [
        "lr.fit(X_train, y_train)"
      ],
      "execution_count": null,
      "outputs": [
        {
          "output_type": "execute_result",
          "data": {
            "text/plain": [
              "LogisticRegression(C=1.0, class_weight=None, dual=False, fit_intercept=True,\n",
              "                   intercept_scaling=1, l1_ratio=None, max_iter=100,\n",
              "                   multi_class='auto', n_jobs=None, penalty='l2',\n",
              "                   random_state=None, solver='lbfgs', tol=0.0001, verbose=0,\n",
              "                   warm_start=False)"
            ]
          },
          "metadata": {
            "tags": []
          },
          "execution_count": 18
        }
      ]
    },
    {
      "cell_type": "markdown",
      "metadata": {
        "id": "-l7ydIbfW86K",
        "colab_type": "text"
      },
      "source": [
        "The Intercepts"
      ]
    },
    {
      "cell_type": "code",
      "metadata": {
        "id": "yRFFh9udW86L",
        "colab_type": "code",
        "colab": {},
        "outputId": "1d937f25-b71b-4bcf-a2dc-2113edbed56f"
      },
      "source": [
        "lr.intercept_[0]"
      ],
      "execution_count": null,
      "outputs": [
        {
          "output_type": "execute_result",
          "data": {
            "text/plain": [
              "-7.755847175381184e-12"
            ]
          },
          "metadata": {
            "tags": []
          },
          "execution_count": 19
        }
      ]
    },
    {
      "cell_type": "markdown",
      "metadata": {
        "id": "TnAdA92fW86U",
        "colab_type": "text"
      },
      "source": [
        "Predictions"
      ]
    },
    {
      "cell_type": "code",
      "metadata": {
        "id": "3dyPcXY0W86V",
        "colab_type": "code",
        "colab": {}
      },
      "source": [
        "pred_lr = lr.predict(X_test)"
      ],
      "execution_count": null,
      "outputs": []
    },
    {
      "cell_type": "code",
      "metadata": {
        "id": "HVx_LHZGW86n",
        "colab_type": "code",
        "colab": {},
        "outputId": "43b95f89-8e7a-48c5-d649-9b220d48b251"
      },
      "source": [
        "from sklearn.metrics import mean_squared_error\n",
        "results = np.sqrt(mean_squared_error(y_test, pred_lr))\n",
        "results"
      ],
      "execution_count": null,
      "outputs": [
        {
          "output_type": "execute_result",
          "data": {
            "text/plain": [
              "0.8454617630610591"
            ]
          },
          "metadata": {
            "tags": []
          },
          "execution_count": 22
        }
      ]
    },
    {
      "cell_type": "code",
      "metadata": {
        "id": "dGpGGet4W86r",
        "colab_type": "code",
        "colab": {},
        "outputId": "4b6487d9-6e8d-4e7a-ac2e-b01e24630617"
      },
      "source": [
        "from sklearn.metrics import classification_report\n",
        "\n",
        "print(classification_report(y_test,pred_lr))"
      ],
      "execution_count": null,
      "outputs": [
        {
          "output_type": "stream",
          "text": [
            "              precision    recall  f1-score   support\n",
            "\n",
            "          -1       0.00      0.00      0.00       455\n",
            "           0       0.00      0.00      0.00       771\n",
            "           1       0.55      1.00      0.71      2854\n",
            "           2       0.00      0.00      0.00      1141\n",
            "\n",
            "    accuracy                           0.55      5221\n",
            "   macro avg       0.14      0.25      0.18      5221\n",
            "weighted avg       0.30      0.55      0.39      5221\n",
            "\n"
          ],
          "name": "stdout"
        },
        {
          "output_type": "stream",
          "text": [
            "C:\\Users\\mared\\Anaconda3\\lib\\site-packages\\sklearn\\metrics\\_classification.py:1272: UndefinedMetricWarning: Precision and F-score are ill-defined and being set to 0.0 in labels with no predicted samples. Use `zero_division` parameter to control this behavior.\n",
            "  _warn_prf(average, modifier, msg_start, len(result))\n"
          ],
          "name": "stderr"
        }
      ]
    },
    {
      "cell_type": "markdown",
      "metadata": {
        "id": "5qLlSlTIW87C",
        "colab_type": "text"
      },
      "source": [
        "Saving each metric to add to a dictionary for logging"
      ]
    },
    {
      "cell_type": "code",
      "metadata": {
        "id": "ReP_gRF4W87D",
        "colab_type": "code",
        "colab": {}
      },
      "source": [
        "#f1=f1_score(y_test, pred_lr)\n",
        "#precision=precision_score(y_test, pred_lr)\n",
        "#recall =recall_score(y_test, pred_lr)"
      ],
      "execution_count": null,
      "outputs": []
    },
    {
      "cell_type": "code",
      "metadata": {
        "id": "tLK5TFDUW87H",
        "colab_type": "code",
        "colab": {}
      },
      "source": [
        "#params = {\"random_state\": 20,\n",
        "#          \"model_type\": \"linear_svc_gridsearched\",\n",
        "#         \"scaler\": 'TfidfVectorizer',\n",
        "#          \"param_grid\": str(param_grid),\n",
        "#          \"stratify\": False\n",
        "#          }\n",
        "#metrics = {\"f1\": f1,\n",
        "#           \"recall\": recall,\n",
        "#           \"precision\": precision\n",
        "#           }"
      ],
      "execution_count": null,
      "outputs": []
    },
    {
      "cell_type": "code",
      "metadata": {
        "id": "EYTEX7C6W87M",
        "colab_type": "code",
        "colab": {}
      },
      "source": [
        "#experiment.log_parameters(params)\n",
        "#experiment.log_metrics(metrics)"
      ],
      "execution_count": null,
      "outputs": []
    },
    {
      "cell_type": "code",
      "metadata": {
        "id": "OCFmvVLsW87Q",
        "colab_type": "code",
        "colab": {},
        "outputId": "01a1e367-f442-4296-82fd-ef5fdcd19dfb"
      },
      "source": [
        "experiment.end()"
      ],
      "execution_count": null,
      "outputs": [
        {
          "output_type": "stream",
          "text": [
            "COMET INFO: ---------------------------\n",
            "COMET INFO: Comet.ml Experiment Summary\n",
            "COMET INFO: ---------------------------\n",
            "COMET INFO:   Data:\n",
            "COMET INFO:     display_summary_level : 1\n",
            "COMET INFO:     url                   : https://www.comet.ml/team-jhb-ss3/classification-predict/2518c1cc5aec47cca0d822817dbb8539\n",
            "COMET INFO:   Parameters:\n",
            "COMET INFO:     C                 : 1.0\n",
            "COMET INFO:     class_weight      : 1\n",
            "COMET INFO:     dual              : 1\n",
            "COMET INFO:     fit_intercept     : True\n",
            "COMET INFO:     intercept_scaling : 1\n",
            "COMET INFO:     l1_ratio          : 1\n",
            "COMET INFO:     max_iter          : 100\n",
            "COMET INFO:     multi_class       : auto\n",
            "COMET INFO:     n_jobs            : 1\n",
            "COMET INFO:     penalty           : l2\n",
            "COMET INFO:     random_state      : 1\n",
            "COMET INFO:     solver            : lbfgs\n",
            "COMET INFO:     tol               : 0.0001\n",
            "COMET INFO:     verbose           : 1\n",
            "COMET INFO:     warm_start        : 1\n",
            "COMET INFO:   Uploads:\n",
            "COMET INFO:     code                : 1 (4 KB)\n",
            "COMET INFO:     environment details : 1\n",
            "COMET INFO:     filename            : 1\n",
            "COMET INFO:     installed packages  : 1\n",
            "COMET INFO:     notebook            : 1\n",
            "COMET INFO: ---------------------------\n",
            "COMET INFO: Uploading stats to Comet before program termination (may take several seconds)\n"
          ],
          "name": "stderr"
        }
      ]
    },
    {
      "cell_type": "code",
      "metadata": {
        "id": "PDMBuj6MW87U",
        "colab_type": "code",
        "colab": {}
      },
      "source": [
        ""
      ],
      "execution_count": null,
      "outputs": []
    }
  ]
}