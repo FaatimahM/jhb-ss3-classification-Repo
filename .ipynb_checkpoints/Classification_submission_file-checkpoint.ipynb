{
 "cells": [
  {
   "cell_type": "markdown",
   "metadata": {
    "colab_type": "text",
    "id": "view-in-github"
   },
   "source": [
    "<a href=\"https://colab.research.google.com/github/Maredipinkydimakatso/jhb-ss3-classification-Repo/blob/master/Classification_submission_file.ipynb\" target=\"_parent\"><img src=\"https://colab.research.google.com/assets/colab-badge.svg\" alt=\"Open In Colab\"/></a>"
   ]
  },
  {
   "cell_type": "markdown",
   "metadata": {
    "colab_type": "text",
    "id": "hOeTLNk8H977",
    "toc": true
   },
   "source": [
    "<h1>Table of Contents<span class=\"tocSkip\"></span></h1>\n",
    "<div class=\"toc\"><ul class=\"toc-item\"><li><span><a href=\"#Background\" data-toc-modified-id=\"Background-1\"><span class=\"toc-item-num\">1&nbsp;&nbsp;</span>Background</a></span></li><li><span><a href=\"#Introduction\" data-toc-modified-id=\"Introduction-2\"><span class=\"toc-item-num\">2&nbsp;&nbsp;</span>Introduction</a></span><ul class=\"toc-item\"><li><span><a href=\"#Problem-Statement\" data-toc-modified-id=\"Problem-Statement-2.1\"><span class=\"toc-item-num\">2.1&nbsp;&nbsp;</span>Problem Statement</a></span></li><li><span><a href=\"#Framework\" data-toc-modified-id=\"Framework-2.2\"><span class=\"toc-item-num\">2.2&nbsp;&nbsp;</span>Framework</a></span></li><li><span><a href=\"#Valuation\" data-toc-modified-id=\"Valuation-2.3\"><span class=\"toc-item-num\">2.3&nbsp;&nbsp;</span>Valuation</a></span></li></ul></li><li><span><a href=\"#Libraries\" data-toc-modified-id=\"Libraries-3\"><span class=\"toc-item-num\">3&nbsp;&nbsp;</span>Libraries</a></span></li><li><span><a href=\"#Data\" data-toc-modified-id=\"Data-4\"><span class=\"toc-item-num\">4&nbsp;&nbsp;</span>Data</a></span><ul class=\"toc-item\"><li><span><a href=\"#Overview\" data-toc-modified-id=\"Overview-4.1\"><span class=\"toc-item-num\">4.1&nbsp;&nbsp;</span>Overview</a></span></li><li><span><a href=\"#Missing-values\" data-toc-modified-id=\"Missing-values-4.2\"><span class=\"toc-item-num\">4.2&nbsp;&nbsp;</span>Missing values</a></span></li><li><span><a href=\"#Duplicates\" data-toc-modified-id=\"Duplicates-4.3\"><span class=\"toc-item-num\">4.3&nbsp;&nbsp;</span>Duplicates</a></span></li></ul></li><li><span><a href=\"#Exploratory-Data-Analysis\" data-toc-modified-id=\"Exploratory-Data-Analysis-5\"><span class=\"toc-item-num\">5&nbsp;&nbsp;</span>Exploratory Data Analysis</a></span><ul class=\"toc-item\"><li><span><a href=\"#Overview\" data-toc-modified-id=\"Overview-5.1\"><span class=\"toc-item-num\">5.1&nbsp;&nbsp;</span>Overview</a></span><ul class=\"toc-item\"><li><span><a href=\"#Distribution\" data-toc-modified-id=\"Distribution-5.1.1\"><span class=\"toc-item-num\">5.1.1&nbsp;&nbsp;</span>Distribution</a></span></li><li><span><a href=\"#Writing-Characteristics\" data-toc-modified-id=\"Writing-Characteristics-5.1.2\"><span class=\"toc-item-num\">5.1.2&nbsp;&nbsp;</span>Writing Characteristics</a></span></li></ul></li><li><span><a href=\"#Visualizations\" data-toc-modified-id=\"Visualizations-5.2\"><span class=\"toc-item-num\">5.2&nbsp;&nbsp;</span>Visualizations</a></span><ul class=\"toc-item\"><li><span><a href=\"#Anti\" data-toc-modified-id=\"Anti-5.2.1\"><span class=\"toc-item-num\">5.2.1&nbsp;&nbsp;</span>Anti</a></span></li><li><span><a href=\"#Neutral\" data-toc-modified-id=\"Neutral-5.2.2\"><span class=\"toc-item-num\">5.2.2&nbsp;&nbsp;</span>Neutral</a></span></li><li><span><a href=\"#Pro\" data-toc-modified-id=\"Pro-5.2.3\"><span class=\"toc-item-num\">5.2.3&nbsp;&nbsp;</span>Pro</a></span></li><li><span><a href=\"#News\" data-toc-modified-id=\"News-5.2.4\"><span class=\"toc-item-num\">5.2.4&nbsp;&nbsp;</span>News</a></span></li></ul></li><li><span><a href=\"#Feature-Engineering\" data-toc-modified-id=\"Feature-Engineering-5.3\"><span class=\"toc-item-num\">5.3&nbsp;&nbsp;</span>Feature Engineering</a></span></li></ul></li><li><span><a href=\"#Modeling\" data-toc-modified-id=\"Modeling-6\"><span class=\"toc-item-num\">6&nbsp;&nbsp;</span>Modeling</a></span><ul class=\"toc-item\"><li><span><a href=\"#Data-Prepocessing\" data-toc-modified-id=\"Data-Prepocessing-6.1\"><span class=\"toc-item-num\">6.1&nbsp;&nbsp;</span>Data Prepocessing</a></span></li><li><span><a href=\"#Machine-Learning\" data-toc-modified-id=\"Machine-Learning-6.2\"><span class=\"toc-item-num\">6.2&nbsp;&nbsp;</span>Machine Learning</a></span><ul class=\"toc-item\"><li><span><a href=\"#Logistic-Regression\" data-toc-modified-id=\"Logistic-Regression-6.2.1\"><span class=\"toc-item-num\">6.2.1&nbsp;&nbsp;</span>Logistic Regression</a></span></li><li><span><a href=\"#Support-Vector-Machines\" data-toc-modified-id=\"Support-Vector-Machines-6.2.2\"><span class=\"toc-item-num\">6.2.2&nbsp;&nbsp;</span>Support Vector Machines</a></span><ul class=\"toc-item\"><li><span><a href=\"#LinearSVC\" data-toc-modified-id=\"LinearSVC-6.2.2.1\"><span class=\"toc-item-num\">6.2.2.1&nbsp;&nbsp;</span>LinearSVC</a></span></li><li><span><a href=\"#SVC\" data-toc-modified-id=\"SVC-6.2.2.2\"><span class=\"toc-item-num\">6.2.2.2&nbsp;&nbsp;</span>SVC</a></span></li></ul></li><li><span><a href=\"#KNearest-Neighbors\" data-toc-modified-id=\"KNearest-Neighbors-6.2.3\"><span class=\"toc-item-num\">6.2.3&nbsp;&nbsp;</span>KNearest Neighbors</a></span></li><li><span><a href=\"#Naive-Bayes\" data-toc-modified-id=\"Naive-Bayes-6.2.4\"><span class=\"toc-item-num\">6.2.4&nbsp;&nbsp;</span>Naive Bayes</a></span><ul class=\"toc-item\"><li><span><a href=\"#Multinomial-Naive-Bayes\" data-toc-modified-id=\"Multinomial-Naive-Bayes-6.2.4.1\"><span class=\"toc-item-num\">6.2.4.1&nbsp;&nbsp;</span>Multinomial Naive Bayes</a></span></li><li><span><a href=\"#Complement-Naive-Bayes\" data-toc-modified-id=\"Complement-Naive-Bayes-6.2.4.2\"><span class=\"toc-item-num\">6.2.4.2&nbsp;&nbsp;</span>Complement Naive Bayes</a></span></li></ul></li><li><span><a href=\"#Decision-Tree\" data-toc-modified-id=\"Decision-Tree-6.2.5\"><span class=\"toc-item-num\">6.2.5&nbsp;&nbsp;</span>Decision Tree</a></span></li><li><span><a href=\"#Neural-Networks\" data-toc-modified-id=\"Neural-Networks-6.2.6\"><span class=\"toc-item-num\">6.2.6&nbsp;&nbsp;</span>Neural Networks</a></span></li></ul></li><li><span><a href=\"#Ensemble-models\" data-toc-modified-id=\"Ensemble-models-6.3\"><span class=\"toc-item-num\">6.3&nbsp;&nbsp;</span>Ensemble models</a></span><ul class=\"toc-item\"><li><span><a href=\"#RandomForestClassifier\" data-toc-modified-id=\"RandomForestClassifier-6.3.1\"><span class=\"toc-item-num\">6.3.1&nbsp;&nbsp;</span>RandomForestClassifier</a></span></li><li><span><a href=\"#VotingClassifier\" data-toc-modified-id=\"VotingClassifier-6.3.2\"><span class=\"toc-item-num\">6.3.2&nbsp;&nbsp;</span>VotingClassifier</a></span></li><li><span><a href=\"#BaggingClassifier\" data-toc-modified-id=\"BaggingClassifier-6.3.3\"><span class=\"toc-item-num\">6.3.3&nbsp;&nbsp;</span>BaggingClassifier</a></span></li></ul></li></ul></li><li><span><a href=\"#Balancing-the-data\" data-toc-modified-id=\"Balancing-the-data-7\"><span class=\"toc-item-num\">7&nbsp;&nbsp;</span>Balancing the data</a></span><ul class=\"toc-item\"><li><span><a href=\"#Downsampling\" data-toc-modified-id=\"Downsampling-7.1\"><span class=\"toc-item-num\">7.1&nbsp;&nbsp;</span>Downsampling</a></span></li><li><span><a href=\"#Upsampling\" data-toc-modified-id=\"Upsampling-7.2\"><span class=\"toc-item-num\">7.2&nbsp;&nbsp;</span>Upsampling</a></span></li><li><span><a href=\"#SMOTE\" data-toc-modified-id=\"SMOTE-7.3\"><span class=\"toc-item-num\">7.3&nbsp;&nbsp;</span>SMOTE</a></span></li></ul></li><li><span><a href=\"#Results\" data-toc-modified-id=\"Results-8\"><span class=\"toc-item-num\">8&nbsp;&nbsp;</span>Results</a></span></li><li><span><a href=\"#Conclusion\" data-toc-modified-id=\"Conclusion-9\"><span class=\"toc-item-num\">9&nbsp;&nbsp;</span>Conclusion</a></span></li></ul></div>"
   ]
  },
  {
   "cell_type": "markdown",
   "metadata": {
    "colab_type": "text",
    "id": "view-in-github"
   },
   "source": [
    "<a href=\"https://colab.research.google.com/github/Maredipinkydimakatso/jhb-ss3-classification-Repo/blob/master/Classification_submission_file.ipynb\" target=\"_parent\"><img src=\"https://colab.research.google.com/assets/colab-badge.svg\" alt=\"Open In Colab\"/></a>"
   ]
  },
  {
   "cell_type": "markdown",
   "metadata": {
    "colab": {},
    "colab_type": "code",
    "id": "VzwndLJZed7t"
   },
   "source": [
    "# Background"
   ]
  },
  {
   "cell_type": "markdown",
   "metadata": {
    "colab_type": "text",
    "id": "fsH1Q0tiH98L"
   },
   "source": [
    "Organizations around the world are focused on reducing the amount of environmental impact that is caused by the products they produce. These organizations have taken the responsibility to reduce their carbon footprint, however, there are some people who believe that it is not their responsibility to follow suit, more like climate change is a hoax and all these enviromental changes taking are just natural. "
   ]
  },
  {
   "cell_type": "markdown",
   "metadata": {
    "colab_type": "text",
    "id": "KdVr3roeH98N"
   },
   "source": [
    "# Introduction"
   ]
  },
  {
   "cell_type": "markdown",
   "metadata": {},
   "source": [
    "## Problem Statement"
   ]
  },
  {
   "cell_type": "markdown",
   "metadata": {},
   "source": []
  },
  {
   "cell_type": "markdown",
   "metadata": {},
   "source": [
    "## Framework"
   ]
  },
  {
   "cell_type": "markdown",
   "metadata": {
    "colab_type": "text",
    "id": "wpt_dvitH98Q"
   },
   "source": [
    "EDSA has tasked the group in creating a Machine Learning model that is able to identify the sentiment group each person belongs to based on their tweet message. Accurate predictions from this model will enable companies to familiarize themselves with the overall sentiment of a broader population hence enabling access to insights and developing marketing strategies.\n",
    "\n",
    "The overall analytical framework that was followed is that data was presented to us which contained tweets about climate change collected from 27 April 2015 till 21 Feb 2018. Data was split into train and test data and the machine learning model was trained using only train data and was tested with the test data. Various models were tested to determine the best performing model, the models ranged from Linear Support Vector Machines, Complement Naive Bayes, ensemble models such as Voting Classifier, and Bagging Classifier, and Neural Networks."
   ]
  },
  {
   "cell_type": "markdown",
   "metadata": {},
   "source": [
    "## Valuation"
   ]
  },
  {
   "cell_type": "markdown",
   "metadata": {},
   "source": [
    "The performance of the model was based on how well the model generalizes between different sentiment groups, this was clearly captured by using the F1-score as the valuation metric.\n",
    "\n",
    "$$F1 = \\frac{2 \\times Precision \\times Recall}{Precision + Recall}$$\n",
    "\n",
    "whereby:\n",
    "\n",
    "$$Precision = \\frac{TP}{TP + FP}$$ <br>\n",
    "\n",
    "$$Recall = \\frac{TP}{TP + FN}$$ <br>\n",
    "\n",
    "$TP$ - True Positives <br>\n",
    "\n",
    "$FP$ - False Positives <br>\n",
    "\n",
    "$FN$ - False Negatives"
   ]
  },
  {
   "cell_type": "markdown",
   "metadata": {
    "colab_type": "text",
    "id": "6IxSkQkcH98h"
   },
   "source": [
    "# Libraries"
   ]
  },
  {
   "cell_type": "code",
   "execution_count": 1,
   "metadata": {
    "colab": {},
    "colab_type": "code",
    "id": "6A2UHaV7H98i"
   },
   "outputs": [],
   "source": [
    "# standard libraries\n",
    "import pandas as pd\n",
    "import numpy as np\n",
    "\n",
    "# plotting libraries\n",
    "import matplotlib.pyplot as plt\n",
    "from matplotlib.pyplot import rcParams\n",
    "import seaborn as sns\n",
    "%matplotlib inline\n",
    "rcParams['figure.figsize'] = 10,8\n",
    "sns.set(style='darkgrid')\n",
    "\n",
    "# text analysis libraries\n",
    "import re\n",
    "import spacy\n",
    "import string\n",
    "import emoji\n",
    "\n",
    "# model building and valuation libraries\n",
    "from sklearn.model_selection import train_test_split, GridSearchCV\n",
    "from sklearn.metrics import confusion_matrix, classification_report\n",
    "from sklearn.metrics import f1_score, recall_score, precision_score, make_scorer\n",
    "from sklearn.pipeline import Pipeline\n",
    "from sklearn.feature_extraction.text import TfidfVectorizer\n",
    "\n",
    "# Sampling \n",
    "from sklearn.utils import resample, shuffle\n",
    "from imblearn.over_sampling import SMOTE\n",
    "from sklearn.model_selection import train_test_split\n",
    "\n",
    "# Machine Learning models\n",
    "from sklearn.linear_model import LogisticRegression\n",
    "from sklearn.svm import LinearSVC, SVC\n",
    "from sklearn.neighbors import KNeighborsClassifier\n",
    "from sklearn.naive_bayes import MultinomialNB, ComplementNB\n",
    "from sklearn.tree import DecisionTreeClassifier\n",
    "\n",
    "# Ensemble models\n",
    "from sklearn.ensemble import RandomForestClassifier, VotingClassifier, AdaBoostClassifier\n",
    "from sklearn.ensemble import BaggingClassifier, GradientBoostingClassifier\n",
    "\n",
    "# Neural Networks\n",
    "# from tensorflow.keras.metrics import Precision, Recall\n",
    "# from tensorflow.keras import Sequential\n",
    "# from tensorflow.keras.layers import Dense, Dropout, LSTM\n",
    "# from tensorflow.keras.callbacks import EarlyStopping\n",
    "\n",
    "# other libraries\n",
    "import warnings\n",
    "warnings.filterwarnings('ignore')"
   ]
  },
  {
   "cell_type": "code",
   "execution_count": 2,
   "metadata": {},
   "outputs": [],
   "source": [
    "# Loading a spacy English dictionary for NLP\n",
    "nlp = spacy.load('en_core_web_md')"
   ]
  },
  {
   "cell_type": "markdown",
   "metadata": {
    "colab_type": "text",
    "id": "gC5_3gnPH98p"
   },
   "source": [
    "# Data"
   ]
  },
  {
   "cell_type": "markdown",
   "metadata": {
    "colab_type": "text",
    "id": "zAZdhsxUH98q"
   },
   "source": [
    "## Overview"
   ]
  },
  {
   "cell_type": "code",
   "execution_count": 40,
   "metadata": {
    "colab": {},
    "colab_type": "code",
    "id": "jzbUvBtJH98r"
   },
   "outputs": [],
   "source": [
    "df = pd.read_csv('train.csv')"
   ]
  },
  {
   "cell_type": "code",
   "execution_count": 41,
   "metadata": {
    "colab": {
     "base_uri": "https://localhost:8080/",
     "height": 204
    },
    "colab_type": "code",
    "id": "gvW1Oxn1H98x",
    "outputId": "763dfc4e-91cf-463f-da84-f4771c150460"
   },
   "outputs": [
    {
     "data": {
      "text/html": [
       "<div>\n",
       "<style scoped>\n",
       "    .dataframe tbody tr th:only-of-type {\n",
       "        vertical-align: middle;\n",
       "    }\n",
       "\n",
       "    .dataframe tbody tr th {\n",
       "        vertical-align: top;\n",
       "    }\n",
       "\n",
       "    .dataframe thead th {\n",
       "        text-align: right;\n",
       "    }\n",
       "</style>\n",
       "<table border=\"1\" class=\"dataframe\">\n",
       "  <thead>\n",
       "    <tr style=\"text-align: right;\">\n",
       "      <th></th>\n",
       "      <th>sentiment</th>\n",
       "      <th>message</th>\n",
       "      <th>tweetid</th>\n",
       "    </tr>\n",
       "  </thead>\n",
       "  <tbody>\n",
       "    <tr>\n",
       "      <th>0</th>\n",
       "      <td>1</td>\n",
       "      <td>PolySciMajor EPA chief doesn't think carbon di...</td>\n",
       "      <td>625221</td>\n",
       "    </tr>\n",
       "    <tr>\n",
       "      <th>1</th>\n",
       "      <td>1</td>\n",
       "      <td>It's not like we lack evidence of anthropogeni...</td>\n",
       "      <td>126103</td>\n",
       "    </tr>\n",
       "    <tr>\n",
       "      <th>2</th>\n",
       "      <td>2</td>\n",
       "      <td>RT @RawStory: Researchers say we have three ye...</td>\n",
       "      <td>698562</td>\n",
       "    </tr>\n",
       "    <tr>\n",
       "      <th>3</th>\n",
       "      <td>1</td>\n",
       "      <td>#TodayinMaker# WIRED : 2016 was a pivotal year...</td>\n",
       "      <td>573736</td>\n",
       "    </tr>\n",
       "    <tr>\n",
       "      <th>4</th>\n",
       "      <td>1</td>\n",
       "      <td>RT @SoyNovioDeTodas: It's 2016, and a racist, ...</td>\n",
       "      <td>466954</td>\n",
       "    </tr>\n",
       "  </tbody>\n",
       "</table>\n",
       "</div>"
      ],
      "text/plain": [
       "   sentiment                                            message  tweetid\n",
       "0          1  PolySciMajor EPA chief doesn't think carbon di...   625221\n",
       "1          1  It's not like we lack evidence of anthropogeni...   126103\n",
       "2          2  RT @RawStory: Researchers say we have three ye...   698562\n",
       "3          1  #TodayinMaker# WIRED : 2016 was a pivotal year...   573736\n",
       "4          1  RT @SoyNovioDeTodas: It's 2016, and a racist, ...   466954"
      ]
     },
     "execution_count": 41,
     "metadata": {},
     "output_type": "execute_result"
    }
   ],
   "source": [
    "# Check the first five rows of the dataframe\n",
    "df.head()"
   ]
  },
  {
   "cell_type": "code",
   "execution_count": 5,
   "metadata": {
    "colab": {
     "base_uri": "https://localhost:8080/",
     "height": 187
    },
    "colab_type": "code",
    "id": "yNpOFr9PH987",
    "outputId": "85fa1042-a390-4c0b-e5ab-89decf85b295"
   },
   "outputs": [
    {
     "name": "stdout",
     "output_type": "stream",
     "text": [
      "<class 'pandas.core.frame.DataFrame'>\n",
      "RangeIndex: 15819 entries, 0 to 15818\n",
      "Data columns (total 3 columns):\n",
      "sentiment    15819 non-null int64\n",
      "message      15819 non-null object\n",
      "tweetid      15819 non-null int64\n",
      "dtypes: int64(2), object(1)\n",
      "memory usage: 370.8+ KB\n"
     ]
    }
   ],
   "source": [
    "df.info()"
   ]
  },
  {
   "cell_type": "markdown",
   "metadata": {
    "colab_type": "text",
    "id": "QarclmzuH99C"
   },
   "source": [
    "The data frame consists of three columns, sentiment which is an interger value refering to the tweet class.\n",
    "\n",
    "| **Class** | **Description** |\n",
    "| :----------: | :------------- |\n",
    "| 2 | **News:** the tweet links to factual news about climate change |\n",
    "| 1 | **Pro:** the tweet supports the belief of man-made climate change |\n",
    "| 0 | **Neutral:** the tweet neither supports nor refutes the belief of man-made climate change |\n",
    "| -1 | **Anti:** the tweet does not believe in man-made climate change |\n",
    "\n",
    "source: https://www.kaggle.com/c/climate-change-belief-analysis/data\n",
    "\n",
    "The message column is in text format for tweets collected from April 2015 to February 2018 on people expressing the belief \n",
    "about man-made climate change. The tweetid is a unique integer value corresponding to the tweet message."
   ]
  },
  {
   "cell_type": "code",
   "execution_count": 6,
   "metadata": {
    "colab": {
     "base_uri": "https://localhost:8080/",
     "height": 34
    },
    "colab_type": "code",
    "id": "Yr16b163H99D",
    "outputId": "56aca0e2-6776-4e06-8166-caa257d7b55f"
   },
   "outputs": [
    {
     "name": "stdout",
     "output_type": "stream",
     "text": [
      "The dataframe consists of 15819 twitter messages.\n"
     ]
    }
   ],
   "source": [
    "print(f'The dataframe consists of {len(df)} twitter messages.')"
   ]
  },
  {
   "cell_type": "markdown",
   "metadata": {
    "colab_type": "text",
    "id": "t5eAIREXH99I"
   },
   "source": [
    "## Missing values"
   ]
  },
  {
   "cell_type": "code",
   "execution_count": 7,
   "metadata": {
    "colab": {
     "base_uri": "https://localhost:8080/",
     "height": 0
    },
    "colab_type": "code",
    "id": "NPgTdl0ZH99J",
    "outputId": "a833f878-2411-4864-d88f-b8299753189f"
   },
   "outputs": [
    {
     "data": {
      "text/plain": [
       "sentiment    0\n",
       "message      0\n",
       "tweetid      0\n",
       "dtype: int64"
      ]
     },
     "execution_count": 7,
     "metadata": {},
     "output_type": "execute_result"
    }
   ],
   "source": [
    "# Check for NaN entries\n",
    "df.isnull().sum()"
   ]
  },
  {
   "cell_type": "markdown",
   "metadata": {
    "colab_type": "text",
    "id": "h6YBkafFH99O"
   },
   "source": [
    "There are currently no missing values in the dataset."
   ]
  },
  {
   "cell_type": "code",
   "execution_count": 8,
   "metadata": {
    "colab": {},
    "colab_type": "code",
    "id": "HihdfVIaH99P"
   },
   "outputs": [],
   "source": [
    "# Sometimes empty strings can be regarded as not being null, therefore there has to be a check for empty strings message column.\n",
    "blanks = []\n",
    "for index, sentiment, message, tweetid in df.itertuples():\n",
    "    if message.isspace():\n",
    "        blanks.append(index)"
   ]
  },
  {
   "cell_type": "code",
   "execution_count": 9,
   "metadata": {
    "colab": {
     "base_uri": "https://localhost:8080/",
     "height": 0
    },
    "colab_type": "code",
    "id": "iaKqrEJBH99b",
    "outputId": "f767b076-1fb4-4a54-a1b3-a55806c190ac"
   },
   "outputs": [
    {
     "data": {
      "text/plain": [
       "[]"
      ]
     },
     "execution_count": 9,
     "metadata": {},
     "output_type": "execute_result"
    }
   ],
   "source": [
    "blanks"
   ]
  },
  {
   "cell_type": "markdown",
   "metadata": {
    "colab_type": "text",
    "id": "YQXixbY8H99h"
   },
   "source": [
    "Similarly, there appears to be no empty strings in the dataset."
   ]
  },
  {
   "cell_type": "markdown",
   "metadata": {
    "colab_type": "text",
    "id": "tZ31irXTH99i"
   },
   "source": [
    "## Duplicates"
   ]
  },
  {
   "cell_type": "code",
   "execution_count": 10,
   "metadata": {
    "colab": {},
    "colab_type": "code",
    "id": "fsASWEWDH99j"
   },
   "outputs": [],
   "source": [
    "# Original length of dataset \n",
    "original_len = len(df)"
   ]
  },
  {
   "cell_type": "code",
   "execution_count": 11,
   "metadata": {
    "colab": {
     "base_uri": "https://localhost:8080/",
     "height": 0
    },
    "colab_type": "code",
    "id": "g6IaRJK7H99o",
    "outputId": "14bf7f1c-18a3-447f-d06f-6375c400d88c"
   },
   "outputs": [
    {
     "data": {
      "text/plain": [
       "15819"
      ]
     },
     "execution_count": 11,
     "metadata": {},
     "output_type": "execute_result"
    }
   ],
   "source": [
    "original_len"
   ]
  },
  {
   "cell_type": "code",
   "execution_count": 12,
   "metadata": {
    "colab": {},
    "colab_type": "code",
    "id": "SNPJ7ADSH99x"
   },
   "outputs": [],
   "source": [
    "all_duplicates = df[df.duplicated(['message'])]"
   ]
  },
  {
   "cell_type": "code",
   "execution_count": 13,
   "metadata": {
    "colab": {
     "base_uri": "https://localhost:8080/",
     "height": 0
    },
    "colab_type": "code",
    "id": "pJ8mq2qJH992",
    "outputId": "bb851520-0965-4773-f452-acae022fde55"
   },
   "outputs": [
    {
     "data": {
      "text/html": [
       "<div>\n",
       "<style scoped>\n",
       "    .dataframe tbody tr th:only-of-type {\n",
       "        vertical-align: middle;\n",
       "    }\n",
       "\n",
       "    .dataframe tbody tr th {\n",
       "        vertical-align: top;\n",
       "    }\n",
       "\n",
       "    .dataframe thead th {\n",
       "        text-align: right;\n",
       "    }\n",
       "</style>\n",
       "<table border=\"1\" class=\"dataframe\">\n",
       "  <thead>\n",
       "    <tr style=\"text-align: right;\">\n",
       "      <th></th>\n",
       "      <th>sentiment</th>\n",
       "      <th>message</th>\n",
       "      <th>tweetid</th>\n",
       "    </tr>\n",
       "  </thead>\n",
       "  <tbody>\n",
       "    <tr>\n",
       "      <th>51</th>\n",
       "      <td>1</td>\n",
       "      <td>RT @StephenSchlegel: she's thinking about how ...</td>\n",
       "      <td>785499</td>\n",
       "    </tr>\n",
       "    <tr>\n",
       "      <th>70</th>\n",
       "      <td>1</td>\n",
       "      <td>RT @kelkulus: Irony: Florida, a state in dange...</td>\n",
       "      <td>857540</td>\n",
       "    </tr>\n",
       "    <tr>\n",
       "      <th>98</th>\n",
       "      <td>1</td>\n",
       "      <td>RT @StephenSchlegel: she's thinking about how ...</td>\n",
       "      <td>603318</td>\n",
       "    </tr>\n",
       "    <tr>\n",
       "      <th>112</th>\n",
       "      <td>1</td>\n",
       "      <td>RT @SenSanders: We have a president-elect who ...</td>\n",
       "      <td>664093</td>\n",
       "    </tr>\n",
       "    <tr>\n",
       "      <th>122</th>\n",
       "      <td>1</td>\n",
       "      <td>RT @StephenSchlegel: she's thinking about how ...</td>\n",
       "      <td>97375</td>\n",
       "    </tr>\n",
       "    <tr>\n",
       "      <th>123</th>\n",
       "      <td>1</td>\n",
       "      <td>RT @SethMacFarlane: HRC proposes installing ha...</td>\n",
       "      <td>383885</td>\n",
       "    </tr>\n",
       "    <tr>\n",
       "      <th>142</th>\n",
       "      <td>1</td>\n",
       "      <td>RT @StephenSchlegel: she's thinking about how ...</td>\n",
       "      <td>188844</td>\n",
       "    </tr>\n",
       "    <tr>\n",
       "      <th>184</th>\n",
       "      <td>1</td>\n",
       "      <td>RT @StephenSchlegel: she's thinking about how ...</td>\n",
       "      <td>990837</td>\n",
       "    </tr>\n",
       "    <tr>\n",
       "      <th>224</th>\n",
       "      <td>1</td>\n",
       "      <td>RT @StephenSchlegel: she's thinking about how ...</td>\n",
       "      <td>80936</td>\n",
       "    </tr>\n",
       "    <tr>\n",
       "      <th>240</th>\n",
       "      <td>1</td>\n",
       "      <td>RT @StephenSchlegel: she's thinking about how ...</td>\n",
       "      <td>385351</td>\n",
       "    </tr>\n",
       "  </tbody>\n",
       "</table>\n",
       "</div>"
      ],
      "text/plain": [
       "     sentiment                                            message  tweetid\n",
       "51           1  RT @StephenSchlegel: she's thinking about how ...   785499\n",
       "70           1  RT @kelkulus: Irony: Florida, a state in dange...   857540\n",
       "98           1  RT @StephenSchlegel: she's thinking about how ...   603318\n",
       "112          1  RT @SenSanders: We have a president-elect who ...   664093\n",
       "122          1  RT @StephenSchlegel: she's thinking about how ...    97375\n",
       "123          1  RT @SethMacFarlane: HRC proposes installing ha...   383885\n",
       "142          1  RT @StephenSchlegel: she's thinking about how ...   188844\n",
       "184          1  RT @StephenSchlegel: she's thinking about how ...   990837\n",
       "224          1  RT @StephenSchlegel: she's thinking about how ...    80936\n",
       "240          1  RT @StephenSchlegel: she's thinking about how ...   385351"
      ]
     },
     "execution_count": 13,
     "metadata": {},
     "output_type": "execute_result"
    }
   ],
   "source": [
    "all_duplicates.head(10)"
   ]
  },
  {
   "cell_type": "code",
   "execution_count": 14,
   "metadata": {
    "colab": {
     "base_uri": "https://localhost:8080/",
     "height": 0
    },
    "colab_type": "code",
    "id": "Jt4zXmmGH99_",
    "outputId": "0be65539-63cc-4865-fd20-f10d42f7a72d"
   },
   "outputs": [
    {
     "data": {
      "text/plain": [
       "1590"
      ]
     },
     "execution_count": 14,
     "metadata": {},
     "output_type": "execute_result"
    }
   ],
   "source": [
    "len(all_duplicates)"
   ]
  },
  {
   "cell_type": "markdown",
   "metadata": {
    "colab_type": "text",
    "id": "EVs_StizH9-E"
   },
   "source": [
    "There are 1590 messages which are duplicated amongst each other in terms of the message column only."
   ]
  },
  {
   "cell_type": "code",
   "execution_count": 15,
   "metadata": {
    "colab": {},
    "colab_type": "code",
    "id": "dgn3ULRjH9-F"
   },
   "outputs": [],
   "source": [
    "duplicates = df[df.duplicated(['sentiment','message'])]"
   ]
  },
  {
   "cell_type": "code",
   "execution_count": 16,
   "metadata": {
    "colab": {
     "base_uri": "https://localhost:8080/",
     "height": 0
    },
    "colab_type": "code",
    "id": "Q2O7o0P-H9-J",
    "outputId": "593f6b0b-5a9c-4e26-b171-557c278d3c3b"
   },
   "outputs": [
    {
     "data": {
      "text/plain": [
       "1586"
      ]
     },
     "execution_count": 16,
     "metadata": {},
     "output_type": "execute_result"
    }
   ],
   "source": [
    "len(duplicates)"
   ]
  },
  {
   "cell_type": "markdown",
   "metadata": {
    "colab_type": "text",
    "id": "00uMy9V5H9-N"
   },
   "source": [
    "There are 1586 messages which are duplicated both in sentiment and message."
   ]
  },
  {
   "cell_type": "code",
   "execution_count": 17,
   "metadata": {
    "colab": {
     "base_uri": "https://localhost:8080/",
     "height": 0
    },
    "colab_type": "code",
    "id": "SL-I8PgXH9-O",
    "outputId": "04dbc06d-c93e-48f4-f7bc-de1aa4d1c67d"
   },
   "outputs": [
    {
     "name": "stdout",
     "output_type": "stream",
     "text": [
      "Therefore 4 of the rows are duplicate messages but not sharing the same sentiment, therefore they will all be dropped.\n"
     ]
    }
   ],
   "source": [
    "print(f\"Therefore {len(all_duplicates) - len(duplicates)} of the rows are duplicate messages but not sharing the\\\n",
    " same sentiment, therefore they will all be dropped.\")"
   ]
  },
  {
   "cell_type": "code",
   "execution_count": 18,
   "metadata": {
    "colab": {
     "base_uri": "https://localhost:8080/",
     "height": 0
    },
    "colab_type": "code",
    "id": "RANr6oGMH9-T",
    "outputId": "5a014ee4-aa57-4007-98e1-4fa488c5252a"
   },
   "outputs": [
    {
     "data": {
      "text/plain": [
       "[5393, 10351, 12001, 14103]"
      ]
     },
     "execution_count": 18,
     "metadata": {},
     "output_type": "execute_result"
    }
   ],
   "source": [
    "# Creating a list of the indexes of duplicated messages not sharing the same sentiment.\n",
    "not_matching = [index for index in all_duplicates.index if index not in duplicates.index]\n",
    "not_matching"
   ]
  },
  {
   "cell_type": "code",
   "execution_count": 19,
   "metadata": {
    "colab": {},
    "colab_type": "code",
    "id": "LOvT6QJXH9-X"
   },
   "outputs": [],
   "source": [
    "# Creating a list of the not_matching indexes and their counterpart \n",
    "removal_list = []\n",
    "for index in not_matching:\n",
    "    remove = df[df.loc[:,'message'] == df.loc[index, 'message']].index.to_list()\n",
    "    removal_list += remove"
   ]
  },
  {
   "cell_type": "code",
   "execution_count": 20,
   "metadata": {
    "colab": {
     "base_uri": "https://localhost:8080/",
     "height": 0
    },
    "colab_type": "code",
    "id": "Akc-kf57H9-b",
    "outputId": "28a7d700-a7d1-4dc6-c7b0-3bf38311a4a8"
   },
   "outputs": [
    {
     "name": "stdout",
     "output_type": "stream",
     "text": [
      "These is a list of indexes that have a tweet message duplicated but not sharing the same sentiment.\n"
     ]
    },
    {
     "data": {
      "text/plain": [
       "[258, 5393, 2390, 10351, 8446, 12001, 9141, 14103]"
      ]
     },
     "execution_count": 20,
     "metadata": {},
     "output_type": "execute_result"
    }
   ],
   "source": [
    "print(\"These is a list of indexes that have a tweet message duplicated but not sharing the same sentiment.\")\n",
    "removal_list"
   ]
  },
  {
   "cell_type": "code",
   "execution_count": 21,
   "metadata": {
    "colab": {
     "base_uri": "https://localhost:8080/",
     "height": 0
    },
    "colab_type": "code",
    "id": "5VgWhIiOH9-h",
    "outputId": "80ef82d3-7fdf-46f9-f3d0-881c6024d97f"
   },
   "outputs": [
    {
     "data": {
      "text/html": [
       "<div>\n",
       "<style scoped>\n",
       "    .dataframe tbody tr th:only-of-type {\n",
       "        vertical-align: middle;\n",
       "    }\n",
       "\n",
       "    .dataframe tbody tr th {\n",
       "        vertical-align: top;\n",
       "    }\n",
       "\n",
       "    .dataframe thead th {\n",
       "        text-align: right;\n",
       "    }\n",
       "</style>\n",
       "<table border=\"1\" class=\"dataframe\">\n",
       "  <thead>\n",
       "    <tr style=\"text-align: right;\">\n",
       "      <th></th>\n",
       "      <th>sentiment</th>\n",
       "      <th>message</th>\n",
       "      <th>tweetid</th>\n",
       "    </tr>\n",
       "  </thead>\n",
       "  <tbody>\n",
       "    <tr>\n",
       "      <th>258</th>\n",
       "      <td>-1</td>\n",
       "      <td>RT @Uniocracy: They'll tell you theyre doing i...</td>\n",
       "      <td>529327</td>\n",
       "    </tr>\n",
       "    <tr>\n",
       "      <th>5393</th>\n",
       "      <td>0</td>\n",
       "      <td>RT @Uniocracy: They'll tell you theyre doing i...</td>\n",
       "      <td>723133</td>\n",
       "    </tr>\n",
       "    <tr>\n",
       "      <th>2390</th>\n",
       "      <td>2</td>\n",
       "      <td>RT @Channel4News: .@LeoDiCaprio calls on citiz...</td>\n",
       "      <td>460524</td>\n",
       "    </tr>\n",
       "    <tr>\n",
       "      <th>10351</th>\n",
       "      <td>1</td>\n",
       "      <td>RT @Channel4News: .@LeoDiCaprio calls on citiz...</td>\n",
       "      <td>93815</td>\n",
       "    </tr>\n",
       "    <tr>\n",
       "      <th>8446</th>\n",
       "      <td>0</td>\n",
       "      <td>RT @realDonaldTrump: Where the hell is global ...</td>\n",
       "      <td>228082</td>\n",
       "    </tr>\n",
       "    <tr>\n",
       "      <th>12001</th>\n",
       "      <td>-1</td>\n",
       "      <td>RT @realDonaldTrump: Where the hell is global ...</td>\n",
       "      <td>663534</td>\n",
       "    </tr>\n",
       "    <tr>\n",
       "      <th>9141</th>\n",
       "      <td>0</td>\n",
       "      <td>RT @COP22: In 4 days the most ambitious climat...</td>\n",
       "      <td>407156</td>\n",
       "    </tr>\n",
       "    <tr>\n",
       "      <th>14103</th>\n",
       "      <td>1</td>\n",
       "      <td>RT @COP22: In 4 days the most ambitious climat...</td>\n",
       "      <td>357058</td>\n",
       "    </tr>\n",
       "  </tbody>\n",
       "</table>\n",
       "</div>"
      ],
      "text/plain": [
       "       sentiment                                            message  tweetid\n",
       "258           -1  RT @Uniocracy: They'll tell you theyre doing i...   529327\n",
       "5393           0  RT @Uniocracy: They'll tell you theyre doing i...   723133\n",
       "2390           2  RT @Channel4News: .@LeoDiCaprio calls on citiz...   460524\n",
       "10351          1  RT @Channel4News: .@LeoDiCaprio calls on citiz...    93815\n",
       "8446           0  RT @realDonaldTrump: Where the hell is global ...   228082\n",
       "12001         -1  RT @realDonaldTrump: Where the hell is global ...   663534\n",
       "9141           0  RT @COP22: In 4 days the most ambitious climat...   407156\n",
       "14103          1  RT @COP22: In 4 days the most ambitious climat...   357058"
      ]
     },
     "execution_count": 21,
     "metadata": {},
     "output_type": "execute_result"
    }
   ],
   "source": [
    "# View of these messages\n",
    "df.loc[removal_list, :]"
   ]
  },
  {
   "cell_type": "code",
   "execution_count": 22,
   "metadata": {
    "colab": {},
    "colab_type": "code",
    "id": "5iGEaKwOH9-3"
   },
   "outputs": [],
   "source": [
    "# Dropping the duplicated messages not sharing the same sentiment. \n",
    "df.drop(removal_list, inplace=True)"
   ]
  },
  {
   "cell_type": "markdown",
   "metadata": {
    "colab_type": "text",
    "id": "eXmB7uPWH9_I"
   },
   "source": [
    "The remaining duplicated messages, that is those that share the same sentiment, are also dropped but with the first of the duplicates being retained. "
   ]
  },
  {
   "cell_type": "code",
   "execution_count": 23,
   "metadata": {
    "colab": {},
    "colab_type": "code",
    "id": "Gg0a6YUuH9_K"
   },
   "outputs": [],
   "source": [
    "df.drop_duplicates('message', inplace=True)"
   ]
  },
  {
   "cell_type": "code",
   "execution_count": 24,
   "metadata": {
    "colab": {
     "base_uri": "https://localhost:8080/",
     "height": 0
    },
    "colab_type": "code",
    "id": "ZyYtALRZH9_R",
    "outputId": "4e70afa1-f932-4bab-9080-3e9056c07db5"
   },
   "outputs": [
    {
     "data": {
      "text/html": [
       "<div>\n",
       "<style scoped>\n",
       "    .dataframe tbody tr th:only-of-type {\n",
       "        vertical-align: middle;\n",
       "    }\n",
       "\n",
       "    .dataframe tbody tr th {\n",
       "        vertical-align: top;\n",
       "    }\n",
       "\n",
       "    .dataframe thead th {\n",
       "        text-align: right;\n",
       "    }\n",
       "</style>\n",
       "<table border=\"1\" class=\"dataframe\">\n",
       "  <thead>\n",
       "    <tr style=\"text-align: right;\">\n",
       "      <th></th>\n",
       "      <th>sentiment</th>\n",
       "      <th>message</th>\n",
       "      <th>tweetid</th>\n",
       "    </tr>\n",
       "  </thead>\n",
       "  <tbody>\n",
       "  </tbody>\n",
       "</table>\n",
       "</div>"
      ],
      "text/plain": [
       "Empty DataFrame\n",
       "Columns: [sentiment, message, tweetid]\n",
       "Index: []"
      ]
     },
     "execution_count": 24,
     "metadata": {},
     "output_type": "execute_result"
    }
   ],
   "source": [
    "# Check if there are any duplicates remaining\n",
    "df[df.duplicated(['message'])]"
   ]
  },
  {
   "cell_type": "markdown",
   "metadata": {
    "colab_type": "text",
    "id": "xOdHW9XkH9_Y"
   },
   "source": [
    "There appears to be no more duplicated messages in the in the dataset. "
   ]
  },
  {
   "cell_type": "code",
   "execution_count": 25,
   "metadata": {
    "colab": {},
    "colab_type": "code",
    "id": "KJ0Z34d5H9_Z"
   },
   "outputs": [],
   "source": [
    "# Length of dataset without duplicates\n",
    "new_len = len(df)"
   ]
  },
  {
   "cell_type": "code",
   "execution_count": 26,
   "metadata": {
    "colab": {
     "base_uri": "https://localhost:8080/",
     "height": 0
    },
    "colab_type": "code",
    "id": "Na0UBnY2H9_h",
    "outputId": "a5b1cbe0-74d3-46bb-c6d7-e6ec89101305"
   },
   "outputs": [
    {
     "name": "stdout",
     "output_type": "stream",
     "text": [
      "After removing the duplicates, the dataset has 14225 remaining entries. This accounts for 89.9% of the original dataset.\n"
     ]
    }
   ],
   "source": [
    "print(f'After removing the duplicates, the dataset has {new_len} remaining entries.\\\n",
    " This accounts for {100 * new_len / original_len:.1f}% of the original dataset.')"
   ]
  },
  {
   "cell_type": "markdown",
   "metadata": {
    "colab_type": "text",
    "id": "DyJb0yNLH9_m"
   },
   "source": [
    "# Exploratory Data Analysis"
   ]
  },
  {
   "cell_type": "markdown",
   "metadata": {
    "colab_type": "text",
    "id": "nseLspgwIRcO"
   },
   "source": [
    "In this section we will take a closer look at our data to check for obvious and hidden underlying clues and relationships that exist within our differrent classes. Our problem is a multiclass classification problem with only 4 classes so in order for us to distinguish between the classes we need to figure out what makes each classs unique."
   ]
  },
  {
   "cell_type": "markdown",
   "metadata": {
    "colab_type": "text",
    "id": "j_4rE9jNH9_n"
   },
   "source": [
    "## Overview"
   ]
  },
  {
   "cell_type": "markdown",
   "metadata": {},
   "source": [
    "### Distribution"
   ]
  },
  {
   "cell_type": "code",
   "execution_count": 27,
   "metadata": {
    "colab": {
     "base_uri": "https://localhost:8080/",
     "height": 357
    },
    "colab_type": "code",
    "id": "Di5g2uu-H9_o",
    "outputId": "ce6b6a0c-94a1-4596-8da3-a4fdd46cf008",
    "scrolled": true
   },
   "outputs": [
    {
     "data": {
      "image/png": "[encoded data removed]",
      "text/plain": [
       "<Figure size 432x432 with 1 Axes>"
      ]
     },
     "metadata": {},
     "output_type": "display_data"
    }
   ],
   "source": [
    "# Percentage split of the data\n",
    "plt.figure(figsize=(6,6))\n",
    "sns.set(font_scale=1.1)\n",
    "df['sentiment'].value_counts().plot(kind='pie', autopct='%.1f', labels=['Pro','News','Neutral','Anti']);"
   ]
  },
  {
   "cell_type": "markdown",
   "metadata": {
    "colab_type": "text",
    "id": "i9lUCthzK6ri"
   },
   "source": [
    "Based on the pie chart above, 50.8% of the tweets supports the belief of man-made climate change **(Pro)**, 24.9% are based on factual news about climate change **(News)**, 15.8% of the tweets are rather neutral on the subject **(Neutral)**, and 8.6% do not believe in man-made climate change **(Anti)**. Looking at this distribution of the dataset based on sentiment classes, it appears that the data is unbalanced. Having an unbalanced dataset introduces bias within the data, depending on the application of the model and how critical the classification, we can either keep the data as is or use data balancing methods like upsampling, down sampling and Smote."
   ]
  },
  {
   "cell_type": "markdown",
   "metadata": {},
   "source": [
    "### Writing Characteristics"
   ]
  },
  {
   "cell_type": "code",
   "execution_count": null,
   "metadata": {},
   "outputs": [],
   "source": [
    "# Urls"
   ]
  },
  {
   "cell_type": "code",
   "execution_count": null,
   "metadata": {},
   "outputs": [],
   "source": []
  },
  {
   "cell_type": "code",
   "execution_count": 28,
   "metadata": {},
   "outputs": [],
   "source": [
    "def wordcount(data):\n",
    "    \"\"\"\n",
    "    Returns a graph showing distribution of word count for each sentiment group.\n",
    "\n",
    "    Parameters\n",
    "    -----------\n",
    "    data: DataFrame\n",
    "        Dataframe consisting of tweet messages abd their respective sentiment\n",
    "        group.\n",
    "    \n",
    "    Returns\n",
    "    --------\n",
    "    Catplot\n",
    "        A categorical plot showing the distribution of wordcount in each \n",
    "        sentiment group.\n",
    "    \"\"\"\n",
    "    \n",
    "    word_count=data['message'].apply(lambda x: len(x.split()))\n",
    "    wordcount_sentiment=pd.concat([pd.DataFrame(word_count),data['sentiment']],axis=1)\n",
    "    ax = sns.catplot(x=\"sentiment\", y=\"message\",kind='boxen', data=wordcount_sentiment)\n",
    "    plt.ylabel('Word count', fontsize=12);"
   ]
  },
  {
   "cell_type": "code",
   "execution_count": 29,
   "metadata": {},
   "outputs": [
    {
     "data": {
      "image/png": "[encoded data removed]",
      "text/plain": [
       "<Figure size 360x360 with 1 Axes>"
      ]
     },
     "metadata": {},
     "output_type": "display_data"
    }
   ],
   "source": [
    "wordcount(df)"
   ]
  },
  {
   "cell_type": "markdown",
   "metadata": {},
   "source": [
    "Based on the categorical plots above, it appears that based on the median values (solid line), the Anti and Pro regularly express their sentiment in more words as compared to the News and Neutral group. This might be indicative of a strong persona that is in Anti and Pro group, that they feel that they need to say more to get their point across. The News group has the lowest median for the word count which is due to the high number of url extensions that are in that sentiment group. The News group uses website links, articles and past stories to further make their point across, hence their overall lower usage of words. "
   ]
  },
  {
   "cell_type": "code",
   "execution_count": null,
   "metadata": {},
   "outputs": [],
   "source": [
    "# Parts of speech"
   ]
  },
  {
   "cell_type": "code",
   "execution_count": null,
   "metadata": {},
   "outputs": [],
   "source": []
  },
  {
   "cell_type": "code",
   "execution_count": null,
   "metadata": {},
   "outputs": [],
   "source": []
  },
  {
   "cell_type": "markdown",
   "metadata": {
    "colab_type": "text",
    "id": "zb4QpdTITLB_"
   },
   "source": [
    "## Visualizations"
   ]
  },
  {
   "cell_type": "markdown",
   "metadata": {
    "colab_type": "text",
    "id": "zb4QpdTITLB_"
   },
   "source": [
    "In the quest to find out what makes each sentiment class unique, an exploration of the topics each group mentions the most is conducted. This is achieved by extracting the hashtags from the tweets and creating plots of the most mentioned hashtags for each sentiment group. Furthermore, finding out who or what entity is being tagged the most in each sentiment group by extracting the mentioned twitter handles from the tweets could help in identifying the uniqueness of each sentiment group.\n",
    "\n",
    "The regular expression library is utilized to extract the twitter handles and hashtags, and plot the top most frequent topics and twitter accounts. "
   ]
  },
  {
   "cell_type": "code",
   "execution_count": 30,
   "metadata": {
    "colab": {},
    "colab_type": "code",
    "id": "1RtpQpc4H9_8"
   },
   "outputs": [],
   "source": [
    "# Create a visualization of the number of tagged twitter handles, and hashtags per sentiment groups\n",
    "def tweet_occurence_graph(dataframe, sentiment, top_n=5, color='darkblue'):\n",
    "    \"\"\"\n",
    "    Returns a subplot of two horizontal bar graphs of the top most tagged person or organization,\n",
    "    and top most active topic of interest as identified by hashtags, in a specified sentiment group.\n",
    "    \n",
    "    Parameters\n",
    "    -----------\n",
    "    dataframe: DataFrame\n",
    "        Dataframe consisting of tweet messages and their respective sentiment group.\n",
    "    sentiment: int, str\n",
    "        A sentiment value based on category\n",
    "    top_n: int, default=5\n",
    "        The top n occurence of twitter handle and hashtag.\n",
    "        \n",
    "    Returns\n",
    "    --------\n",
    "    Bar graph\n",
    "        A subplot of two horizontal bar graphs   \n",
    "    \"\"\"\n",
    "    \n",
    "    # I.D twitter handle and hashtags patterns\n",
    "    twitter_handle_pattern = r'(?<=^|(?<=[^a-zA-Z0-9-_\\.]))(@[A-Za-z]+[A-Za-z0-9-_]+)' # Disregards emails\n",
    "    hashtag_pattern = r'(#[A-Za-z]+[A-Za-z0-9-_]+)'\n",
    "    \n",
    "    # Filter the dataframe according to the sentiment group\n",
    "    df_filtered = dataframe[dataframe['sentiment'] == sentiment]\n",
    "    \n",
    "    # Create a dictionary of twitter handles and hashtags, and \n",
    "    # the corresponding number of occurances per sentiment group\n",
    "    twitter_handle_frequency = {}\n",
    "    hashtag_frequency = {}\n",
    "    \n",
    "    for tweet in df_filtered['message']:\n",
    "        \n",
    "        # Match all the twitter handles in a message\n",
    "        identified_handle_patterns = re.findall(twitter_handle_pattern, tweet)\n",
    "        # Match all the hashtags in a message\n",
    "        identified_hashtag_patterns = re.findall(hashtag_pattern, tweet)\n",
    "        \n",
    "        # TWITTER HANDLE\n",
    "        for item in identified_handle_patterns:\n",
    "            \n",
    "            if item in twitter_handle_frequency.keys():\n",
    "                twitter_handle_frequency[item] += 1\n",
    "            else:\n",
    "                twitter_handle_frequency[item] = 1\n",
    "            \n",
    "        # HASHTAGS\n",
    "        for item in identified_hashtag_patterns:\n",
    "            \n",
    "            if item in hashtag_frequency.keys():\n",
    "                hashtag_frequency[item] += 1\n",
    "            else:\n",
    "                hashtag_frequency[item] = 1\n",
    "        \n",
    "    # Create a temporary dataframes to host the frequency dictionaries \n",
    "    # TWITTER HANDLE\n",
    "    handle_df = pd.DataFrame(\n",
    "        data=twitter_handle_frequency.values(), \n",
    "        index=twitter_handle_frequency.keys(), \n",
    "        columns=['Occurences']\n",
    "    )\n",
    "    handle_df.sort_values(by='Occurences', ascending=False, inplace=True)\n",
    "    handle_df = handle_df[:top_n]\n",
    "    \n",
    "    # HASHTAGS\n",
    "    hashtag_df = pd.DataFrame(\n",
    "        data=hashtag_frequency.values(), \n",
    "        index=hashtag_frequency.keys(), \n",
    "        columns=['Occurences']\n",
    "    )\n",
    "    hashtag_df.sort_values(by='Occurences', ascending=False, inplace=True)\n",
    "    hashtag_df = hashtag_df[:top_n]\n",
    "    \n",
    "    # Sentiment groups\n",
    "    target = {2:'News', 1:'Pro', 0:'Neutral', -1:'Anti'}\n",
    "    \n",
    "    fig, ax = plt.subplots(ncols=2, figsize=(14, 8))\n",
    "    fig.tight_layout(pad=7.0)\n",
    "    sns.barplot(x='Occurences', y=handle_df.index, color=color, data=handle_df, ax=ax[0]) # Twitter handle\n",
    "    sns.barplot(x='Occurences', y=hashtag_df.index, color=color, data=hashtag_df, ax=ax[1]) # Hashtags\n",
    "    ax[0].set_title(f'Top {top_n} Twitter handles for {target[sentiment]} category')\n",
    "    ax[1].set_title(f'Top {top_n} Hashtags for {target[sentiment]} category')"
   ]
  },
  {
   "cell_type": "markdown",
   "metadata": {},
   "source": [
    "### Anti"
   ]
  },
  {
   "cell_type": "code",
   "execution_count": 31,
   "metadata": {
    "colab": {
     "base_uri": "https://localhost:8080/",
     "height": 413
    },
    "colab_type": "code",
    "id": "62xKVBTwH-AB",
    "outputId": "94a0d9bc-74db-4c33-feed-452673b100dc"
   },
   "outputs": [
    {
     "data": {
      "image/png": "[encoded data removed]",
      "text/plain": [
       "<Figure size 1008x576 with 2 Axes>"
      ]
     },
     "metadata": {},
     "output_type": "display_data"
    }
   ],
   "source": [
    "tweet_occurence_graph(df, sentiment=-1, top_n=10, color='cadetblue')"
   ]
  },
  {
   "cell_type": "markdown",
   "metadata": {
    "colab_type": "text",
    "id": "PieehYZG_KiZ"
   },
   "source": [
    "The graph above represent the top 10 most occuring twitter handles within the sentiment group that is Anti [against the notion of] man made climate change. The graph shows that the handle @SteveSGoddord appears the most followed by the handle of U.S President, Donald Trump and then a handle called @PrisonPlanet.\n",
    "\n",
    "The twitter handle @SteveSGoddard was owned by a man called Tony Heller who describes himself as a whiste blower and an independant thinker who believes that the notion of man made climate change is not entirely true he believes that we are not the primary cause of climate change and that infact that our contribution to it is miniscule.\n",
    "\n",
    "The president of the United States of America on the other hand has publicly labelled climate change as a hoax.\n",
    "\n"
   ]
  },
  {
   "cell_type": "markdown",
   "metadata": {
    "colab_type": "text",
    "id": "iiJmUBzi_GuW"
   },
   "source": [
    "Trump once said “Nobody really knows if it climate change is real as we can see in our anti class graph he is number one in trends.This has proved to be untrue according to a survey, over 97% of scientists say that climate change was mostly if not all man made.The president of the U.S went as far as branding it’s former president Mr Obama’s climate change legacy as “stupid”.The Obama rule was devised to shut down hundreds of heavily polluting coal-fired power plants and freeze construction of new coal plants, while replacing them with vast wind and solar farms. Which sounded like a great idea to me.These series of tweets lands him on our highest trend on our anti graph."
   ]
  },
  {
   "cell_type": "markdown",
   "metadata": {},
   "source": [
    "### Neutral"
   ]
  },
  {
   "cell_type": "markdown",
   "metadata": {
    "colab_type": "text",
    "id": "Sp8DBnMd2DRw"
   },
   "source": [
    "In the neautral class it has been observed that Donald Trump is one of the most mentioned handles followed by the news chanels CNN and fox news respectfully. What we can say is that the neutral group is more interested in factual news and the political view as well."
   ]
  },
  {
   "cell_type": "code",
   "execution_count": 32,
   "metadata": {
    "colab": {
     "base_uri": "https://localhost:8080/",
     "height": 413
    },
    "colab_type": "code",
    "id": "CnmOfJ-iH-AE",
    "outputId": "ddffbd82-9b55-4688-d92f-ae469aa26478"
   },
   "outputs": [
    {
     "data": {
      "image/png": "[encoded data removed]",
      "text/plain": [
       "<Figure size 1008x576 with 2 Axes>"
      ]
     },
     "metadata": {},
     "output_type": "display_data"
    }
   ],
   "source": [
    "tweet_occurence_graph(df, sentiment=0, top_n=10, color='cadetblue')"
   ]
  },
  {
   "cell_type": "markdown",
   "metadata": {},
   "source": [
    "As observed in the the graphs above the most mentioned twitter account is that of the United States President Donald Trump and the most discussed topic is climate and climate change."
   ]
  },
  {
   "cell_type": "markdown",
   "metadata": {},
   "source": [
    "### Pro"
   ]
  },
  {
   "cell_type": "markdown",
   "metadata": {
    "colab_type": "text",
    "id": "kZHwSptPrUU_"
   },
   "source": [
    "In the possitive class where 53% of our data lies if the data represents a sample population it woulld mean that most peoplle in general believe in the notion of man made climate change. We can also see similarly to the other groups that the President is also the most mentioned tweet.\n",
    "\n",
    "The second and third most mentioned is the new york times, and climateCentral respectively."
   ]
  },
  {
   "cell_type": "code",
   "execution_count": 33,
   "metadata": {
    "colab": {
     "base_uri": "https://localhost:8080/",
     "height": 413
    },
    "colab_type": "code",
    "id": "o1AVHxcwH-AH",
    "outputId": "7907cc82-c6dd-422e-bdd1-e9a8958ab551"
   },
   "outputs": [
    {
     "data": {
      "image/png": "[encoded data removed]",
      "text/plain": [
       "<Figure size 1008x576 with 2 Axes>"
      ]
     },
     "metadata": {},
     "output_type": "display_data"
    }
   ],
   "source": [
    "tweet_occurence_graph(df, sentiment=1, top_n=10, color='cadetblue')"
   ]
  },
  {
   "cell_type": "markdown",
   "metadata": {
    "colab_type": "text",
    "id": "D4IFUJ0cvqDC"
   },
   "source": [
    "### News"
   ]
  },
  {
   "cell_type": "markdown",
   "metadata": {},
   "source": []
  },
  {
   "cell_type": "code",
   "execution_count": 34,
   "metadata": {
    "colab": {
     "base_uri": "https://localhost:8080/",
     "height": 413
    },
    "colab_type": "code",
    "id": "pwqEBxsEH-AK",
    "outputId": "eede1b0d-d17b-4156-987b-e2300057469a",
    "scrolled": false
   },
   "outputs": [
    {
     "data": {
      "image/png": "[encoded data removed]",
      "text/plain": [
       "<Figure size 1008x576 with 2 Axes>"
      ]
     },
     "metadata": {},
     "output_type": "display_data"
    }
   ],
   "source": [
    "tweet_occurence_graph(df, sentiment=2, top_n=10, color='cadetblue')"
   ]
  },
  {
   "cell_type": "code",
   "execution_count": null,
   "metadata": {},
   "outputs": [],
   "source": []
  },
  {
   "cell_type": "markdown",
   "metadata": {
    "colab_type": "text",
    "id": "KEnH33kAH-AQ"
   },
   "source": [
    "## Feature Engineering"
   ]
  },
  {
   "cell_type": "code",
   "execution_count": null,
   "metadata": {},
   "outputs": [],
   "source": []
  },
  {
   "cell_type": "code",
   "execution_count": null,
   "metadata": {},
   "outputs": [],
   "source": []
  },
  {
   "cell_type": "code",
   "execution_count": null,
   "metadata": {},
   "outputs": [],
   "source": []
  },
  {
   "cell_type": "markdown",
   "metadata": {
    "colab_type": "text",
    "id": "jW78l2hZH-A_"
   },
   "source": [
    "# Modeling"
   ]
  },
  {
   "cell_type": "markdown",
   "metadata": {
    "colab_type": "text",
    "id": "AOp-Iv89H-A_"
   },
   "source": [
    "## Data Prepocessing"
   ]
  },
  {
   "cell_type": "markdown",
   "metadata": {},
   "source": [
    "To avoid any data leakage, the dataset has been split into a training dataset to train the machine learning model and the testing dataset to test the performance of the model."
   ]
  },
  {
   "cell_type": "code",
   "execution_count": 44,
   "metadata": {
    "colab": {},
    "colab_type": "code",
    "id": "OF-PdiZ_H-AY"
   },
   "outputs": [],
   "source": [
    "# Apply train_test_split to prevent any data leakage when constructing the ML model\n",
    "X = df[['message']]\n",
    "y = df['sentiment']\n",
    "X_train, X_test, y_train, y_test = train_test_split(X, y, test_size=0.3, random_state=20)"
   ]
  },
  {
   "cell_type": "code",
   "execution_count": 45,
   "metadata": {
    "colab": {},
    "colab_type": "code",
    "id": "XzXs7AUDH-Ag"
   },
   "outputs": [],
   "source": [
    "# Remove foreign characters\n",
    "def remove_characters(text):\n",
    "    \"\"\"\n",
    "    Returns a message without any foreign characters, that is those\n",
    "    that are not in our alphabets, numbering system, and not part of \n",
    "    punctuation marks\n",
    "    \n",
    "    Parameters\n",
    "    -----------\n",
    "    text: str\n",
    "        A text message\n",
    "    \n",
    "    Returns\n",
    "    --------\n",
    "    str\n",
    "        A text message without foreign characters\n",
    "    \"\"\"\n",
    "    \n",
    "    # Remove unidentifieable letters (i.e. foreign characters)\n",
    "    local_characters = string.ascii_letters + string.digits + string.punctuation + ' ' \n",
    "    # Included spacing at the end so that it can be recorgnized in a string\n",
    "    \n",
    "    for char in text:\n",
    "        if char not in local_characters:\n",
    "            text = text.replace(char, '')\n",
    "    \n",
    "    return text.strip()"
   ]
  },
  {
   "cell_type": "code",
   "execution_count": 46,
   "metadata": {
    "colab": {},
    "colab_type": "code",
    "id": "eo76j1XIH-A1"
   },
   "outputs": [
    {
     "data": {
      "text/plain": [
       "\"RT @StephenSchlegel: she's thinking about how she's going to die because your husband doesn't believe in climate change https://t.co/SjoFoNÃ¢â‚¬Â¦\""
      ]
     },
     "execution_count": 46,
     "metadata": {},
     "output_type": "execute_result"
    }
   ],
   "source": [
    "# Example message with foreign characters\n",
    "X_train.iloc[7, 0]"
   ]
  },
  {
   "cell_type": "markdown",
   "metadata": {
    "colab_type": "text",
    "id": "n4V3C7gmH-A4"
   },
   "source": [
    "The message has unidentifiable letters which are not part of the English language. This might affect the size of \n",
    "the sparse matrix and also affect how the spaCy library reads the message."
   ]
  },
  {
   "cell_type": "code",
   "execution_count": 47,
   "metadata": {
    "colab": {},
    "colab_type": "code",
    "id": "ZhoY2EMDH-A5"
   },
   "outputs": [
    {
     "data": {
      "text/plain": [
       "\"RT @StephenSchlegel: she's thinking about how she's going to die because your husband doesn't believe in climate change https://t.co/SjoFoN\""
      ]
     },
     "execution_count": 47,
     "metadata": {},
     "output_type": "execute_result"
    }
   ],
   "source": [
    "# After applying the function\n",
    "remove_characters(X_train.iloc[7, 0])"
   ]
  },
  {
   "cell_type": "markdown",
   "metadata": {
    "colab_type": "text",
    "id": "uUzOj4aZH-A-"
   },
   "source": [
    "The foreign characters are now removed from the message making the message more readable."
   ]
  },
  {
   "cell_type": "code",
   "execution_count": 48,
   "metadata": {},
   "outputs": [],
   "source": [
    "X_train['message'] = X_train['message'].apply(remove_characters)"
   ]
  },
  {
   "cell_type": "code",
   "execution_count": 50,
   "metadata": {
    "colab": {},
    "colab_type": "code",
    "id": "4dgW7xAnH-BA"
   },
   "outputs": [],
   "source": [
    "# Remove retweets\n",
    "def retweet_removal(text):\n",
    "    \"\"\"\n",
    "    Returns a retweet message without the RT\n",
    "    \n",
    "    Parameters\n",
    "    -----------\n",
    "    text: str\n",
    "        A text message\n",
    "    \n",
    "    Returns\n",
    "    --------\n",
    "    str\n",
    "        A tweet message without the retweet acronym\n",
    "    \"\"\"\n",
    "    if re.match(r\"RT\\s+\", text): # i.e. if text message starts with RT\n",
    "        text = re.sub(r\"RT\\s+\",\"\", text)\n",
    "\n",
    "    return text"
   ]
  },
  {
   "cell_type": "code",
   "execution_count": 51,
   "metadata": {},
   "outputs": [],
   "source": [
    "X_train['message'] = X_train['message'].apply(retweet_removal)"
   ]
  },
  {
   "cell_type": "code",
   "execution_count": 53,
   "metadata": {},
   "outputs": [],
   "source": [
    "# Remove symbols and urls from tweets\n",
    "def clean_tweets(text):\n",
    "    \"\"\"\n",
    "    Returns a tweet text without the twitter handle, hashtags and urls\n",
    "    \n",
    "    Parameters\n",
    "    -----------\n",
    "    text: str\n",
    "        A tweet message\n",
    "    \n",
    "    Returns\n",
    "    --------\n",
    "    str\n",
    "        A tweet without a website url, '@' and \"#\" symbols\n",
    "    \"\"\"\n",
    "    \n",
    "    pattern = r'@|#|https?\\W*\\S+'\n",
    "    \n",
    "    clean_text = re.sub(pattern, \"\", text).strip()\n",
    "    \n",
    "    return clean_text"
   ]
  },
  {
   "cell_type": "code",
   "execution_count": 54,
   "metadata": {},
   "outputs": [],
   "source": [
    "X_train['message'] = X_train['message'].apply(clean_tweets)"
   ]
  },
  {
   "cell_type": "code",
   "execution_count": 56,
   "metadata": {},
   "outputs": [],
   "source": [
    "# Removing punctuation marks\n",
    "def remove_punctuations(tweet):\n",
    "    \"\"\"\n",
    "    Returns a tweet without punctuations and words that not in the nltk library\n",
    "\n",
    "    Parameters\n",
    "    -----------\n",
    "    text: str\n",
    "        A tweet to be examined\n",
    "        \n",
    "    Returns\n",
    "    -------\n",
    "    str\n",
    "        A tweet message without any punctuations\n",
    "    \"\"\"\n",
    "    \n",
    "    for letter in tweet:\n",
    "        if letter in string.punctuation:\n",
    "            tweet = tweet.replace(letter, '')    \n",
    "\n",
    "    return tweet.strip()"
   ]
  },
  {
   "cell_type": "code",
   "execution_count": 57,
   "metadata": {
    "colab": {},
    "colab_type": "code",
    "id": "3HBfBngUH-BG"
   },
   "outputs": [],
   "source": [
    "X_train['message'] = X_train['message'].apply(remove_punctuations)"
   ]
  },
  {
   "cell_type": "markdown",
   "metadata": {},
   "source": [
    "To reduce the size of the sparse matrix, lemmatizing the words to their basic form will assist in achieving sparse matrix's reduction."
   ]
  },
  {
   "cell_type": "code",
   "execution_count": 58,
   "metadata": {},
   "outputs": [],
   "source": [
    "# Lemmatize words to their basic form\n",
    "def lemmatizer(text):\n",
    "    \"\"\"\n",
    "    Returns a lemmatized sentence\n",
    "    \n",
    "    Parameters\n",
    "    -----------\n",
    "    text: str\n",
    "        A text message\n",
    "        \n",
    "    Returns\n",
    "    --------\n",
    "    str\n",
    "        A text message at its most basic form\n",
    "    \"\"\"\n",
    "    \n",
    "    lemma_words = []\n",
    "    \n",
    "    doc = nlp(text.lower())\n",
    "    \n",
    "    for token in doc:\n",
    "        lemma_words.append(token.lemma_)\n",
    "        \n",
    "    return ' '.join(lemma_words)"
   ]
  },
  {
   "cell_type": "code",
   "execution_count": 59,
   "metadata": {},
   "outputs": [],
   "source": [
    "X_train['message'] = X_train['message'].apply(lemmatizer)"
   ]
  },
  {
   "cell_type": "markdown",
   "metadata": {
    "colab_type": "text",
    "id": "lxARXSdoH-BM"
   },
   "source": [
    "## Machine Learning "
   ]
  },
  {
   "cell_type": "markdown",
   "metadata": {},
   "source": [
    "The performance of the models is based on the weighted F1-score, this will be identified using the classification report. The confusion matrix will also be displayed in order to identify where the model is performing poorly."
   ]
  },
  {
   "cell_type": "code",
   "execution_count": 60,
   "metadata": {},
   "outputs": [],
   "source": [
    "# Scoring metrics\n",
    "def scoring_metrics(actual, predicted):\n",
    "    \"\"\"\n",
    "    Prints out the confusion matrix and classification report based\n",
    "    on the predicted versus actual values\n",
    "    \n",
    "    Parameters\n",
    "    -----------\n",
    "    actual: list\n",
    "        list of actual sentiment\n",
    "    predicted: list\n",
    "        list of predicted sentiment\n",
    "    \"\"\"\n",
    "    print('Confusion Matrix')\n",
    "    print(confusion_matrix(actual, predicted))\n",
    "    print('\\n')\n",
    "    print('Classification Matrix')\n",
    "    print(classification_report(actual, predicted))"
   ]
  },
  {
   "cell_type": "code",
   "execution_count": 76,
   "metadata": {},
   "outputs": [],
   "source": [
    "# Storing the F1, precision and recall values\n",
    "def valuations(actual, predicted):\n",
    "    \"\"\"\n",
    "    Returns the F1, precision and recall of the predicted values\n",
    "    against actual\n",
    "    \n",
    "    Parameters\n",
    "    -----------\n",
    "    actual: list\n",
    "        list of actual sentiment\n",
    "    predicted: list\n",
    "        list of predicted sentiment\n",
    "        \n",
    "    Returns\n",
    "    --------\n",
    "    dict:\n",
    "        Dictionary containing the f1, precision, and recall score         \n",
    "    \"\"\"\n",
    "    \n",
    "    f1 = f1_score(actual, predicted, average='weighted')\n",
    "    precision = precision_score(actual, predicted, average='weighted')\n",
    "    recall = recall_score(actual, predicted, average='weighted')\n",
    "    \n",
    "    return {'f1': f1, 'precision': precision, 'recall': recall} "
   ]
  },
  {
   "cell_type": "markdown",
   "metadata": {},
   "source": [
    "The approach followed in valuating the performance of the models is based on testing the performance of the base machine learning model, that is, without any parameters being adjusted and comparing the results will all the other models."
   ]
  },
  {
   "cell_type": "code",
   "execution_count": 62,
   "metadata": {},
   "outputs": [],
   "source": [
    "# Create a base model for the machine learning models\n",
    "def base_model(X_train, y_train, X_test, model):\n",
    "    \"\"\"\n",
    "    Returns the predicted values of the feature being predicted.\n",
    "    \n",
    "    Parameters\n",
    "    -----------\n",
    "    X_train: DataFrame, pd.Series, np.array\n",
    "        Training data to train the model\n",
    "    y_train: list, np.array, DataFrame, pd.Series\n",
    "        Training labels to train the model\n",
    "    X_test: DataFrame, pd.Series, np.array\n",
    "        Testing data having same features as X_train \n",
    "        used to generate predictions\n",
    "    model: \n",
    "        Machine Learning model\n",
    "    \n",
    "    Returns\n",
    "    --------\n",
    "    list:\n",
    "        Predictions of the target variable\n",
    "    \"\"\"\n",
    "    \n",
    "    model.fit(X_train, y_train)\n",
    "    predictions = model.predict(X_test)\n",
    "    \n",
    "    return predictions"
   ]
  },
  {
   "cell_type": "markdown",
   "metadata": {},
   "source": [
    "In order for text messages to serve as input to the Machine Learning models, the text messages have to be converted to numbers using the Term Frequency Inverse Document Frequency Vectorizer."
   ]
  },
  {
   "cell_type": "code",
   "execution_count": 66,
   "metadata": {},
   "outputs": [],
   "source": [
    "tfidf = TfidfVectorizer()\n",
    "X_train_transformed = tfidf.fit_transform(X_train['message'])\n",
    "X_test_transformed = tfidf.transform(X_test['message'])"
   ]
  },
  {
   "cell_type": "markdown",
   "metadata": {
    "colab_type": "text",
    "id": "vvQJ8ZKJH-BN"
   },
   "source": [
    "### Logistic Regression"
   ]
  },
  {
   "cell_type": "code",
   "execution_count": 67,
   "metadata": {
    "colab": {},
    "colab_type": "code",
    "id": "qPW1yo2vH-BO"
   },
   "outputs": [],
   "source": [
    "logreg = LogisticRegression()"
   ]
  },
  {
   "cell_type": "code",
   "execution_count": 71,
   "metadata": {},
   "outputs": [],
   "source": [
    "y_pred_logreg = base_model(X_train_transformed, y_train, X_test_transformed, logreg)"
   ]
  },
  {
   "cell_type": "code",
   "execution_count": 73,
   "metadata": {},
   "outputs": [
    {
     "name": "stdout",
     "output_type": "stream",
     "text": [
      "Confusion Matrix\n",
      "[[  57   71  219   41]\n",
      " [   8  224  384   97]\n",
      " [   6   86 2263  242]\n",
      " [   0   21  248  779]]\n",
      "\n",
      "\n",
      "Classification Matrix\n",
      "              precision    recall  f1-score   support\n",
      "\n",
      "          -1       0.80      0.15      0.25       388\n",
      "           0       0.56      0.31      0.40       713\n",
      "           1       0.73      0.87      0.79      2597\n",
      "           2       0.67      0.74      0.71      1048\n",
      "\n",
      "    accuracy                           0.70      4746\n",
      "   macro avg       0.69      0.52      0.54      4746\n",
      "weighted avg       0.70      0.70      0.67      4746\n",
      "\n"
     ]
    }
   ],
   "source": [
    "scoring_metrics(y_test, y_pred_logreg)"
   ]
  },
  {
   "cell_type": "markdown",
   "metadata": {
    "colab": {},
    "colab_type": "code",
    "id": "0sbcG06RH-BW"
   },
   "source": [
    "DISCUSSION ABOUT THE RESULTS\n",
    "In our case we have the class \"Pro\" with the most data points this might potentially mean that our model would be biased towards the class \"Pro\", meaning that our model will be very good at predicting that text belongs to the class \"Pro\" and very bad at predicting other classes."
   ]
  },
  {
   "cell_type": "code",
   "execution_count": 77,
   "metadata": {},
   "outputs": [],
   "source": [
    "logreg_metrics = valuations(y_test, y_pred_logreg)"
   ]
  },
  {
   "cell_type": "markdown",
   "metadata": {
    "colab_type": "text",
    "id": "znWnwdUhH-Bj"
   },
   "source": [
    "### Support Vector Machines"
   ]
  },
  {
   "cell_type": "markdown",
   "metadata": {
    "colab": {},
    "colab_type": "code",
    "id": "2zNtS2f4H-Bk"
   },
   "source": [
    "#### LinearSVC"
   ]
  },
  {
   "cell_type": "code",
   "execution_count": 78,
   "metadata": {},
   "outputs": [],
   "source": [
    "linsvc = LinearSVC()"
   ]
  },
  {
   "cell_type": "code",
   "execution_count": 79,
   "metadata": {},
   "outputs": [],
   "source": [
    "y_pred_linsvc = base_model(X_train_transformed, y_train, X_test_transformed, linsvc)"
   ]
  },
  {
   "cell_type": "code",
   "execution_count": 81,
   "metadata": {},
   "outputs": [
    {
     "name": "stdout",
     "output_type": "stream",
     "text": [
      "Confusion Matrix\n",
      "[[ 109   66  178   35]\n",
      " [  18  284  331   80]\n",
      " [  20  177 2190  210]\n",
      " [   3   45  270  730]]\n",
      "\n",
      "\n",
      "Classification Matrix\n",
      "              precision    recall  f1-score   support\n",
      "\n",
      "          -1       0.73      0.28      0.41       388\n",
      "           0       0.50      0.40      0.44       713\n",
      "           1       0.74      0.84      0.79      2597\n",
      "           2       0.69      0.70      0.69      1048\n",
      "\n",
      "    accuracy                           0.70      4746\n",
      "   macro avg       0.66      0.55      0.58      4746\n",
      "weighted avg       0.69      0.70      0.68      4746\n",
      "\n"
     ]
    }
   ],
   "source": [
    "scoring_metrics(y_test, y_pred_linsvc)"
   ]
  },
  {
   "cell_type": "markdown",
   "metadata": {},
   "source": [
    "DISCUSSION OF RESULTS"
   ]
  },
  {
   "cell_type": "code",
   "execution_count": 82,
   "metadata": {
    "slideshow": {
     "slide_type": "slide"
    }
   },
   "outputs": [],
   "source": [
    "linsvc_metrics = valuations(y_test, y_pred_logreg)"
   ]
  },
  {
   "cell_type": "markdown",
   "metadata": {},
   "source": [
    "#### SVC"
   ]
  },
  {
   "cell_type": "code",
   "execution_count": 83,
   "metadata": {},
   "outputs": [],
   "source": [
    "svc = SVC()"
   ]
  },
  {
   "cell_type": "code",
   "execution_count": 84,
   "metadata": {},
   "outputs": [],
   "source": [
    "y_pred_svc = base_model(X_train_transformed, y_train, X_test_transformed, svc)"
   ]
  },
  {
   "cell_type": "code",
   "execution_count": 85,
   "metadata": {},
   "outputs": [
    {
     "name": "stdout",
     "output_type": "stream",
     "text": [
      "Confusion Matrix\n",
      "[[  50   34  272   32]\n",
      " [   4  171  463   75]\n",
      " [   2   39 2342  214]\n",
      " [   0    9  249  790]]\n",
      "\n",
      "\n",
      "Classification Matrix\n",
      "              precision    recall  f1-score   support\n",
      "\n",
      "          -1       0.89      0.13      0.23       388\n",
      "           0       0.68      0.24      0.35       713\n",
      "           1       0.70      0.90      0.79      2597\n",
      "           2       0.71      0.75      0.73      1048\n",
      "\n",
      "    accuracy                           0.71      4746\n",
      "   macro avg       0.75      0.51      0.53      4746\n",
      "weighted avg       0.72      0.71      0.67      4746\n",
      "\n"
     ]
    }
   ],
   "source": [
    "scoring_metrics(y_test, y_pred_svc)"
   ]
  },
  {
   "cell_type": "markdown",
   "metadata": {},
   "source": [
    "DISCUSSION OF RESULTS"
   ]
  },
  {
   "cell_type": "code",
   "execution_count": 86,
   "metadata": {
    "slideshow": {
     "slide_type": "slide"
    }
   },
   "outputs": [],
   "source": [
    "linsvc_metrics = valuations(y_test, y_pred_svc)"
   ]
  },
  {
   "cell_type": "markdown",
   "metadata": {
    "colab_type": "text",
    "id": "1PAUpEARH-B4"
   },
   "source": [
    "### KNearest Neighbors"
   ]
  },
  {
   "cell_type": "markdown",
   "metadata": {},
   "source": [
    "The KNearest Neigbors will not be tested using the base model, since the model uses the nearest neighbors to determine the prediction of a variable, multiple values of F1-score can be viewed simultaneously by adjusting the number of neighbors and calculating the respective F1-score. This will help in determining how changing the number of nearest naighbors affects the F1-score. "
   ]
  },
  {
   "cell_type": "code",
   "execution_count": 89,
   "metadata": {
    "colab": {},
    "colab_type": "code",
    "id": "oAusVQGgH-B6"
   },
   "outputs": [],
   "source": [
    "predictions = []\n",
    "for k in range(1,30):\n",
    "    knn = KNeighborsClassifier(n_neighbors=k)\n",
    "    knn.fit(X_train_transformed, y_train)\n",
    "    y_pred = knn.predict(X_test_transformed)\n",
    "    score = f1_score(y_test, y_pred, average='weighted')\n",
    "    predictions.append(score)"
   ]
  },
  {
   "cell_type": "code",
   "execution_count": 90,
   "metadata": {},
   "outputs": [
    {
     "data": {
      "image/png": "[encoded data removed]",
      "text/plain": [
       "<Figure size 720x432 with 1 Axes>"
      ]
     },
     "metadata": {},
     "output_type": "display_data"
    }
   ],
   "source": [
    "plt.figure(figsize=(10, 6))\n",
    "plt.plot(range(1,30), predictions, color='blue', linestyle='dashed', marker='o',\n",
    "         markerfacecolor='blue', markersize=10)\n",
    "plt.title('F1 score vs. k Value')\n",
    "plt.xlabel('k')\n",
    "plt.ylabel('f1 score');\n",
    "# Place a red marker where there's a maximum f1 score achieved"
   ]
  },
  {
   "cell_type": "markdown",
   "metadata": {},
   "source": [
    "Based on the model the graph above, it appears at around k(number of neighbors)=6, the model generates the highest F1-score. This might be due to the imbalanced data, an increase in the number of neighbors results in more of the opposite sentiment groups infiltrating the nearest space specified by the k value.  "
   ]
  },
  {
   "cell_type": "markdown",
   "metadata": {
    "colab_type": "text",
    "id": "HDPUg7nOH-Ci"
   },
   "source": [
    "### Naive Bayes"
   ]
  },
  {
   "cell_type": "markdown",
   "metadata": {},
   "source": [
    "#### Multinomial Naive Bayes"
   ]
  },
  {
   "cell_type": "code",
   "execution_count": 91,
   "metadata": {},
   "outputs": [],
   "source": [
    "mltnb = MultinomialNB() "
   ]
  },
  {
   "cell_type": "code",
   "execution_count": 92,
   "metadata": {},
   "outputs": [],
   "source": [
    "y_pred_mltnb = base_model(X_train_transformed, y_train, X_test_transformed, mltnb)"
   ]
  },
  {
   "cell_type": "code",
   "execution_count": 93,
   "metadata": {},
   "outputs": [
    {
     "name": "stdout",
     "output_type": "stream",
     "text": [
      "Confusion Matrix\n",
      "[[   0    0  384    4]\n",
      " [   0   32  673    8]\n",
      " [   0    0 2585   12]\n",
      " [   0    0  717  331]]\n",
      "\n",
      "\n",
      "Classification Matrix\n",
      "              precision    recall  f1-score   support\n",
      "\n",
      "          -1       0.00      0.00      0.00       388\n",
      "           0       1.00      0.04      0.09       713\n",
      "           1       0.59      1.00      0.74      2597\n",
      "           2       0.93      0.32      0.47      1048\n",
      "\n",
      "    accuracy                           0.62      4746\n",
      "   macro avg       0.63      0.34      0.33      4746\n",
      "weighted avg       0.68      0.62      0.52      4746\n",
      "\n"
     ]
    }
   ],
   "source": [
    "scoring_metrics(y_test, y_pred_mltnb)"
   ]
  },
  {
   "cell_type": "markdown",
   "metadata": {},
   "source": [
    "Model not suited for imbalanced data"
   ]
  },
  {
   "cell_type": "code",
   "execution_count": 94,
   "metadata": {
    "slideshow": {
     "slide_type": "slide"
    }
   },
   "outputs": [],
   "source": [
    "mltnb_metrics = valuations(y_test, y_pred_mltnb)"
   ]
  },
  {
   "cell_type": "markdown",
   "metadata": {},
   "source": [
    "#### Complement Naive Bayes"
   ]
  },
  {
   "cell_type": "code",
   "execution_count": 95,
   "metadata": {},
   "outputs": [],
   "source": [
    "cmpnb = ComplementNB()"
   ]
  },
  {
   "cell_type": "code",
   "execution_count": 96,
   "metadata": {},
   "outputs": [],
   "source": [
    "y_pred_cmpnb = base_model(X_train_transformed, y_train, X_test_transformed, cmpnb)"
   ]
  },
  {
   "cell_type": "code",
   "execution_count": 97,
   "metadata": {},
   "outputs": [
    {
     "name": "stdout",
     "output_type": "stream",
     "text": [
      "Confusion Matrix\n",
      "[[ 105   20  231   32]\n",
      " [  17  151  461   84]\n",
      " [  20   51 2267  259]\n",
      " [   4   11  259  774]]\n",
      "\n",
      "\n",
      "Classification Matrix\n",
      "              precision    recall  f1-score   support\n",
      "\n",
      "          -1       0.72      0.27      0.39       388\n",
      "           0       0.65      0.21      0.32       713\n",
      "           1       0.70      0.87      0.78      2597\n",
      "           2       0.67      0.74      0.70      1048\n",
      "\n",
      "    accuracy                           0.69      4746\n",
      "   macro avg       0.69      0.52      0.55      4746\n",
      "weighted avg       0.69      0.69      0.66      4746\n",
      "\n"
     ]
    }
   ],
   "source": [
    "scoring_metrics(y_test, y_pred_cmpnb)"
   ]
  },
  {
   "cell_type": "markdown",
   "metadata": {},
   "source": [
    "Better performer as compared to MultiNonmial NB"
   ]
  },
  {
   "cell_type": "code",
   "execution_count": 98,
   "metadata": {
    "slideshow": {
     "slide_type": "slide"
    }
   },
   "outputs": [],
   "source": [
    "cmpnb_metrics = valuations(y_test, y_pred_cmpnb)"
   ]
  },
  {
   "cell_type": "markdown",
   "metadata": {
    "colab_type": "text",
    "id": "vDu7C9NmH-Cv"
   },
   "source": [
    "### Decision Tree"
   ]
  },
  {
   "cell_type": "code",
   "execution_count": 99,
   "metadata": {
    "colab": {},
    "colab_type": "code",
    "id": "1TL7P0UpH-Cv"
   },
   "outputs": [],
   "source": [
    "dt = DecisionTreeClassifier()"
   ]
  },
  {
   "cell_type": "code",
   "execution_count": 100,
   "metadata": {},
   "outputs": [],
   "source": [
    "y_pred_dt = base_model(X_train_transformed, y_train, X_test_transformed, dt)"
   ]
  },
  {
   "cell_type": "code",
   "execution_count": 101,
   "metadata": {},
   "outputs": [
    {
     "name": "stdout",
     "output_type": "stream",
     "text": [
      "Confusion Matrix\n",
      "[[  46   81  171   90]\n",
      " [  45  203  267  198]\n",
      " [ 108  292 1380  817]\n",
      " [  17   68  254  709]]\n",
      "\n",
      "\n",
      "Classification Matrix\n",
      "              precision    recall  f1-score   support\n",
      "\n",
      "          -1       0.21      0.12      0.15       388\n",
      "           0       0.32      0.28      0.30       713\n",
      "           1       0.67      0.53      0.59      2597\n",
      "           2       0.39      0.68      0.50      1048\n",
      "\n",
      "    accuracy                           0.49      4746\n",
      "   macro avg       0.40      0.40      0.38      4746\n",
      "weighted avg       0.52      0.49      0.49      4746\n",
      "\n"
     ]
    }
   ],
   "source": [
    "scoring_metrics(y_test, y_pred_dt)"
   ]
  },
  {
   "cell_type": "markdown",
   "metadata": {},
   "source": [
    "DISCUSSION OF RESULTS"
   ]
  },
  {
   "cell_type": "code",
   "execution_count": 102,
   "metadata": {
    "slideshow": {
     "slide_type": "slide"
    }
   },
   "outputs": [],
   "source": [
    "dt_metrics = valuations(y_test, y_pred_dt)"
   ]
  },
  {
   "cell_type": "markdown",
   "metadata": {
    "colab_type": "text",
    "id": "M9c4FXjQH-C5"
   },
   "source": [
    "### Neural Networks"
   ]
  },
  {
   "cell_type": "code",
   "execution_count": null,
   "metadata": {
    "colab": {},
    "colab_type": "code",
    "id": "HaQBS32UH-C5"
   },
   "outputs": [],
   "source": []
  },
  {
   "cell_type": "code",
   "execution_count": null,
   "metadata": {
    "colab": {},
    "colab_type": "code",
    "id": "U4gODAU7H-DJ"
   },
   "outputs": [],
   "source": []
  },
  {
   "cell_type": "markdown",
   "metadata": {
    "colab_type": "text",
    "id": "wovWkQBLH-DO"
   },
   "source": [
    "## Ensemble models"
   ]
  },
  {
   "cell_type": "markdown",
   "metadata": {
    "colab_type": "text",
    "id": "QyWYeYHLH-DO"
   },
   "source": [
    "### RandomForestClassifier"
   ]
  },
  {
   "cell_type": "code",
   "execution_count": 103,
   "metadata": {
    "colab": {},
    "colab_type": "code",
    "id": "1TL7P0UpH-Cv"
   },
   "outputs": [],
   "source": [
    "rf = RandomForestClassifier()"
   ]
  },
  {
   "cell_type": "code",
   "execution_count": 104,
   "metadata": {},
   "outputs": [],
   "source": [
    "y_pred_rf = base_model(X_train_transformed, y_train, X_test_transformed, rf)"
   ]
  },
  {
   "cell_type": "code",
   "execution_count": 105,
   "metadata": {},
   "outputs": [
    {
     "name": "stdout",
     "output_type": "stream",
     "text": [
      "Confusion Matrix\n",
      "[[  34   43  274   37]\n",
      " [   1  200  429   83]\n",
      " [   2   78 2210  307]\n",
      " [   0   24  351  673]]\n",
      "\n",
      "\n",
      "Classification Matrix\n",
      "              precision    recall  f1-score   support\n",
      "\n",
      "          -1       0.92      0.09      0.16       388\n",
      "           0       0.58      0.28      0.38       713\n",
      "           1       0.68      0.85      0.75      2597\n",
      "           2       0.61      0.64      0.63      1048\n",
      "\n",
      "    accuracy                           0.66      4746\n",
      "   macro avg       0.70      0.47      0.48      4746\n",
      "weighted avg       0.67      0.66      0.62      4746\n",
      "\n"
     ]
    }
   ],
   "source": [
    "scoring_metrics(y_test, y_pred_rf)"
   ]
  },
  {
   "cell_type": "markdown",
   "metadata": {},
   "source": [
    "DISCUSSION OF RESULTS"
   ]
  },
  {
   "cell_type": "code",
   "execution_count": 106,
   "metadata": {
    "slideshow": {
     "slide_type": "slide"
    }
   },
   "outputs": [],
   "source": [
    "dt_metrics = valuations(y_test, y_pred_rf)"
   ]
  },
  {
   "cell_type": "markdown",
   "metadata": {
    "colab_type": "text",
    "id": "A6bFSYIlH-DW"
   },
   "source": [
    "### VotingClassifier"
   ]
  },
  {
   "cell_type": "code",
   "execution_count": null,
   "metadata": {
    "colab": {},
    "colab_type": "code",
    "id": "SQCVRzoXH-DX"
   },
   "outputs": [],
   "source": []
  },
  {
   "cell_type": "code",
   "execution_count": null,
   "metadata": {
    "colab": {},
    "colab_type": "code",
    "id": "xgIl_HpRH-DZ"
   },
   "outputs": [],
   "source": []
  },
  {
   "cell_type": "markdown",
   "metadata": {
    "colab_type": "text",
    "id": "ZmECGYzQH-Db"
   },
   "source": [
    "### BaggingClassifier"
   ]
  },
  {
   "cell_type": "code",
   "execution_count": null,
   "metadata": {
    "colab": {},
    "colab_type": "code",
    "id": "IzXpNU0QH-Dc"
   },
   "outputs": [],
   "source": []
  },
  {
   "cell_type": "code",
   "execution_count": null,
   "metadata": {
    "colab": {},
    "colab_type": "code",
    "id": "KHcsaHaPH-Dm"
   },
   "outputs": [],
   "source": []
  },
  {
   "cell_type": "markdown",
   "metadata": {
    "colab_type": "text",
    "id": "LqgDixDzH-Dp"
   },
   "source": [
    "# Balancing the data"
   ]
  },
  {
   "cell_type": "markdown",
   "metadata": {
    "colab_type": "text",
    "id": "ASGUybFHH-Dq"
   },
   "source": [
    "## Downsampling"
   ]
  },
  {
   "cell_type": "code",
   "execution_count": null,
   "metadata": {
    "colab": {},
    "colab_type": "code",
    "id": "dWLS2zIiH-Dq"
   },
   "outputs": [],
   "source": []
  },
  {
   "cell_type": "code",
   "execution_count": null,
   "metadata": {
    "colab": {},
    "colab_type": "code",
    "id": "Xkf4ls91H-D4"
   },
   "outputs": [],
   "source": []
  },
  {
   "cell_type": "markdown",
   "metadata": {
    "colab_type": "text",
    "id": "prQote70H-D-"
   },
   "source": [
    "## Upsampling"
   ]
  },
  {
   "cell_type": "code",
   "execution_count": null,
   "metadata": {
    "colab": {},
    "colab_type": "code",
    "id": "Or7AjLY3H-D_"
   },
   "outputs": [],
   "source": []
  },
  {
   "cell_type": "code",
   "execution_count": null,
   "metadata": {
    "colab": {},
    "colab_type": "code",
    "id": "l30jL1MOH-EC"
   },
   "outputs": [],
   "source": []
  },
  {
   "cell_type": "markdown",
   "metadata": {
    "colab_type": "text",
    "id": "anCXlakzH-EF"
   },
   "source": [
    "## SMOTE"
   ]
  },
  {
   "cell_type": "code",
   "execution_count": null,
   "metadata": {
    "colab": {},
    "colab_type": "code",
    "id": "m1KNWDETH-EG"
   },
   "outputs": [],
   "source": []
  },
  {
   "cell_type": "code",
   "execution_count": null,
   "metadata": {
    "colab": {},
    "colab_type": "code",
    "id": "6PsFa9-gH-EN"
   },
   "outputs": [],
   "source": []
  },
  {
   "cell_type": "code",
   "execution_count": null,
   "metadata": {
    "colab": {},
    "colab_type": "code",
    "id": "PWGmglcuH-EQ"
   },
   "outputs": [],
   "source": []
  },
  {
   "cell_type": "markdown",
   "metadata": {
    "colab_type": "text",
    "id": "XFxh0aaYH-ET"
   },
   "source": [
    "# Results"
   ]
  },
  {
   "cell_type": "code",
   "execution_count": null,
   "metadata": {
    "colab": {},
    "colab_type": "code",
    "id": "l6Vi9-f0H-EU"
   },
   "outputs": [],
   "source": []
  },
  {
   "cell_type": "code",
   "execution_count": null,
   "metadata": {
    "colab": {},
    "colab_type": "code",
    "id": "ZX2sC6FBH-EZ"
   },
   "outputs": [],
   "source": []
  },
  {
   "cell_type": "code",
   "execution_count": null,
   "metadata": {
    "colab": {},
    "colab_type": "code",
    "id": "ciXlLrY6H-Ee"
   },
   "outputs": [],
   "source": []
  },
  {
   "cell_type": "markdown",
   "metadata": {
    "colab_type": "text",
    "id": "EObYSWaFH-Ek"
   },
   "source": [
    "# Conclusion"
   ]
  },
  {
   "cell_type": "code",
   "execution_count": null,
   "metadata": {
    "colab": {},
    "colab_type": "code",
    "id": "cnGFMCdQH-Ek"
   },
   "outputs": [],
   "source": []
  },
  {
   "cell_type": "code",
   "execution_count": null,
   "metadata": {},
   "outputs": [],
   "source": []
  },
  {
   "cell_type": "markdown",
   "metadata": {
    "colab": {},
    "colab_type": "code",
    "id": "14Fh145pH-Es"
   },
   "source": [
    "The earth climates is changing very fast and differently nowadays climate changes in our earth are affecting our lives psychologically, physically and emotionally. some see it as a natural occurrence and others see it as a man made catastrophe, the fact is simple that the world climate is changing What is climate change? Climate change is the seasonal changes for a long period of time in the world. The climate patterns effect our economies and ecosystems For example, the changes in climate can affect how people, plants and animal live, such as food production and health risks.\n",
    "\n",
    "The Earth’s climate is very broad and always changing causing a good deal concern for us as humans.However, what are the causes and effects of climate changes that affecting our lives and environment?\n",
    "\n",
    "There are two main causes of climate changes – natural causes and human activities. Natural causes have influenced the earth’s climates such as volcanic eruptions, ocean current, the earth’s orbital changes and solar variations.\n",
    "\n",
    "All the causes are giving a great impact for climate changes in our earth.the consequences We can see that there are three main effects on climate changes in our environment. Firstly, climate change in the world affects human health. There are so many past researches showed that climate change will leads to human health and producing diseases. Secondly, climate changes will also affect the biodiversity. Biodiversity is very important for the plants and animals to maintain their habitat and ecosystem. The climate changes have impacted the loss of biodiversity.\n",
    "\n",
    "When we have a look at our Neutral occurrence sentiment graph each of these topics are becoming more and more relevant each day and rightfully so.This has made the “#climate” thee most talked about topic on the news and social media"
   ]
  },
  {
   "cell_type": "markdown",
   "metadata": {
    "colab_type": "text",
    "id": "dREF3_ClH-Ev"
   },
   "source": [
    "The causes and effects of climate change are very clear at this point but what can we do? Firstly, the government can help the communities and businesses to reduce deforestation, plant new trees in the forest and empty land, earn sustainable livelihoods and adapt to changing climatic conditions. Next, teachers in lecturers in schools and tertiaries must give the knowledge of how to protect our earth from the very young age of the children and students. One of the reasons that caused the climate changes is the emission of carbon dioxide from the vehicles. Also, our famous political leaders and news channels also have to remove themselves from the anti class and lead by example. We ourselves can reduce the uses of vehicles and car-pooling in our daily lives.You can start practicing at home by switching off any electrical appliances when not in use this will help conserve energy\n",
    "\n",
    "Conclusion there are many effects of climate changes that seriously affecting our environment, health and biodiversities. If we still have not take any actions to prevent the climate changes, our mother earth will be become sick more seriously.If not there will be serious environmental concerns . We need to protect our environment and give our next generation to have a better place to stay, we must always know how to prevent the climate changes such as stop cutting off the trees, save energy, car-pooling, etc. Therefore, let us keep our Mother Earth healthy"
   ]
  }
 ],
 "metadata": {
  "colab": {
   "include_colab_link": true,
   "name": "Classification_submission_file.ipynb",
   "provenance": [],
   "toc_visible": true
  },
  "kernelspec": {
   "display_name": "Python 3",
   "language": "python",
   "name": "python3"
  },
  "language_info": {
   "codemirror_mode": {
    "name": "ipython",
    "version": 3
   },
   "file_extension": ".py",
   "mimetype": "text/x-python",
   "name": "python",
   "nbconvert_exporter": "python",
   "pygments_lexer": "ipython3",
   "version": "3.7.3"
  },
  "toc": {
   "base_numbering": 1,
   "nav_menu": {},
   "number_sections": true,
   "sideBar": true,
   "skip_h1_title": false,
   "title_cell": "Table of Contents",
   "title_sidebar": "Contents",
   "toc_cell": true,
   "toc_position": {
    "height": "calc(100% - 180px)",
    "left": "10px",
    "top": "150px",
    "width": "275px"
   },
   "toc_section_display": true,
   "toc_window_display": false
  }
 },
 "nbformat": 4,
 "nbformat_minor": 1
}
